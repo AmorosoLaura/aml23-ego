{
 "cells": [
  {
   "metadata": {},
   "cell_type": "markdown",
   "source": "## Epic kitchen",
   "id": "5cd103ec49d743a3"
  },
  {
   "metadata": {},
   "cell_type": "markdown",
   "source": "#### Feature extraction script",
   "id": "88bbd56a11a4d043"
  },
  {
   "metadata": {},
   "cell_type": "markdown",
   "source": "The script extract the features for 5, 10 and 25 num frames per clip",
   "id": "b9fbc7a388f05bb2"
  },
  {
   "metadata": {},
   "cell_type": "code",
   "source": [
    "%%bash\n",
    "\n",
    "python3 save_feat.py name=feature_extraction_D1 \\\n",
    "  config=configs/I3D_save_feat.yaml \\\n",
    "  dataset.shift=D1-D1 \\\n",
    "  dataset.RGB.data_path=../ek_data/frames "
   ],
   "id": "e27164192932022",
   "outputs": [],
   "execution_count": null
  },
  {
   "metadata": {},
   "cell_type": "markdown",
   "source": "#### Model training",
   "id": "8f507c86877d6c74"
  },
  {
   "metadata": {},
   "cell_type": "markdown",
   "source": "Indicate shift, num frames per clip and model to use",
   "id": "32241bbc653b2fe5"
  },
  {
   "metadata": {},
   "cell_type": "code",
   "source": [
    "\n",
    "%%bash\n",
    "\n",
    "python3 train_classifier_ek.py name=model_name \\\n",
    "  config=configs/default.yaml \\\n",
    "  dataset.shift=D1-D1 \\\n",
    "  dataset.train.num_frames_per_clip.RGB=5 \\\n",
    "  dataset.models.RGB=TRN_classifier"
   ],
   "id": "d69cda3bf11ff251",
   "outputs": [],
   "execution_count": null
  },
  {
   "metadata": {},
   "cell_type": "markdown",
   "source": "## Action net",
   "id": "1becac1540863443"
  },
  {
   "metadata": {},
   "cell_type": "markdown",
   "source": "#### Action net frame extraction",
   "id": "dd5f6841c4192ef0"
  },
  {
   "metadata": {},
   "cell_type": "code",
   "outputs": [],
   "execution_count": null,
   "source": [
    "%%bash\n",
    "\n",
    "ffmpeg -i action-net/video/S04_video.mp4 -vf \"fps=30,scale=456:256\" -q:v 2 action-net/frames/S04_1/frame_%010d.jpg"
   ],
   "id": "initial_id"
  },
  {
   "metadata": {},
   "cell_type": "markdown",
   "source": [
    "#### Feature rgb extraction\n",
    "Indicate num frames per clip"
   ],
   "id": "2c1ac95cbad15530"
  },
  {
   "cell_type": "code",
   "source": [
    "%%bash\n",
    "\n",
    "python3 save_feat_action_net.py\n",
    "  config=configs/I3D_save_feat_an.yaml \\\n",
    "  split=train \\\n",
    "  dataset.train.num_frames_per_clip.RGB=25 \\"
   ],
   "metadata": {
    "collapsed": false
   },
   "id": "79e7a82f5923f8c",
   "outputs": [],
   "execution_count": null
  },
  {
   "cell_type": "code",
   "source": [
    "%%bash\n",
    "\n",
    "python3 save_feat_action_net.py\n",
    "  config=configs/I3D_save_feat_an.yaml \\\n",
    "  split=test \\\n",
    "  dataset.train.num_frames_per_clip.RGB=25 \\"
   ],
   "metadata": {
    "collapsed": false
   },
   "id": "1cfe14a1c20ba95",
   "outputs": [],
   "execution_count": null
  },
  {
   "metadata": {},
   "cell_type": "markdown",
   "source": "#### Model training",
   "id": "42e4ea77e6012e6d"
  },
  {
   "metadata": {},
   "cell_type": "code",
   "source": [
    "%%bash\n",
    "\n",
    "python3 train_classifier.py name=train_model_rgb \\\n",
    "  config=configs/default_an_rgb.yaml \\\n",
    "  train.dense_sampling.RGB=True \\\n",
    "  train.num_frames_per_clip.RGB=25 \\\n",
    "  dataset.models.RGB=TRN_classifier"
   ],
   "id": "8f6ed977d2987778",
   "outputs": [],
   "execution_count": null
  },
  {
   "metadata": {},
   "cell_type": "markdown",
   "source": "#### Multimodal model",
   "id": "70b5fda69a888d6b"
  },
  {
   "cell_type": "code",
   "source": [
    "%%bash\n",
    "\n",
    "python3 train_classifier_multimodal.py name=multimodal \\\n",
    "  config=configs/multimodal_an.yaml \\\n",
    "  train.dense_sampling.RGB=True \\\n",
    "  train.num_frames_per_clip.RGB=25 \\\n",
    "  models.RGB.model=TRN_classifier \\\n",
    "  models.EMG.model=EMG_LSTM"
   ],
   "metadata": {
    "collapsed": false
   },
   "id": "ba757b05f0ceb888",
   "outputs": [],
   "execution_count": null
  }
 ],
 "metadata": {
  "kernelspec": {
   "display_name": "Python 3",
   "language": "python",
   "name": "python3"
  },
  "language_info": {
   "codemirror_mode": {
    "name": "ipython",
    "version": 2
   },
   "file_extension": ".py",
   "mimetype": "text/x-python",
   "name": "python",
   "nbconvert_exporter": "python",
   "pygments_lexer": "ipython2",
   "version": "2.7.6"
  }
 },
 "nbformat": 4,
 "nbformat_minor": 5
}
