{
 "cells": [
  {
   "cell_type": "code",
   "outputs": [],
   "source": [
    "!git clone https://github.com/GioC1810/aml23-ego.git aml23-ego\n",
    "!pip install omegaconf coloredlogs wandb"
   ],
   "metadata": {
    "collapsed": false
   },
   "id": "ad791b3e02b808b",
   "execution_count": null
  },
  {
   "cell_type": "code",
   "outputs": [],
   "source": [
    "%%bash\n",
    "\n",
    "cd aml23-ego\n",
    "\n",
    "python train_classifier.py name=trn_sample2_dropNo_dense_5 \\\n",
    "  config=configs/default.yaml \\\n",
    "  models.RGB.model=MLP_classifier \\\n",
    "  train.dense_sampling.RGB=True \\\n",
    "  train.num_frames_per_clip.RGB=5\n",
    "\n",
    "python train_classifier.py name=trn_sample2_dropNo_dense_10 \\\n",
    "  config=configs/default.yaml \\\n",
    "  models.RGB.model=MLP_classifier \\\n",
    "  train.dense_sampling.RGB=True \\\n",
    "  train.num_frames_per_clip.RGB=5\n",
    "\n",
    "python train_classifier.py name=trn_sample2_dropNo_dense_25 \\\n",
    "  config=configs/default.yaml \\\n",
    "  models.RGB.model=MLP_classifier \\\n",
    "  train.dense_sampling.RGB=True \\\n",
    "  train.num_frames_per_clip.RGB=25\n",
    "\n",
    "python train_classifier.py name=trn_sample2_dropNo_dense_5 \\\n",
    "  config=configs/default.yaml \\\n",
    "  models.RGB.model=MLP_classifier \\\n",
    "  train.dense_sampling.RGB=False \\\n",
    "  train.num_frames_per_clip.RGB=5\n",
    "\n",
    "python train_classifier.py name=trn_sample2_dropNo_dense_10 \\\n",
    "  config=configs/default.yaml \\\n",
    "  models.RGB.model=MLP_classifier \\\n",
    "  train.dense_sampling.RGB=False \\\n",
    "  train.num_frames_per_clip.RGB=10\n",
    "\n",
    "python train_classifier.py name=trn_sample2_dropNo_dense_25 \\\n",
    "  config=configs/default.yaml \\\n",
    "  models.RGB.model=MLP_classifier \\\n",
    "  train.dense_sampling.RGB=False \\\n",
    "  train.num_frames_per_clip.RGB=25"
   ],
   "metadata": {
    "collapsed": true
   },
   "id": "initial_id",
   "execution_count": 0
  },
  {
   "cell_type": "code",
   "source": [
    "%%bash\n",
    "\n",
    "python train_classifier.py name=trn_sample2_dropNo_dense_5 \\\n",
    "  config=configs/default.yaml \\\n",
    "  models.RGB.model=TRN_classifier \\\n",
    "  train.dense_sampling.RGB=True \\\n",
    "  train.num_frames_per_clip.RGB=5"
   ],
   "metadata": {
    "collapsed": false
   },
   "id": "7dfd2493a401eee2",
   "outputs": [],
   "execution_count": null
  }
 ],
 "metadata": {
  "kernelspec": {
   "display_name": "Python 3",
   "language": "python",
   "name": "python3"
  },
  "language_info": {
   "codemirror_mode": {
    "name": "ipython",
    "version": 2
   },
   "file_extension": ".py",
   "mimetype": "text/x-python",
   "name": "python",
   "nbconvert_exporter": "python",
   "pygments_lexer": "ipython2",
   "version": "2.7.6"
  }
 },
 "nbformat": 4,
 "nbformat_minor": 5
}
