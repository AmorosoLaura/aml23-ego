{
 "cells": [
  {
   "cell_type": "code",
   "source": [
    "!git clone https://github.com/GioC1810/aml23-ego.git aml23-ego\n",
    "!pip install omegaconf coloredlogs wandb"
   ],
   "metadata": {
    "collapsed": false
   },
   "id": "ad791b3e02b808b",
   "execution_count": null,
   "outputs": []
  },
  {
   "cell_type": "code",
   "source": [
    "%%bash\n",
    "\n",
    "num_frames=(5 10 25)\n",
    "dense_sampling=(\"True\" \"False\")\n",
    "dropout=(0 0.6)\n",
    "subsample_num=(2 3 4)\n",
    "\n",
    "for frames in ${num_frames[@]}\n",
    "do\n",
    "  for sampling in ${dense_sampling[@]}\n",
    "  do\n",
    "    for sub_sample in ${subsample_num[@]}\n",
    "    do\n",
    "      for drop in ${dropout[@]}\n",
    "      do\n",
    "        python3 train_classifier.py \\\n",
    "            config=configs/training_rgb.yaml \\\n",
    "            train.dense_sampling.RGB=$sampling \\\n",
    "            train.num_frames_per_clip.RGB=$frames \\\n",
    "            models.RGB.model=TRN_classifier \\\n",
    "            models.RGB.dropout=$drop \\\n",
    "            models.RGB.subsample_num=$sub_sample \\\n",
    "            models.RGB.num_layers=0\n",
    "      done\n",
    "    done\n",
    "  done\n",
    "done"
   ],
   "metadata": {
    "collapsed": true
   },
   "id": "initial_id",
   "outputs": [],
   "execution_count": null
  }
 ],
 "metadata": {
  "kernelspec": {
   "display_name": "Python 3",
   "language": "python",
   "name": "python3"
  },
  "language_info": {
   "codemirror_mode": {
    "name": "ipython",
    "version": 2
   },
   "file_extension": ".py",
   "mimetype": "text/x-python",
   "name": "python",
   "nbconvert_exporter": "python",
   "pygments_lexer": "ipython2",
   "version": "2.7.6"
  }
 },
 "nbformat": 4,
 "nbformat_minor": 5
}
