{
 "cells": [
  {
   "cell_type": "code",
   "execution_count": 14,
   "id": "f7288622a8212497",
   "metadata": {
    "ExecuteTime": {
     "end_time": "2024-05-22T08:00:58.302898Z",
     "start_time": "2024-05-22T08:00:57.691168Z"
    },
    "collapsed": false
   },
   "outputs": [],
   "source": [
    "import pickle\n",
    "from copy import deepcopy\n",
    "import math\n",
    "import pandas as pd\n",
    "\n",
    "activities_to_classify = {\n",
    "        'Get/replace items from refrigerator/cabinets/drawers': 0,\n",
    "        'Peel a cucumber': 1,\n",
    "        'Clear cutting board': 2,\n",
    "        'Slice a cucumber': 3,\n",
    "        'Peel a potato': 4,\n",
    "        'Slice a potato': 5,\n",
    "        'Slice bread': 6,\n",
    "        'Spread almond butter on a bread slice': 7,\n",
    "        'Spread jelly on a bread slice': 8,\n",
    "        'Open/close a jar of almond butter': 9,\n",
    "        'Pour water from a pitcher into a glass': 10,\n",
    "        'Clean a plate with a sponge': 11,\n",
    "        'Clean a plate with a towel': 12,\n",
    "        'Clean a pan with a sponge': 13,\n",
    "        'Clean a pan with a towel': 14,\n",
    "        'Get items from cabinets: 3 each large/small plates, bowls, mugs, glasses, sets of utensils': 15,\n",
    "        'Set table: 3 each large/small plates, bowls, mugs, glasses, sets of utensils': 16,\n",
    "        'Stack on table: 3 each large/small plates, bowls': 17,\n",
    "        'Load dishwasher: 3 each large/small plates, bowls, mugs, glasses, sets of utensils': 18,\n",
    "        'Unload dishwasher: 3 each large/small plates, bowls, mugs, glasses, sets of utensils': 19,\n",
    "}\n",
    "\n",
    "FPS = 30\n",
    "ACTION_LENGTH = 5\n",
    "\n",
    "def take_S04_annotations_RGB(timestamps, emg_data, type):\n",
    "    \n",
    "    calibration_val = pd.read_pickle(timestamps)['start'].iloc[0]\n",
    "\n",
    "    emg_data = pd.read_pickle(emg_data)\n",
    "    \n",
    "    emg_data = emg_data[emg_data['file'] == 'S04_1.pkl']\n",
    "    \n",
    "    emg_data = emg_data.rename(columns={'file': 'video_id', 'description': 'narration', 'description_class': 'verb_class'})\n",
    "    emg_data['participant_id'] = 'S04'\n",
    "    emg_data['video_id'] = 'S04_1'\n",
    "    emg_data['start_frame'] = ((emg_data['start'] - calibration_val) * FPS).astype(int)\n",
    "    emg_data['stop_frame'] = ((emg_data['stop'] - calibration_val) * FPS).astype(int)\n",
    "    emg_data['verb'] = emg_data['narration']\n",
    "    emg_data = emg_data.drop(['emg_data'], axis = 1)\n",
    "    emg_data = emg_data[\n",
    "        ['uid', 'participant_id', 'video_id', 'narration', 'start', 'stop', 'start_frame',\n",
    "         'stop_frame', 'verb', 'verb_class']]\n",
    "    \n",
    "    emg_data.to_pickle(f'an_annotations_rgb/S04_trial_{type}.pkl')    \n",
    "\n",
    "\n",
    "def create_multimodal_annotations(full_data, split, spectogram):\n",
    "    \n",
    "    full_data = pd.read_pickle(full_data)\n",
    "    full_data = full_data[full_data['file'] == 'S04_1.pkl']\n",
    "    full_data = full_data.rename(columns={'description_class': 'verb_class'})\n",
    "    full_data['participant_id'] = 'S04'\n",
    "    full_data['video_id'] = 'S04_1'\n",
    "    \n",
    "    create_emg_features(deepcopy(full_data), split, spectogram)\n",
    "    \n",
    "    final_annotations = full_data[\n",
    "        ['uid', 'participant_id', 'video_id', 'description', 'verb_class']]\n",
    "    \n",
    "    final_annotations.to_pickle(f\"an_multimodal_annotations/S04_{split}.pkl\")   \n",
    "\n",
    "def create_emg_features(full_data, split):\n",
    "    #os.chdir('./aml23-ego/EMG/')\n",
    "\n",
    "    full_data = pd.read_pickle(full_data)\n",
    "    #full_data = full_data[full_data['file'] == 'S04_1.pkl']\n",
    "    full_data = full_data.rename(columns={'emg_data': 'features_EMG'})\n",
    "\n",
    "    emg_features = full_data[\n",
    "        ['uid', 'features_EMG']]\n",
    "    emg_features = emg_features.to_dict(orient='index')\n",
    "    emg_features = {'features': list(emg_features.values())}\n",
    "\n",
    "    print(emg_features['features'][0]['features_EMG'].shape)\n",
    "    features_name = f'../saved_features_an_multimodal/features_emg_5s_S04_{split}.pkl'\n",
    "\n",
    "    full_data = full_data.rename(columns={'description_class': 'verb_class'})\n",
    "    features_annotations=full_data[['uid', 'description', 'verb_class']]\n",
    "    annotations_name=f'../../an_multimodal_annotations/allData_{split}.pkl'\n",
    "    '''     with open(features_name, 'wb') as f:\n",
    "        pickle.dump(emg_features, f)\n",
    "    '''\n",
    "    with open(annotations_name, 'wb') as f:\n",
    "        pickle.dump(features_annotations, f)\n",
    "        \n",
    "def create_emg_spec_features(full_data, split):\n",
    "    #print(os.getcwd())\n",
    "    full_data = pd.read_pickle(full_data)\n",
    "\n",
    "    full_data = full_data.rename(columns={'spectrogram': 'features_EMG_spectrogram'})\n",
    "\n",
    "    emg_features = full_data[\n",
    "        ['uid', 'features_EMG_spectrogram']]\n",
    "    emg_features= emg_features.to_dict(orient='index')\n",
    "    emg_features = {'features': list(emg_features.values())}\n",
    "    # Creazione del dizionario desiderato\n",
    "\n",
    "    features_name = f'../saved_features_an_multimodal/features_emg_5s_spectrogram_allData_{split}.pkl'\n",
    "\n",
    "    with open(features_name, 'wb') as f:\n",
    "        pickle.dump(emg_features, f)\n"
   ]
  },
  {
   "cell_type": "code",
   "execution_count": 5,
   "id": "c12888eac96f2059",
   "metadata": {
    "ExecuteTime": {
     "end_time": "2024-05-22T08:03:07.536179Z",
     "start_time": "2024-05-22T08:03:07.458672Z"
    },
    "collapsed": false
   },
   "outputs": [],
   "source": [
    "take_S04_annotations_RGB(timestamps='action-net/S04_1.pkl', emg_data='an_multimodal_annotations/emg_trial_test.pkl', type='test')\n",
    "take_S04_annotations_RGB(timestamps='action-net/S04_1.pkl', emg_data='an_multimodal_annotations/emg_trial_train.pkl', type='train')"
   ]
  },
  {
   "cell_type": "code",
   "execution_count": null,
   "id": "a8375367fedd5dee",
   "metadata": {
    "ExecuteTime": {
     "end_time": "2024-04-16T18:46:23.276885Z",
     "start_time": "2024-04-16T18:46:23.217221Z"
    },
    "collapsed": false
   },
   "outputs": [],
   "source": [
    "create_multimodal_annotations(full_data=\"new_emg_data_train.pkl\", split='train')\n",
    "create_multimodal_annotations(full_data=\"new_emg_data_test.pkl\", split='test')"
   ]
  },
  {
   "cell_type": "code",
   "execution_count": 15,
   "id": "449b9923",
   "metadata": {},
   "outputs": [
    {
     "name": "stdout",
     "output_type": "stream",
     "text": [
      "9937\n",
      "(50, 16)\n",
      "1109\n",
      "(50, 16)\n"
     ]
    }
   ],
   "source": [
    "create_emg_features(full_data=\"./emg_5s_train.pkl\", split='train')\n",
    "create_emg_features(full_data=\"./emg_5s_test.pkl\", split='test')"
   ]
  },
  {
   "cell_type": "code",
   "execution_count": 108,
   "id": "1d13b1a4f66adc26",
   "metadata": {
    "ExecuteTime": {
     "end_time": "2024-04-16T17:08:55.028127Z",
     "start_time": "2024-04-16T17:08:54.959225Z"
    },
    "collapsed": false
   },
   "outputs": [
    {
     "name": "stdout",
     "output_type": "stream",
     "text": [
      "test\n",
      "train\n"
     ]
    }
   ],
   "source": [
    "create_emg_spec_features(full_data=\"../EMG/EMG_data/emg_spectrogram_5s_test.pkl\",split='test')\n",
    "create_emg_spec_features(full_data=\"../EMG/EMG_data/emg_spectrogram_5s_train.pkl\", split='train')"
   ]
  }
 ],
 "metadata": {
  "kernelspec": {
   "display_name": "Python 3",
   "language": "python",
   "name": "python3"
  },
  "language_info": {
   "codemirror_mode": {
    "name": "ipython",
    "version": 3
   },
   "file_extension": ".py",
   "mimetype": "text/x-python",
   "name": "python",
   "nbconvert_exporter": "python",
   "pygments_lexer": "ipython3",
   "version": "3.10.13"
  }
 },
 "nbformat": 4,
 "nbformat_minor": 5
}
