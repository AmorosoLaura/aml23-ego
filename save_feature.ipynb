{
 "cells": [
  {
   "cell_type": "code",
   "execution_count": null,
   "id": "initial_id",
   "metadata": {
    "collapsed": true,
    "is_executing": true
   },
   "outputs": [],
   "source": [
    "%%bash\n",
    "\n",
    "# save feat extracts, for the sampling mode indicated in the I3D file, the feature with 3 diffferent num frames per clip (5, 10, 25)\n",
    "\n",
    "python save_feat.py name=saved_features \\\n",
    "  config=configs/I3D_save_feat.yaml "
   ]
  },
  {
   "cell_type": "code",
   "outputs": [
    {
     "name": "stderr",
     "output_type": "stream",
     "text": [
      "2024-03-09 18:18:20 LOG INFO Feature Extraction\n",
      "2024-03-09 18:18:20 LOG INFO Running with parameters: \n",
      "  action: save\n",
      "  name: features_action_net\n",
      "  modality: ['RGB']\n",
      "  total_batch: 128\n",
      "  batch_size: 32\n",
      "  gpus: None\n",
      "  wandb_name: None\n",
      "  resume_from: ./saved_models/I3D_SourceOnlyD3\n",
      "  logname: save_D3-S04.log\n",
      "  models_dir: models\n",
      "  aggregation: True\n",
      "  train:\n",
      "    num_iter: 5000\n",
      "    lr_steps: 3000\n",
      "    eval_freq: 50\n",
      "    num_clips: 5\n",
      "    dense_sampling:\n",
      "      RGB: True\n",
      "    num_frames_per_clip:\n",
      "      RGB: 5\n",
      "  test:\n",
      "    num_clips: 5\n",
      "    dense_sampling:\n",
      "      RGB: True\n",
      "    num_frames_per_clip:\n",
      "      RGB: 5\n",
      "  dataset:\n",
      "    annotations_path: action_net_annotations_extraction\n",
      "    shift: D3-S04\n",
      "    workers: 4\n",
      "    stride: 2\n",
      "    resolution: 224\n",
      "    num_classes: 8\n",
      "    RGB:\n",
      "      data_path: action-net/frames\n",
      "      tmpl: img_{:010d}.jpg\n",
      "      features_name: features_action_net\n",
      "    Event:\n",
      "      rgb4e: 6\n",
      "  models:\n",
      "    RGB:\n",
      "      model: I3D\n",
      "      normalize: False\n",
      "      kwargs:\n",
      "      lr_steps: 3000\n",
      "      lr: 0.01\n",
      "      sgd_momentum: 0.9\n",
      "      weight_decay: 1e-07\n",
      "      dropout: 0.5\n",
      "      resolution: 224\n",
      "      weight_i3d_rgb: ./pretrained_i3d/rgb_imagenet.pt\n",
      "  split: test\n",
      "  save:\n",
      "    num_clips: 5\n",
      "    dense_sampling:\n",
      "      RGB: True\n",
      "    num_frames_per_clip:\n",
      "      RGB: 25\n",
      "  config: configs/I3D_save_feat.yaml\n",
      "  experiment_dir: features_action_net/Mar09_18-18-18\n",
      "  log_dir: TEST_RESULTS/features_action_net\n",
      "  logfile: TEST_RESULTS/features_action_net/save_D3-S04.log\n",
      "2024-03-09 18:18:20 LOG INFO Instantiating models per modality\n",
      "2024-03-09 18:18:20 LOG INFO I3D Net\tModality: RGB\n",
      "2024-03-09 18:18:20 LOG INFO Loading Kinetics weights I3D\n",
      "2024-03-09 18:18:20 LOG INFO  * Skipping Logits weight for 'logits.conv3d.weight'\n",
      "2024-03-09 18:18:20 LOG INFO  * Skipping Logits weight for 'logits.conv3d.bias'\n",
      "2024-03-09 18:18:20 LOG INFO Restoring action-classifier for modality RGB from saved_models/I3D_SourceOnlyD3/Oct25_23-33-52/action-classifier_RGB_8.pth\n",
      "2024-03-09 18:18:20 LOG INFO RGB-Model for action-classifier restored at iter 4800.0\n",
      "Best accuracy on val: 72.28 at iter 4800.0\n",
      "Last accuracy on val: 72.28\n",
      "Last loss: 0.00\n",
      "2024-03-09 18:18:20 LOG INFO Dataloader for S04-test with 76 samples generated\n"
     ]
    }
   ],
   "source": [
    "%%bash\n",
    "\n",
    "python save_feat_action_net.py name=features_action_net \\\n",
    "  config=configs/I3D_save_feat.yaml \\\n",
    "  split=test \\\n",
    "  dataset.shift=D3-S04 \\\n",
    "  dataset.RGB.data_path=action-net/frames \\\n",
    "  dataset.annotations_path=action_net_annotations_extraction"
   ],
   "metadata": {
    "collapsed": false,
    "ExecuteTime": {
     "end_time": "2024-03-09T17:20:15.290868Z",
     "start_time": "2024-03-09T17:18:18.219707Z"
    }
   },
   "id": "79e7a82f5923f8c",
   "execution_count": 5
  },
  {
   "cell_type": "code",
   "outputs": [],
   "source": [],
   "metadata": {
    "collapsed": false
   },
   "id": "1cfe14a1c20ba95"
  }
 ],
 "metadata": {
  "kernelspec": {
   "display_name": "Python 3",
   "language": "python",
   "name": "python3"
  },
  "language_info": {
   "codemirror_mode": {
    "name": "ipython",
    "version": 2
   },
   "file_extension": ".py",
   "mimetype": "text/x-python",
   "name": "python",
   "nbconvert_exporter": "python",
   "pygments_lexer": "ipython2",
   "version": "2.7.6"
  }
 },
 "nbformat": 4,
 "nbformat_minor": 5
}
