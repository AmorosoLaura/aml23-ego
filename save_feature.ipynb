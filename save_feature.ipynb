{
 "cells": [
  {
   "cell_type": "code",
   "execution_count": null,
   "id": "initial_id",
   "metadata": {
    "collapsed": true,
    "is_executing": true
   },
   "outputs": [],
   "source": [
    "%%bash\n",
    "\n",
    "# save feat extracts, for the sampling mode indicated in the I3D file, the feature with 3 diffferent num frames per clip (5, 10, 25)\n",
    "\n",
    "python save_feat.py name=saved_features \\\n",
    "  config=configs/I3D_save_feat.yaml "
   ]
  },
  {
   "cell_type": "code",
   "outputs": [],
   "source": [
    "%%bash\n",
    "\n",
    "\n",
    "python save_feat_action_net.py name=features_action_net \\\n",
    "  config=configs/I3D_save_feat.yaml \\\n",
    "  dataset.shift=S04-S04 \\\n",
    "  dataset.RGB.data_path=action-net-frames \\\n",
    "  dataset.annotations_path=action_net_annotations"
   ],
   "metadata": {
    "collapsed": false
   },
   "id": "79e7a82f5923f8c",
   "execution_count": null
  },
  {
   "cell_type": "code",
   "outputs": [
    {
     "data": {
      "text/plain": "       uid participant_id video_id  \\\n0        0            S04   S04_01   \n1        1            S04   S04_01   \n2        2            S04   S04_01   \n3        3            S04   S04_01   \n4        4            S04   S04_01   \n...    ...            ...      ...   \n2090  2090            S04   S04_05   \n2091  2091            S04   S04_05   \n2092  2092            S04   S04_05   \n2093  2093            S04   S04_05   \n2094  2094            S04   S04_05   \n\n                                              narration  start_timestamp  \\\n0     Get/replace items from refrigerator/cabinets/d...       860.227273   \n1     Get/replace items from refrigerator/cabinets/d...       865.227273   \n2     Get/replace items from refrigerator/cabinets/d...       870.227273   \n3     Get/replace items from refrigerator/cabinets/d...       875.227273   \n4     Get/replace items from refrigerator/cabinets/d...       880.227273   \n...                                                 ...              ...   \n2090  Unload dishwasher: 3 each large/small plates, ...      3361.772727   \n2091  Unload dishwasher: 3 each large/small plates, ...      3366.772727   \n2092  Unload dishwasher: 3 each large/small plates, ...      3371.772727   \n2093  Unload dishwasher: 3 each large/small plates, ...      3376.772727   \n2094  Unload dishwasher: 3 each large/small plates, ...      3381.772727   \n\n      stop_timestamp  start_frame  stop_frame  \\\n0         865.181818        18925       19034   \n1         870.181818        19035       19144   \n2         875.181818        19145       19254   \n3         880.181818        19255       19364   \n4         885.181818        19365       19474   \n...              ...          ...         ...   \n2090     3366.727273        73959       74068   \n2091     3371.727273        74069       74178   \n2092     3376.727273        74179       74288   \n2093     3381.727273        74289       74398   \n2094     3385.681818        74399       74485   \n\n                                                   verb  verb_class   type  \n0     Get/replace items from refrigerator/cabinets/d...           0  train  \n1     Get/replace items from refrigerator/cabinets/d...           0  train  \n2     Get/replace items from refrigerator/cabinets/d...           0  train  \n3     Get/replace items from refrigerator/cabinets/d...           0  train  \n4     Get/replace items from refrigerator/cabinets/d...           0  train  \n...                                                 ...         ...    ...  \n2090  Unload dishwasher: 3 each large/small plates, ...          19  train  \n2091  Unload dishwasher: 3 each large/small plates, ...          19  train  \n2092  Unload dishwasher: 3 each large/small plates, ...          19  train  \n2093  Unload dishwasher: 3 each large/small plates, ...          19  train  \n2094  Unload dishwasher: 3 each large/small plates, ...          19  train  \n\n[1900 rows x 11 columns]",
      "text/html": "<div>\n<style scoped>\n    .dataframe tbody tr th:only-of-type {\n        vertical-align: middle;\n    }\n\n    .dataframe tbody tr th {\n        vertical-align: top;\n    }\n\n    .dataframe thead th {\n        text-align: right;\n    }\n</style>\n<table border=\"1\" class=\"dataframe\">\n  <thead>\n    <tr style=\"text-align: right;\">\n      <th></th>\n      <th>uid</th>\n      <th>participant_id</th>\n      <th>video_id</th>\n      <th>narration</th>\n      <th>start_timestamp</th>\n      <th>stop_timestamp</th>\n      <th>start_frame</th>\n      <th>stop_frame</th>\n      <th>verb</th>\n      <th>verb_class</th>\n      <th>type</th>\n    </tr>\n  </thead>\n  <tbody>\n    <tr>\n      <th>0</th>\n      <td>0</td>\n      <td>S04</td>\n      <td>S04_01</td>\n      <td>Get/replace items from refrigerator/cabinets/d...</td>\n      <td>860.227273</td>\n      <td>865.181818</td>\n      <td>18925</td>\n      <td>19034</td>\n      <td>Get/replace items from refrigerator/cabinets/d...</td>\n      <td>0</td>\n      <td>train</td>\n    </tr>\n    <tr>\n      <th>1</th>\n      <td>1</td>\n      <td>S04</td>\n      <td>S04_01</td>\n      <td>Get/replace items from refrigerator/cabinets/d...</td>\n      <td>865.227273</td>\n      <td>870.181818</td>\n      <td>19035</td>\n      <td>19144</td>\n      <td>Get/replace items from refrigerator/cabinets/d...</td>\n      <td>0</td>\n      <td>train</td>\n    </tr>\n    <tr>\n      <th>2</th>\n      <td>2</td>\n      <td>S04</td>\n      <td>S04_01</td>\n      <td>Get/replace items from refrigerator/cabinets/d...</td>\n      <td>870.227273</td>\n      <td>875.181818</td>\n      <td>19145</td>\n      <td>19254</td>\n      <td>Get/replace items from refrigerator/cabinets/d...</td>\n      <td>0</td>\n      <td>train</td>\n    </tr>\n    <tr>\n      <th>3</th>\n      <td>3</td>\n      <td>S04</td>\n      <td>S04_01</td>\n      <td>Get/replace items from refrigerator/cabinets/d...</td>\n      <td>875.227273</td>\n      <td>880.181818</td>\n      <td>19255</td>\n      <td>19364</td>\n      <td>Get/replace items from refrigerator/cabinets/d...</td>\n      <td>0</td>\n      <td>train</td>\n    </tr>\n    <tr>\n      <th>4</th>\n      <td>4</td>\n      <td>S04</td>\n      <td>S04_01</td>\n      <td>Get/replace items from refrigerator/cabinets/d...</td>\n      <td>880.227273</td>\n      <td>885.181818</td>\n      <td>19365</td>\n      <td>19474</td>\n      <td>Get/replace items from refrigerator/cabinets/d...</td>\n      <td>0</td>\n      <td>train</td>\n    </tr>\n    <tr>\n      <th>...</th>\n      <td>...</td>\n      <td>...</td>\n      <td>...</td>\n      <td>...</td>\n      <td>...</td>\n      <td>...</td>\n      <td>...</td>\n      <td>...</td>\n      <td>...</td>\n      <td>...</td>\n      <td>...</td>\n    </tr>\n    <tr>\n      <th>2090</th>\n      <td>2090</td>\n      <td>S04</td>\n      <td>S04_05</td>\n      <td>Unload dishwasher: 3 each large/small plates, ...</td>\n      <td>3361.772727</td>\n      <td>3366.727273</td>\n      <td>73959</td>\n      <td>74068</td>\n      <td>Unload dishwasher: 3 each large/small plates, ...</td>\n      <td>19</td>\n      <td>train</td>\n    </tr>\n    <tr>\n      <th>2091</th>\n      <td>2091</td>\n      <td>S04</td>\n      <td>S04_05</td>\n      <td>Unload dishwasher: 3 each large/small plates, ...</td>\n      <td>3366.772727</td>\n      <td>3371.727273</td>\n      <td>74069</td>\n      <td>74178</td>\n      <td>Unload dishwasher: 3 each large/small plates, ...</td>\n      <td>19</td>\n      <td>train</td>\n    </tr>\n    <tr>\n      <th>2092</th>\n      <td>2092</td>\n      <td>S04</td>\n      <td>S04_05</td>\n      <td>Unload dishwasher: 3 each large/small plates, ...</td>\n      <td>3371.772727</td>\n      <td>3376.727273</td>\n      <td>74179</td>\n      <td>74288</td>\n      <td>Unload dishwasher: 3 each large/small plates, ...</td>\n      <td>19</td>\n      <td>train</td>\n    </tr>\n    <tr>\n      <th>2093</th>\n      <td>2093</td>\n      <td>S04</td>\n      <td>S04_05</td>\n      <td>Unload dishwasher: 3 each large/small plates, ...</td>\n      <td>3376.772727</td>\n      <td>3381.727273</td>\n      <td>74289</td>\n      <td>74398</td>\n      <td>Unload dishwasher: 3 each large/small plates, ...</td>\n      <td>19</td>\n      <td>train</td>\n    </tr>\n    <tr>\n      <th>2094</th>\n      <td>2094</td>\n      <td>S04</td>\n      <td>S04_05</td>\n      <td>Unload dishwasher: 3 each large/small plates, ...</td>\n      <td>3381.772727</td>\n      <td>3385.681818</td>\n      <td>74399</td>\n      <td>74485</td>\n      <td>Unload dishwasher: 3 each large/small plates, ...</td>\n      <td>19</td>\n      <td>train</td>\n    </tr>\n  </tbody>\n</table>\n<p>1900 rows × 11 columns</p>\n</div>"
     },
     "execution_count": 7,
     "metadata": {},
     "output_type": "execute_result"
    }
   ],
   "source": [
    "import pandas as pd\n",
    "\n",
    "df = pd.read_pickle('action_net_annotations/S04_train.pkl')\n",
    "\n",
    "df"
   ],
   "metadata": {
    "collapsed": false,
    "ExecuteTime": {
     "end_time": "2024-02-13T09:41:30.067328Z",
     "start_time": "2024-02-13T09:41:30.047641Z"
    }
   },
   "id": "411943a981501cb2",
   "execution_count": 7
  },
  {
   "cell_type": "code",
   "outputs": [],
   "source": [],
   "metadata": {
    "collapsed": false
   },
   "id": "2348b9de7b777bdd"
  }
 ],
 "metadata": {
  "kernelspec": {
   "display_name": "Python 3",
   "language": "python",
   "name": "python3"
  },
  "language_info": {
   "codemirror_mode": {
    "name": "ipython",
    "version": 2
   },
   "file_extension": ".py",
   "mimetype": "text/x-python",
   "name": "python",
   "nbconvert_exporter": "python",
   "pygments_lexer": "ipython2",
   "version": "2.7.6"
  }
 },
 "nbformat": 4,
 "nbformat_minor": 5
}
