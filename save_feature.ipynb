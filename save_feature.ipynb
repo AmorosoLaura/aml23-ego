{
 "cells": [
  {
   "cell_type": "code",
   "execution_count": null,
   "id": "initial_id",
   "metadata": {
    "collapsed": true,
    "is_executing": true
   },
   "outputs": [],
   "source": [
    "%%bash\n",
    "\n",
    "# save feat extracts, for the sampling mode indicated in the I3D file, the feature with 3 diffferent num frames per clip (5, 10, 25)\n",
    "\n",
    "python save_feat.py name=saved_features \\\n",
    "  config=configs/I3D_save_feat.yaml "
   ]
  },
  {
   "cell_type": "code",
   "outputs": [
    {
     "name": "stderr",
     "output_type": "stream",
     "text": [
      "2024-02-13 19:23:28 LOG INFO Feature Extraction\n",
      "2024-02-13 19:23:28 LOG INFO Running with parameters: \n",
      "  action: save\n",
      "  name: features_action_net\n",
      "  modality: ['RGB']\n",
      "  total_batch: 128\n",
      "  batch_size: 32\n",
      "  gpus: None\n",
      "  wandb_name: None\n",
      "  resume_from: None\n",
      "  logname: save_S04-S04.log\n",
      "  models_dir: models\n",
      "  aggregation: True\n",
      "  train:\n",
      "    num_iter: 5000\n",
      "    lr_steps: 3000\n",
      "    eval_freq: 50\n",
      "    num_clips: 5\n",
      "    dense_sampling:\n",
      "      RGB: True\n",
      "    num_frames_per_clip:\n",
      "      RGB: 5\n",
      "  test:\n",
      "    num_clips: 5\n",
      "    dense_sampling:\n",
      "      RGB: True\n",
      "    num_frames_per_clip:\n",
      "      RGB: 5\n",
      "  dataset:\n",
      "    annotations_path: action_net_annotations\n",
      "    shift: S04-S04\n",
      "    workers: 4\n",
      "    stride: 2\n",
      "    resolution: 224\n",
      "    RGB:\n",
      "      data_path: action-net/frames\n",
      "      tmpl: img_{:010d}.jpg\n",
      "      features_name: features_action_net\n",
      "    Event:\n",
      "      rgb4e: 6\n",
      "  models:\n",
      "    RGB:\n",
      "      model: I3D\n",
      "      normalize: False\n",
      "      kwargs:\n",
      "      lr_steps: 3000\n",
      "      lr: 0.01\n",
      "      sgd_momentum: 0.9\n",
      "      weight_decay: 1e-07\n",
      "      dropout: 0.5\n",
      "      resolution: 224\n",
      "      weight_i3d_rgb: ./pretrained_i3d/rgb_imagenet.pt\n",
      "  split: test\n",
      "  save:\n",
      "    num_clips: 5\n",
      "    dense_sampling:\n",
      "      RGB: True\n",
      "    num_frames_per_clip:\n",
      "      RGB: 25\n",
      "  config: configs/I3D_save_feat.yaml\n",
      "  experiment_dir: features_action_net/Feb13_19-23-25\n",
      "  log_dir: TEST_RESULTS/features_action_net\n",
      "  logfile: TEST_RESULTS/features_action_net/save_S04-S04.log\n",
      "2024-02-13 19:23:28 LOG INFO Instantiating models per modality\n",
      "2024-02-13 19:23:28 LOG INFO I3D Net\tModality: RGB\n",
      "2024-02-13 19:23:28 LOG INFO Loading Kinetics weights I3D\n",
      "2024-02-13 19:23:28 LOG INFO  * Skipping Logits weight for 'logits.conv3d.weight'\n",
      "2024-02-13 19:23:28 LOG INFO  * Skipping Logits weight for 'logits.conv3d.bias'\n",
      "2024-02-13 19:23:28 LOG INFO Dataloader for S04-test with 39 samples generated\n",
      "2024-02-13 19:23:35 LOG INFO [7/39] top1= 0.000% top5 = 0.000%\n",
      "2024-02-13 19:23:39 LOG INFO [14/39] top1= 14.286% top5 = 28.571%\n",
      "2024-02-13 19:23:43 LOG INFO [21/39] top1= 14.286% top5 = 33.333%\n",
      "2024-02-13 19:23:47 LOG INFO [28/39] top1= 10.714% top5 = 25.000%\n",
      "2024-02-13 19:23:51 LOG INFO [35/39] top1= 8.571% top5 = 20.000%\n",
      "2024-02-13 19:24:13 LOG INFO Dataloader for S04-test with 39 samples generated\n",
      "2024-02-13 19:24:23 LOG INFO [7/39] top1= 0.000% top5 = 0.000%\n",
      "2024-02-13 19:24:30 LOG INFO [14/39] top1= 7.143% top5 = 28.571%\n",
      "2024-02-13 19:24:36 LOG INFO [21/39] top1= 9.524% top5 = 33.333%\n",
      "2024-02-13 19:24:42 LOG INFO [28/39] top1= 7.143% top5 = 25.000%\n",
      "2024-02-13 19:24:49 LOG INFO [35/39] top1= 5.714% top5 = 20.000%\n",
      "2024-02-13 19:25:13 LOG INFO Dataloader for S04-test with 39 samples generated\n",
      "2024-02-13 19:25:31 LOG INFO [7/39] top1= 0.000% top5 = 0.000%\n",
      "2024-02-13 19:25:45 LOG INFO [14/39] top1= 14.286% top5 = 28.571%\n",
      "2024-02-13 19:25:59 LOG INFO [21/39] top1= 14.286% top5 = 38.095%\n",
      "2024-02-13 19:26:13 LOG INFO [28/39] top1= 10.714% top5 = 28.571%\n",
      "2024-02-13 19:26:27 LOG INFO [35/39] top1= 8.571% top5 = 22.857%\n"
     ]
    }
   ],
   "source": [
    "%%bash\n",
    "\n",
    "python save_feat_action_net.py name=features_action_net \\\n",
    "  config=configs/I3D_save_feat.yaml \\\n",
    "  split=test \\\n",
    "  dataset.shift=S04-S04 \\\n",
    "  dataset.RGB.data_path=action-net/frames \\\n",
    "  dataset.annotations_path=action_net_annotations"
   ],
   "metadata": {
    "collapsed": false,
    "ExecuteTime": {
     "end_time": "2024-02-13T18:26:58.552216Z",
     "start_time": "2024-02-13T18:23:25.831808Z"
    }
   },
   "id": "79e7a82f5923f8c",
   "execution_count": 18
  },
  {
   "cell_type": "code",
   "outputs": [],
   "source": [],
   "metadata": {
    "collapsed": false
   },
   "id": "abb50e3f57deeab0"
  }
 ],
 "metadata": {
  "kernelspec": {
   "display_name": "Python 3",
   "language": "python",
   "name": "python3"
  },
  "language_info": {
   "codemirror_mode": {
    "name": "ipython",
    "version": 2
   },
   "file_extension": ".py",
   "mimetype": "text/x-python",
   "name": "python",
   "nbconvert_exporter": "python",
   "pygments_lexer": "ipython2",
   "version": "2.7.6"
  }
 },
 "nbformat": 4,
 "nbformat_minor": 5
}
