{
 "cells": [
  {
   "cell_type": "code",
   "outputs": [],
   "source": [
    "import pickle\n",
    "import pandas as pd\n",
    "import numpy as np\n",
    "from copy import deepcopy\n",
    "import math\n",
    "from sklearn.model_selection import train_test_split\n",
    "\n",
    "activities_to_classify = {\n",
    "        'Get/replace items from refrigerator/cabinets/drawers': 0,\n",
    "        'Peel a cucumber': 1,\n",
    "        'Clear cutting board': 2,\n",
    "        'Slice a cucumber': 3,\n",
    "        'Peel a potato': 4,\n",
    "        'Slice a potato': 5,\n",
    "        'Slice bread': 6,\n",
    "        'Spread almond butter on a bread slice': 7,\n",
    "        'Spread jelly on a bread slice': 8,\n",
    "        'Open/close a jar of almond butter': 9,\n",
    "        'Pour water from a pitcher into a glass': 10,\n",
    "        'Clean a plate with a sponge': 11,\n",
    "        'Clean a plate with a towel': 12,\n",
    "        'Clean a pan with a sponge': 13,\n",
    "        'Clean a pan with a towel': 14,\n",
    "        'Get items from cabinets: 3 each large/small plates, bowls, mugs, glasses, sets of utensils': 15,\n",
    "        'Set table: 3 each large/small plates, bowls, mugs, glasses, sets of utensils': 16,\n",
    "        'Stack on table: 3 each large/small plates, bowls': 17,\n",
    "        'Load dishwasher: 3 each large/small plates, bowls, mugs, glasses, sets of utensils': 18,\n",
    "        'Unload dishwasher: 3 each large/small plates, bowls, mugs, glasses, sets of utensils': 19,\n",
    "}\n",
    "\n",
    "FPS = 30\n",
    "ACTION_LENGTH = 5\n",
    "\n",
    "def augmentation(data_frame):\n",
    "    augmented_data = []\n",
    "\n",
    "    for _, row in data_frame.iterrows():\n",
    "        start_frame = row['start_frame']\n",
    "        stop_frame = row['stop_frame']\n",
    "        interval_size = FPS * ACTION_LENGTH \n",
    "\n",
    "        num_intervals = math.ceil((stop_frame - start_frame + 1) / interval_size)\n",
    "\n",
    "        for i in range(num_intervals):\n",
    "            new_start = start_frame + i * interval_size\n",
    "            new_stop = min(new_start + interval_size - 1, stop_frame)  \n",
    "            new_row = row.copy()\n",
    "            new_row['start_frame'] = new_start\n",
    "            new_row['stop_frame'] = new_stop\n",
    "            new_row['start_timestamp'] = new_start/FPS\n",
    "            new_row['stop_timestamp'] = new_stop/FPS\n",
    "            augmented_data.append(new_row)\n",
    "\n",
    "    augmented_dataframe = pd.DataFrame(augmented_data, columns=data_frame.columns)\n",
    "    augmented_dataframe.reset_index(drop=True, inplace=True)\n",
    "\n",
    "    return augmented_dataframe\n",
    "\n",
    "def create_annotations_file(timestamp_file, annotations_file, type='train'):\n",
    "\n",
    "    timestamps = pd.read_pickle(timestamp_file)\n",
    "    timestamps = timestamps.drop(\n",
    "        ['myo_left_timestamps', 'myo_right_timestamps', 'myo_left_readings', 'myo_right_readings'], axis=1)\n",
    "    timestamps = timestamps.reset_index()\n",
    "\n",
    "    start_timestamp = timestamps['start'].iloc[0]\n",
    "    timestamps['start_frame'] = ((timestamps['start'] - start_timestamp) * FPS).astype(int)\n",
    "    timestamps['stop_frame'] = ((timestamps['stop'] - start_timestamp) * FPS).astype(int)\n",
    "    \n",
    "    annotations = pd.read_pickle(annotations_file)\n",
    "    annotations = annotations[annotations['file'] == 'S04_1.pkl']\n",
    "    annotations = annotations.drop(['labels'], axis=1)\n",
    "    \n",
    "    complete_labels = pd.merge(timestamps, annotations, on='index', how='inner')\n",
    "    \n",
    "    complete_labels['uid'] = complete_labels['index']\n",
    "    complete_labels['participant_id'] = 'S04'\n",
    "    complete_labels['video_id'] = 'S04_1'\n",
    "    complete_labels['verb'] = complete_labels['description_x']\n",
    "    complete_labels['narration'] = complete_labels['description_x']\n",
    "    complete_labels['verb_class'] = complete_labels['verb'].map(activities_to_classify)\n",
    "\n",
    "    complete_labels = complete_labels[\n",
    "        ['uid', 'participant_id', 'video_id', 'narration', 'start', 'stop', 'start_frame',\n",
    "         'stop_frame', 'verb', 'verb_class']]\n",
    "    \n",
    "    complete_labels['type'] = type\n",
    "    \n",
    "    return complete_labels\n",
    "\n",
    "def change_uid_to_emg(emg_data, split):\n",
    "    emg_data = pd.read_pickle(emg_data)\n",
    "    emg_data['uid'] = emg_data.reset_index().index + 1\n",
    "    emg_data.to_pickle(f'new_emg_data_{split}.pkl')    \n",
    "\n",
    "\n",
    "def take_S04_annotations_RGB(timestamps, emg_data, type):\n",
    "    \n",
    "    calibration_val = pd.read_pickle(timestamps)['start'].iloc[0]\n",
    "\n",
    "    emg_data = pd.read_pickle(emg_data)\n",
    "    \n",
    "    emg_data = emg_data[emg_data['file'] == 'S04_1.pkl']\n",
    "    \n",
    "    emg_data = emg_data.rename(columns={'file': 'video_id', 'description': 'narration', 'description_class': 'verb_class'})\n",
    "    emg_data['participant_id'] = 'S04'\n",
    "    emg_data['video_id'] = 'S04_1'\n",
    "    emg_data['start_frame'] = ((emg_data['start'] - calibration_val) * FPS).astype(int)\n",
    "    emg_data['stop_frame'] = ((emg_data['stop'] - calibration_val) * FPS).astype(int)\n",
    "    emg_data['verb'] = emg_data['narration']\n",
    "    emg_data = emg_data.drop(['emg_data'], axis = 1)\n",
    "    emg_data = emg_data[\n",
    "        ['uid', 'participant_id', 'video_id', 'narration', 'start', 'stop', 'start_frame',\n",
    "         'stop_frame', 'verb', 'verb_class']]\n",
    "    \n",
    "    emg_data.to_pickle(f'action_net_annotations_training/S04_{type}.pkl')    \n",
    "\n",
    "def create_reduced_annotations(train_annotations, test_annotations):\n",
    "    \n",
    "    combined_df = pd.concat([train_annotations, test_annotations], ignore_index=True)\n",
    "    \n",
    "    combined_df = combined_df.sample(frac=1)\n",
    "\n",
    "    combined_df.reset_index(inplace=True)\n",
    "    combined_df['uid'] = combined_df.index\n",
    "    \n",
    "    train_df_final = combined_df[combined_df['type'] == 'train']\n",
    "    test_df_final = combined_df[combined_df['type'] == 'test']\n",
    "    \n",
    "    train_df_final = train_df_final.drop(['type'], axis=1)\n",
    "    test_df_final = test_df_final.drop(['type'], axis=1)\n",
    "\n",
    "    train_df_final.to_pickle(f\"action_net_annotations_training/S04_train.pkl\")    \n",
    "    test_df_final.to_pickle(f\"action_net_annotations_training/S04_test.pkl\")   \n",
    "    \n",
    "def create_multimodal_annotations(full_data, split, spectogram):\n",
    "    full_data = pd.read_pickle(full_data)\n",
    "    full_data = full_data[full_data['file'] == 'S04_1.pkl']\n",
    "    full_data = full_data.rename(columns={'description_class': 'verb_class'})\n",
    "    full_data['participant_id'] = 'S04'\n",
    "    full_data['video_id'] = 'S04_1'\n",
    "    \n",
    "    create_emg_features(full_data, split, spectogram)\n",
    "    \n",
    "    final_annotations = full_data[\n",
    "        ['uid', 'participant_id', 'video_id', 'description', 'verb_class']]\n",
    "    \n",
    "    final_annotations.to_pickle(f\"an_multimodal_annotations/S04_{split}.pkl\")   \n",
    "    \n",
    "def create_emg_features(full_data, split, spectogram=False):\n",
    "    \n",
    "    full_data = pd.read_pickle(full_data)\n",
    "    full_data = full_data[full_data['file'] == 'S04_1.pkl']\n",
    "    full_data = full_data.rename(columns={'emg_data': 'features_EMG'})\n",
    "    \n",
    "    emg_features = full_data[\n",
    "        ['uid', 'features_EMG']]\n",
    "    emg_features = emg_features.to_dict('list')\n",
    "    emg_features = {'features': emg_features}\n",
    "\n",
    "    features_name = f'saved_features_an_multimodal/features_emg_spectogram_S04_{split}.pkl' if spectogram \\\n",
    "        else f'saved_features_an_multimodal/features_emg_S04_{split}.pkl'\n",
    "      \n",
    "    with open(features_name, 'wb') as f:\n",
    "        pickle.dump(emg_features, f)"
   ],
   "metadata": {
    "collapsed": false,
    "ExecuteTime": {
     "end_time": "2024-04-16T17:08:49.823523Z",
     "start_time": "2024-04-16T17:08:49.812371Z"
    }
   },
   "id": "f7288622a8212497",
   "execution_count": 64
  },
  {
   "cell_type": "code",
   "outputs": [],
   "source": [
    "change_uid_to_emg('new_emg_data_test.pkl', split='test')\n",
    "change_uid_to_emg('new_emg_data_train.pkl', split='train')"
   ],
   "metadata": {
    "collapsed": false,
    "ExecuteTime": {
     "end_time": "2024-04-16T16:47:34.968016Z",
     "start_time": "2024-04-16T16:47:34.754402Z"
    }
   },
   "id": "c12888eac96f2059",
   "execution_count": 22
  },
  {
   "cell_type": "code",
   "outputs": [],
   "source": [
    "take_S04_annotations_RGB(timestamps='action-net/S04_1.pkl', emg_data='new_emg_data_test.pkl', type='test')\n",
    "take_S04_annotations_RGB(timestamps='action-net/S04_1.pkl', emg_data='new_emg_data_train.pkl', type='train')"
   ],
   "metadata": {
    "collapsed": false,
    "ExecuteTime": {
     "end_time": "2024-04-16T16:56:29.358097Z",
     "start_time": "2024-04-16T16:56:29.235920Z"
    }
   },
   "id": "8755ff84ad735a71",
   "execution_count": 45
  },
  {
   "cell_type": "code",
   "outputs": [],
   "source": [
    "create_multimodal_annotations(full_data=\"new_emg_data_train.pkl\", split='train')\n",
    "create_multimodal_annotations(full_data=\"new_emg_data_test.pkl\", split='test')\n",
    "create_emg_features(full_data=\"new_emg_data_train.pkl\", split='train')\n",
    "create_emg_features(full_data=\"new_emg_data_test.pkl\", split='test')"
   ],
   "metadata": {
    "collapsed": false,
    "ExecuteTime": {
     "end_time": "2024-04-11T15:00:45.869620Z",
     "start_time": "2024-04-11T15:00:45.669920Z"
    }
   },
   "id": "a8375367fedd5dee",
   "execution_count": 88
  },
  {
   "cell_type": "code",
   "outputs": [],
   "source": [
    "create_emg_features(full_data=\"new_emg_data_train.pkl\", split='train')\n",
    "create_emg_features(full_data=\"new_emg_data_test.pkl\", split='test')"
   ],
   "metadata": {
    "collapsed": false,
    "ExecuteTime": {
     "end_time": "2024-04-16T17:08:55.028127Z",
     "start_time": "2024-04-16T17:08:54.959225Z"
    }
   },
   "id": "1d13b1a4f66adc26",
   "execution_count": 65
  },
  {
   "cell_type": "code",
   "outputs": [
    {
     "data": {
      "text/plain": "     uid participant_id video_id  \\\n14    15            S04    S04_1   \n22    23            S04    S04_1   \n34    35            S04    S04_1   \n37    38            S04    S04_1   \n39    40            S04    S04_1   \n..   ...            ...      ...   \n850  851            S04    S04_1   \n855  856            S04    S04_1   \n880  881            S04    S04_1   \n889  890            S04    S04_1   \n895  896            S04    S04_1   \n\n                                             narration         start  \\\n14                         Open a jar of almond butter  1.655241e+09   \n22                                 Clear cutting board  1.655241e+09   \n34   Set table: 3 each large/small plates, bowls, m...  1.655242e+09   \n37               Spread almond butter on a bread slice  1.655241e+09   \n39                         Open a jar of almond butter  1.655241e+09   \n..                                                 ...           ...   \n850  Set table: 3 each large/small plates, bowls, m...  1.655242e+09   \n855                        Open a jar of almond butter  1.655241e+09   \n880                        Open a jar of almond butter  1.655241e+09   \n889              Spread almond butter on a bread slice  1.655241e+09   \n895                                Clear cutting board  1.655241e+09   \n\n             stop  start_frame  stop_frame  \\\n14   1.655241e+09        69539       69837   \n22   1.655241e+09        60114       60410   \n34   1.655242e+09        88254       88551   \n37   1.655241e+09        64379       64677   \n39   1.655241e+09        69431       69729   \n..            ...          ...         ...   \n850  1.655242e+09        88506       88803   \n855  1.655241e+09        69530       69828   \n880  1.655241e+09        69503       69801   \n889  1.655241e+09        64334       64632   \n895  1.655241e+09        60389       60686   \n\n                                                  verb  verb_class  \n14                         Open a jar of almond butter           8  \n22                                 Clear cutting board          18  \n34   Set table: 3 each large/small plates, bowls, m...          15  \n37               Spread almond butter on a bread slice           6  \n39                         Open a jar of almond butter           8  \n..                                                 ...         ...  \n850  Set table: 3 each large/small plates, bowls, m...          15  \n855                        Open a jar of almond butter           8  \n880                        Open a jar of almond butter           8  \n889              Spread almond butter on a bread slice           6  \n895                                Clear cutting board          18  \n\n[81 rows x 10 columns]",
      "text/html": "<div>\n<style scoped>\n    .dataframe tbody tr th:only-of-type {\n        vertical-align: middle;\n    }\n\n    .dataframe tbody tr th {\n        vertical-align: top;\n    }\n\n    .dataframe thead th {\n        text-align: right;\n    }\n</style>\n<table border=\"1\" class=\"dataframe\">\n  <thead>\n    <tr style=\"text-align: right;\">\n      <th></th>\n      <th>uid</th>\n      <th>participant_id</th>\n      <th>video_id</th>\n      <th>narration</th>\n      <th>start</th>\n      <th>stop</th>\n      <th>start_frame</th>\n      <th>stop_frame</th>\n      <th>verb</th>\n      <th>verb_class</th>\n    </tr>\n  </thead>\n  <tbody>\n    <tr>\n      <th>14</th>\n      <td>15</td>\n      <td>S04</td>\n      <td>S04_1</td>\n      <td>Open a jar of almond butter</td>\n      <td>1.655241e+09</td>\n      <td>1.655241e+09</td>\n      <td>69539</td>\n      <td>69837</td>\n      <td>Open a jar of almond butter</td>\n      <td>8</td>\n    </tr>\n    <tr>\n      <th>22</th>\n      <td>23</td>\n      <td>S04</td>\n      <td>S04_1</td>\n      <td>Clear cutting board</td>\n      <td>1.655241e+09</td>\n      <td>1.655241e+09</td>\n      <td>60114</td>\n      <td>60410</td>\n      <td>Clear cutting board</td>\n      <td>18</td>\n    </tr>\n    <tr>\n      <th>34</th>\n      <td>35</td>\n      <td>S04</td>\n      <td>S04_1</td>\n      <td>Set table: 3 each large/small plates, bowls, m...</td>\n      <td>1.655242e+09</td>\n      <td>1.655242e+09</td>\n      <td>88254</td>\n      <td>88551</td>\n      <td>Set table: 3 each large/small plates, bowls, m...</td>\n      <td>15</td>\n    </tr>\n    <tr>\n      <th>37</th>\n      <td>38</td>\n      <td>S04</td>\n      <td>S04_1</td>\n      <td>Spread almond butter on a bread slice</td>\n      <td>1.655241e+09</td>\n      <td>1.655241e+09</td>\n      <td>64379</td>\n      <td>64677</td>\n      <td>Spread almond butter on a bread slice</td>\n      <td>6</td>\n    </tr>\n    <tr>\n      <th>39</th>\n      <td>40</td>\n      <td>S04</td>\n      <td>S04_1</td>\n      <td>Open a jar of almond butter</td>\n      <td>1.655241e+09</td>\n      <td>1.655241e+09</td>\n      <td>69431</td>\n      <td>69729</td>\n      <td>Open a jar of almond butter</td>\n      <td>8</td>\n    </tr>\n    <tr>\n      <th>...</th>\n      <td>...</td>\n      <td>...</td>\n      <td>...</td>\n      <td>...</td>\n      <td>...</td>\n      <td>...</td>\n      <td>...</td>\n      <td>...</td>\n      <td>...</td>\n      <td>...</td>\n    </tr>\n    <tr>\n      <th>850</th>\n      <td>851</td>\n      <td>S04</td>\n      <td>S04_1</td>\n      <td>Set table: 3 each large/small plates, bowls, m...</td>\n      <td>1.655242e+09</td>\n      <td>1.655242e+09</td>\n      <td>88506</td>\n      <td>88803</td>\n      <td>Set table: 3 each large/small plates, bowls, m...</td>\n      <td>15</td>\n    </tr>\n    <tr>\n      <th>855</th>\n      <td>856</td>\n      <td>S04</td>\n      <td>S04_1</td>\n      <td>Open a jar of almond butter</td>\n      <td>1.655241e+09</td>\n      <td>1.655241e+09</td>\n      <td>69530</td>\n      <td>69828</td>\n      <td>Open a jar of almond butter</td>\n      <td>8</td>\n    </tr>\n    <tr>\n      <th>880</th>\n      <td>881</td>\n      <td>S04</td>\n      <td>S04_1</td>\n      <td>Open a jar of almond butter</td>\n      <td>1.655241e+09</td>\n      <td>1.655241e+09</td>\n      <td>69503</td>\n      <td>69801</td>\n      <td>Open a jar of almond butter</td>\n      <td>8</td>\n    </tr>\n    <tr>\n      <th>889</th>\n      <td>890</td>\n      <td>S04</td>\n      <td>S04_1</td>\n      <td>Spread almond butter on a bread slice</td>\n      <td>1.655241e+09</td>\n      <td>1.655241e+09</td>\n      <td>64334</td>\n      <td>64632</td>\n      <td>Spread almond butter on a bread slice</td>\n      <td>6</td>\n    </tr>\n    <tr>\n      <th>895</th>\n      <td>896</td>\n      <td>S04</td>\n      <td>S04_1</td>\n      <td>Clear cutting board</td>\n      <td>1.655241e+09</td>\n      <td>1.655241e+09</td>\n      <td>60389</td>\n      <td>60686</td>\n      <td>Clear cutting board</td>\n      <td>18</td>\n    </tr>\n  </tbody>\n</table>\n<p>81 rows × 10 columns</p>\n</div>"
     },
     "execution_count": 46,
     "metadata": {},
     "output_type": "execute_result"
    }
   ],
   "source": [
    "data2 = pd.read_pickle('action_net_annotations_training/S04_test.pkl')\n",
    "\n",
    "data2"
   ],
   "metadata": {
    "collapsed": false,
    "ExecuteTime": {
     "end_time": "2024-04-16T16:56:31.199359Z",
     "start_time": "2024-04-16T16:56:31.192741Z"
    }
   },
   "id": "c978eae77ab19bb9",
   "execution_count": 46
  },
  {
   "cell_type": "code",
   "outputs": [
    {
     "data": {
      "text/plain": "     index       file                                        description  \\\n14      34  S04_1.pkl                        Open a jar of almond butter   \n22      23  S04_1.pkl                                Clear cutting board   \n34      56  S04_1.pkl  Set table: 3 each large/small plates, bowls, m...   \n37      26  S04_1.pkl              Spread almond butter on a bread slice   \n39      34  S04_1.pkl                        Open a jar of almond butter   \n..     ...        ...                                                ...   \n850     56  S04_1.pkl  Set table: 3 each large/small plates, bowls, m...   \n855     34  S04_1.pkl                        Open a jar of almond butter   \n880     34  S04_1.pkl                        Open a jar of almond butter   \n889     26  S04_1.pkl              Spread almond butter on a bread slice   \n895     23  S04_1.pkl                                Clear cutting board   \n\n         labels         start          stop  \\\n14   Open/Close  1.655241e+09  1.655241e+09   \n22        Clear  1.655241e+09  1.655241e+09   \n34          Set  1.655242e+09  1.655242e+09   \n37       Spread  1.655241e+09  1.655241e+09   \n39   Open/Close  1.655241e+09  1.655241e+09   \n..          ...           ...           ...   \n850         Set  1.655242e+09  1.655242e+09   \n855  Open/Close  1.655241e+09  1.655241e+09   \n880  Open/Close  1.655241e+09  1.655241e+09   \n889      Spread  1.655241e+09  1.655241e+09   \n895       Clear  1.655241e+09  1.655241e+09   \n\n                                              emg_data  description_class  uid  \n14   [[-0.5310362499607831, -0.17112101585733755, -...                  8   15  \n22   [[-0.06765700081485183, -0.19264746771383182, ...                 18   23  \n34   [[-0.8781975985563716, -0.8737516029999017, -0...                 15   35  \n37   [[-0.5560823621930757, -0.3788598220978606, -0...                  6   38  \n39   [[-0.6652617227946247, -0.35463073586700183, -...                  8   40  \n..                                                 ...                ...  ...  \n850  [[-0.8913982997448366, -0.8646481789321555, -0...                 15  851  \n855  [[-0.32349131425931404, -0.19182720534648318, ...                  8  856  \n880  [[-0.5547529179641489, -0.3992432882881073, -0...                  8  881  \n889  [[-0.3703662356774267, -0.49132828506191123, -...                  6  890  \n895  [[-0.22392689631850465, -0.2798933999640643, -...                 18  896  \n\n[81 rows x 9 columns]",
      "text/html": "<div>\n<style scoped>\n    .dataframe tbody tr th:only-of-type {\n        vertical-align: middle;\n    }\n\n    .dataframe tbody tr th {\n        vertical-align: top;\n    }\n\n    .dataframe thead th {\n        text-align: right;\n    }\n</style>\n<table border=\"1\" class=\"dataframe\">\n  <thead>\n    <tr style=\"text-align: right;\">\n      <th></th>\n      <th>index</th>\n      <th>file</th>\n      <th>description</th>\n      <th>labels</th>\n      <th>start</th>\n      <th>stop</th>\n      <th>emg_data</th>\n      <th>description_class</th>\n      <th>uid</th>\n    </tr>\n  </thead>\n  <tbody>\n    <tr>\n      <th>14</th>\n      <td>34</td>\n      <td>S04_1.pkl</td>\n      <td>Open a jar of almond butter</td>\n      <td>Open/Close</td>\n      <td>1.655241e+09</td>\n      <td>1.655241e+09</td>\n      <td>[[-0.5310362499607831, -0.17112101585733755, -...</td>\n      <td>8</td>\n      <td>15</td>\n    </tr>\n    <tr>\n      <th>22</th>\n      <td>23</td>\n      <td>S04_1.pkl</td>\n      <td>Clear cutting board</td>\n      <td>Clear</td>\n      <td>1.655241e+09</td>\n      <td>1.655241e+09</td>\n      <td>[[-0.06765700081485183, -0.19264746771383182, ...</td>\n      <td>18</td>\n      <td>23</td>\n    </tr>\n    <tr>\n      <th>34</th>\n      <td>56</td>\n      <td>S04_1.pkl</td>\n      <td>Set table: 3 each large/small plates, bowls, m...</td>\n      <td>Set</td>\n      <td>1.655242e+09</td>\n      <td>1.655242e+09</td>\n      <td>[[-0.8781975985563716, -0.8737516029999017, -0...</td>\n      <td>15</td>\n      <td>35</td>\n    </tr>\n    <tr>\n      <th>37</th>\n      <td>26</td>\n      <td>S04_1.pkl</td>\n      <td>Spread almond butter on a bread slice</td>\n      <td>Spread</td>\n      <td>1.655241e+09</td>\n      <td>1.655241e+09</td>\n      <td>[[-0.5560823621930757, -0.3788598220978606, -0...</td>\n      <td>6</td>\n      <td>38</td>\n    </tr>\n    <tr>\n      <th>39</th>\n      <td>34</td>\n      <td>S04_1.pkl</td>\n      <td>Open a jar of almond butter</td>\n      <td>Open/Close</td>\n      <td>1.655241e+09</td>\n      <td>1.655241e+09</td>\n      <td>[[-0.6652617227946247, -0.35463073586700183, -...</td>\n      <td>8</td>\n      <td>40</td>\n    </tr>\n    <tr>\n      <th>...</th>\n      <td>...</td>\n      <td>...</td>\n      <td>...</td>\n      <td>...</td>\n      <td>...</td>\n      <td>...</td>\n      <td>...</td>\n      <td>...</td>\n      <td>...</td>\n    </tr>\n    <tr>\n      <th>850</th>\n      <td>56</td>\n      <td>S04_1.pkl</td>\n      <td>Set table: 3 each large/small plates, bowls, m...</td>\n      <td>Set</td>\n      <td>1.655242e+09</td>\n      <td>1.655242e+09</td>\n      <td>[[-0.8913982997448366, -0.8646481789321555, -0...</td>\n      <td>15</td>\n      <td>851</td>\n    </tr>\n    <tr>\n      <th>855</th>\n      <td>34</td>\n      <td>S04_1.pkl</td>\n      <td>Open a jar of almond butter</td>\n      <td>Open/Close</td>\n      <td>1.655241e+09</td>\n      <td>1.655241e+09</td>\n      <td>[[-0.32349131425931404, -0.19182720534648318, ...</td>\n      <td>8</td>\n      <td>856</td>\n    </tr>\n    <tr>\n      <th>880</th>\n      <td>34</td>\n      <td>S04_1.pkl</td>\n      <td>Open a jar of almond butter</td>\n      <td>Open/Close</td>\n      <td>1.655241e+09</td>\n      <td>1.655241e+09</td>\n      <td>[[-0.5547529179641489, -0.3992432882881073, -0...</td>\n      <td>8</td>\n      <td>881</td>\n    </tr>\n    <tr>\n      <th>889</th>\n      <td>26</td>\n      <td>S04_1.pkl</td>\n      <td>Spread almond butter on a bread slice</td>\n      <td>Spread</td>\n      <td>1.655241e+09</td>\n      <td>1.655241e+09</td>\n      <td>[[-0.3703662356774267, -0.49132828506191123, -...</td>\n      <td>6</td>\n      <td>890</td>\n    </tr>\n    <tr>\n      <th>895</th>\n      <td>23</td>\n      <td>S04_1.pkl</td>\n      <td>Clear cutting board</td>\n      <td>Clear</td>\n      <td>1.655241e+09</td>\n      <td>1.655241e+09</td>\n      <td>[[-0.22392689631850465, -0.2798933999640643, -...</td>\n      <td>18</td>\n      <td>896</td>\n    </tr>\n  </tbody>\n</table>\n<p>81 rows × 9 columns</p>\n</div>"
     },
     "execution_count": 42,
     "metadata": {},
     "output_type": "execute_result"
    }
   ],
   "source": [
    "data2 = pd.read_pickle('new_emg_data_test.pkl')\n",
    "\n",
    "data2 = data2[data2['file'] == 'S04_1.pkl']\n",
    "data2"
   ],
   "metadata": {
    "collapsed": false,
    "ExecuteTime": {
     "end_time": "2024-04-16T16:56:10.567892Z",
     "start_time": "2024-04-16T16:56:10.460271Z"
    }
   },
   "id": "de92930cc75e6f",
   "execution_count": 42
  },
  {
   "cell_type": "code",
   "outputs": [
    {
     "data": {
      "text/plain": "features_EMG    [[[-0.5310362499607831, -0.17112101585733755, ...\nuid             [15, 23, 35, 38, 40, 48, 49, 68, 109, 115, 126...\nName: features, dtype: object"
     },
     "execution_count": 66,
     "metadata": {},
     "output_type": "execute_result"
    }
   ],
   "source": [
    "data2 = pd.read_pickle('saved_features_an_multimodal/features_emg_S04_test.pkl')\n",
    "\n",
    "data2 = pd.DataFrame.from_dict(data2)\n",
    "data2['features']"
   ],
   "metadata": {
    "collapsed": false,
    "ExecuteTime": {
     "end_time": "2024-04-16T17:08:58.708538Z",
     "start_time": "2024-04-16T17:08:58.252234Z"
    }
   },
   "id": "bf118f9250177108",
   "execution_count": 66
  },
  {
   "cell_type": "code",
   "outputs": [],
   "source": [],
   "metadata": {
    "collapsed": false,
    "ExecuteTime": {
     "end_time": "2024-04-16T16:59:23.608004Z",
     "start_time": "2024-04-16T16:59:23.594652Z"
    }
   },
   "id": "be884738068961a0",
   "execution_count": 48
  },
  {
   "cell_type": "code",
   "outputs": [
    {
     "data": {
      "text/plain": "     index  uid participant_id video_id  \\\n14      27   14            S04    S04_1   \n19      74   19            S04    S04_1   \n20      69   20            S04    S04_1   \n22      39   22            S04    S04_1   \n36      10   36            S04    S04_1   \n..     ...  ...            ...      ...   \n772     63  772            S04    S04_1   \n781     16  781            S04    S04_1   \n783     67  783            S04    S04_1   \n786     58  786            S04    S04_1   \n793     49  793            S04    S04_1   \n\n                                             narration         start  \\\n14                                 Clear cutting board  1.655241e+09   \n19   Set table: 3 each large/small plates, bowls, m...  1.655242e+09   \n20               Spread almond butter on a bread slice  1.655241e+09   \n22               Spread almond butter on a bread slice  1.655241e+09   \n36   Set table: 3 each large/small plates, bowls, m...  1.655242e+09   \n..                                                 ...           ...   \n772                        Open a jar of almond butter  1.655241e+09   \n781                                Clear cutting board  1.655241e+09   \n783                                Clear cutting board  1.655241e+09   \n786  Set table: 3 each large/small plates, bowls, m...  1.655242e+09   \n793                                Clear cutting board  1.655241e+09   \n\n             stop  start_frame  stop_frame  \\\n14   1.655241e+09        60114       60410   \n19   1.655242e+09        89644       89941   \n20   1.655241e+09        64322       64620   \n22   1.655241e+09        64439       64737   \n36   1.655242e+09        87366       87663   \n..            ...          ...         ...   \n772  1.655241e+09        69512       69810   \n781  1.655241e+09        60198       60494   \n783  1.655241e+09        60252       60548   \n786  1.655242e+09        87999       88296   \n793  1.655241e+09        60003       60300   \n\n                                                  verb  verb_class  \n14                                 Clear cutting board          18  \n19   Set table: 3 each large/small plates, bowls, m...          15  \n20               Spread almond butter on a bread slice           6  \n22               Spread almond butter on a bread slice           6  \n36   Set table: 3 each large/small plates, bowls, m...          15  \n..                                                 ...         ...  \n772                        Open a jar of almond butter           8  \n781                                Clear cutting board          18  \n783                                Clear cutting board          18  \n786  Set table: 3 each large/small plates, bowls, m...          15  \n793                                Clear cutting board          18  \n\n[81 rows x 11 columns]",
      "text/html": "<div>\n<style scoped>\n    .dataframe tbody tr th:only-of-type {\n        vertical-align: middle;\n    }\n\n    .dataframe tbody tr th {\n        vertical-align: top;\n    }\n\n    .dataframe thead th {\n        text-align: right;\n    }\n</style>\n<table border=\"1\" class=\"dataframe\">\n  <thead>\n    <tr style=\"text-align: right;\">\n      <th></th>\n      <th>index</th>\n      <th>uid</th>\n      <th>participant_id</th>\n      <th>video_id</th>\n      <th>narration</th>\n      <th>start</th>\n      <th>stop</th>\n      <th>start_frame</th>\n      <th>stop_frame</th>\n      <th>verb</th>\n      <th>verb_class</th>\n    </tr>\n  </thead>\n  <tbody>\n    <tr>\n      <th>14</th>\n      <td>27</td>\n      <td>14</td>\n      <td>S04</td>\n      <td>S04_1</td>\n      <td>Clear cutting board</td>\n      <td>1.655241e+09</td>\n      <td>1.655241e+09</td>\n      <td>60114</td>\n      <td>60410</td>\n      <td>Clear cutting board</td>\n      <td>18</td>\n    </tr>\n    <tr>\n      <th>19</th>\n      <td>74</td>\n      <td>19</td>\n      <td>S04</td>\n      <td>S04_1</td>\n      <td>Set table: 3 each large/small plates, bowls, m...</td>\n      <td>1.655242e+09</td>\n      <td>1.655242e+09</td>\n      <td>89644</td>\n      <td>89941</td>\n      <td>Set table: 3 each large/small plates, bowls, m...</td>\n      <td>15</td>\n    </tr>\n    <tr>\n      <th>20</th>\n      <td>69</td>\n      <td>20</td>\n      <td>S04</td>\n      <td>S04_1</td>\n      <td>Spread almond butter on a bread slice</td>\n      <td>1.655241e+09</td>\n      <td>1.655241e+09</td>\n      <td>64322</td>\n      <td>64620</td>\n      <td>Spread almond butter on a bread slice</td>\n      <td>6</td>\n    </tr>\n    <tr>\n      <th>22</th>\n      <td>39</td>\n      <td>22</td>\n      <td>S04</td>\n      <td>S04_1</td>\n      <td>Spread almond butter on a bread slice</td>\n      <td>1.655241e+09</td>\n      <td>1.655241e+09</td>\n      <td>64439</td>\n      <td>64737</td>\n      <td>Spread almond butter on a bread slice</td>\n      <td>6</td>\n    </tr>\n    <tr>\n      <th>36</th>\n      <td>10</td>\n      <td>36</td>\n      <td>S04</td>\n      <td>S04_1</td>\n      <td>Set table: 3 each large/small plates, bowls, m...</td>\n      <td>1.655242e+09</td>\n      <td>1.655242e+09</td>\n      <td>87366</td>\n      <td>87663</td>\n      <td>Set table: 3 each large/small plates, bowls, m...</td>\n      <td>15</td>\n    </tr>\n    <tr>\n      <th>...</th>\n      <td>...</td>\n      <td>...</td>\n      <td>...</td>\n      <td>...</td>\n      <td>...</td>\n      <td>...</td>\n      <td>...</td>\n      <td>...</td>\n      <td>...</td>\n      <td>...</td>\n      <td>...</td>\n    </tr>\n    <tr>\n      <th>772</th>\n      <td>63</td>\n      <td>772</td>\n      <td>S04</td>\n      <td>S04_1</td>\n      <td>Open a jar of almond butter</td>\n      <td>1.655241e+09</td>\n      <td>1.655241e+09</td>\n      <td>69512</td>\n      <td>69810</td>\n      <td>Open a jar of almond butter</td>\n      <td>8</td>\n    </tr>\n    <tr>\n      <th>781</th>\n      <td>16</td>\n      <td>781</td>\n      <td>S04</td>\n      <td>S04_1</td>\n      <td>Clear cutting board</td>\n      <td>1.655241e+09</td>\n      <td>1.655241e+09</td>\n      <td>60198</td>\n      <td>60494</td>\n      <td>Clear cutting board</td>\n      <td>18</td>\n    </tr>\n    <tr>\n      <th>783</th>\n      <td>67</td>\n      <td>783</td>\n      <td>S04</td>\n      <td>S04_1</td>\n      <td>Clear cutting board</td>\n      <td>1.655241e+09</td>\n      <td>1.655241e+09</td>\n      <td>60252</td>\n      <td>60548</td>\n      <td>Clear cutting board</td>\n      <td>18</td>\n    </tr>\n    <tr>\n      <th>786</th>\n      <td>58</td>\n      <td>786</td>\n      <td>S04</td>\n      <td>S04_1</td>\n      <td>Set table: 3 each large/small plates, bowls, m...</td>\n      <td>1.655242e+09</td>\n      <td>1.655242e+09</td>\n      <td>87999</td>\n      <td>88296</td>\n      <td>Set table: 3 each large/small plates, bowls, m...</td>\n      <td>15</td>\n    </tr>\n    <tr>\n      <th>793</th>\n      <td>49</td>\n      <td>793</td>\n      <td>S04</td>\n      <td>S04_1</td>\n      <td>Clear cutting board</td>\n      <td>1.655241e+09</td>\n      <td>1.655241e+09</td>\n      <td>60003</td>\n      <td>60300</td>\n      <td>Clear cutting board</td>\n      <td>18</td>\n    </tr>\n  </tbody>\n</table>\n<p>81 rows × 11 columns</p>\n</div>"
     },
     "execution_count": 19,
     "metadata": {},
     "output_type": "execute_result"
    }
   ],
   "source": [
    "data2 = pd.read_pickle('action_net_annotations_training/S04_test.pkl')\n",
    "\n",
    "data2"
   ],
   "metadata": {
    "collapsed": false,
    "ExecuteTime": {
     "end_time": "2024-04-16T16:44:52.951579Z",
     "start_time": "2024-04-16T16:44:52.940819Z"
    }
   },
   "id": "bd3c502e6012b318",
   "execution_count": 19
  }
 ],
 "metadata": {
  "kernelspec": {
   "display_name": "Python 3",
   "language": "python",
   "name": "python3"
  },
  "language_info": {
   "codemirror_mode": {
    "name": "ipython",
    "version": 2
   },
   "file_extension": ".py",
   "mimetype": "text/x-python",
   "name": "python",
   "nbconvert_exporter": "python",
   "pygments_lexer": "ipython2",
   "version": "2.7.6"
  }
 },
 "nbformat": 4,
 "nbformat_minor": 5
}
