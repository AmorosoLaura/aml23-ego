{
 "cells": [
  {
   "cell_type": "code",
   "outputs": [],
   "source": [
    "import math\n",
    "\n",
    "activities_to_classify = {\n",
    "        'Get/replace items from refrigerator/cabinets/drawers': 0,\n",
    "        'Peel a cucumber': 1,\n",
    "        'Clear cutting board': 2,\n",
    "        'Slice a cucumber': 3,\n",
    "        'Peel a potato': 4,\n",
    "        'Slice a potato': 5,\n",
    "        'Slice bread': 6,\n",
    "        'Spread almond butter on a bread slice': 7,\n",
    "        'Spread jelly on a bread slice': 8,\n",
    "        'Open/close a jar of almond butter': 9,\n",
    "        'Pour water from a pitcher into a glass': 10,\n",
    "        'Clean a plate with a sponge': 11,\n",
    "        'Clean a plate with a towel': 12,\n",
    "        'Clean a pan with a sponge': 13,\n",
    "        'Clean a pan with a towel': 14,\n",
    "        'Get items from cabinets: 3 each large/small plates, bowls, mugs, glasses, sets of utensils': 15,\n",
    "        'Set table: 3 each large/small plates, bowls, mugs, glasses, sets of utensils': 16,\n",
    "        'Stack on table: 3 each large/small plates, bowls': 17,\n",
    "        'Load dishwasher: 3 each large/small plates, bowls, mugs, glasses, sets of utensils': 18,\n",
    "        'Unload dishwasher: 3 each large/small plates, bowls, mugs, glasses, sets of utensils': 19,\n",
    "}\n",
    "\n",
    "activities_to_verbs = {\n",
    "        'Get/replace items from refrigerator/cabinets/drawers': 'Get',\n",
    "        'Peel a cucumber': 'Peel',\n",
    "        'Clear cutting board': 'Clear',\n",
    "        'Slice a cucumber': 'Slice',\n",
    "        'Peel a potato': 'Peel',\n",
    "        'Slice a potato': 'Slice',\n",
    "        'Slice bread': 'Slice',\n",
    "        'Spread almond butter on a bread slice': 'Spread',\n",
    "        'Spread jelly on a bread slice': 'Spread',\n",
    "        'Open/close a jar of almond butter': 'Open/Close',\n",
    "        'Pour water from a pitcher into a glass': 'Pour',\n",
    "        'Clean a plate with a sponge': 'Clean',\n",
    "        'Clean a plate with a towel': 'Clean',\n",
    "        'Clean a pan with a sponge': 'Clean',\n",
    "        'Clean a pan with a towel': 'Clean',\n",
    "        'Get items from cabinets: 3 each large/small plates, bowls, mugs, glasses, sets of utensils': 'Get',\n",
    "        'Set table: 3 each large/small plates, bowls, mugs, glasses, sets of utensils': 'Set',\n",
    "        'Stack on table: 3 each large/small plates, bowls': 'Stack',\n",
    "        'Load dishwasher: 3 each large/small plates, bowls, mugs, glasses, sets of utensils': 'Load',\n",
    "        'Unload dishwasher: 3 each large/small plates, bowls, mugs, glasses, sets of utensils': 'Load'\n",
    "}\n",
    "\n",
    "verbs = {\n",
    "    'Get': 0,\n",
    "    'Peel': 1,\n",
    "    'Clear': 2,\n",
    "    'Slice': 3,\n",
    "    'Spread': 4,\n",
    "    'Open/Close': 5,\n",
    "    'Pour': 6,\n",
    "    'Clean': 7,\n",
    "    'Set': 8,\n",
    "    'Stack': 9,\n",
    "    'Load': 10,\n",
    "}\n",
    "\n",
    "\n",
    "\n",
    "def fill_missing_intervals(df):\n",
    "    df = df.sort_values(by='start_frame')\n",
    "\n",
    "    dfs = []\n",
    "\n",
    "    for i in range(len(df) - 1):\n",
    "        current_row = df.loc[i]\n",
    "        next_row = df.loc[i + 1]\n",
    "\n",
    "        missing_interval_start = current_row['stop_frame'] + 1\n",
    "        missing_interval_end = next_row['start_frame'] - 1\n",
    "\n",
    "        if missing_interval_start <= missing_interval_end:\n",
    "            new_row = pd.DataFrame({\n",
    "                'uid': 90,\n",
    "                'participant_id': 'S04',\n",
    "                'video_id': 'S04_01',\n",
    "                'narration': 'None',\n",
    "                'verb': 'None',\n",
    "                'verb_class': 0,\n",
    "                'start_frame': [missing_interval_start],\n",
    "                'stop_frame': [missing_interval_end],\n",
    "                'start_timestamp': [missing_interval_start / 22],\n",
    "                'stop_timestamp': [missing_interval_end / 22],\n",
    "            })\n",
    "            dfs.append(new_row)\n",
    "\n",
    "    if dfs:\n",
    "        filled_df = pd.concat([df] + dfs, ignore_index=True)\n",
    "    else:\n",
    "        filled_df = df.copy()\n",
    "\n",
    "    return filled_df\n",
    "\n",
    "def split_rows(data_frame):\n",
    "    augmented_data = []\n",
    "\n",
    "    for _, row in data_frame.iterrows():\n",
    "        start_frame = row['start_frame']\n",
    "        stop_frame = row['stop_frame']\n",
    "        interval_size = 148  \n",
    "\n",
    "        num_intervals = math.ceil((stop_frame - start_frame + 1) / interval_size)\n",
    "\n",
    "        for i in range(num_intervals):\n",
    "            new_start = start_frame + i * interval_size\n",
    "            new_stop = min(new_start + interval_size - 1, stop_frame)  \n",
    "            new_row = row.copy()\n",
    "            new_row['start_frame'] = new_start\n",
    "            new_row['stop_frame'] = new_stop\n",
    "            new_row['start_timestamp'] = new_start/22\n",
    "            new_row['stop_timestamp'] = new_stop/22\n",
    "            augmented_data.append(new_row)\n",
    "\n",
    "    augmented_dataframe = pd.DataFrame(augmented_data, columns=data_frame.columns)\n",
    "    augmented_dataframe.reset_index(drop=True, inplace=True)\n",
    "\n",
    "    return augmented_dataframe\n",
    "\n",
    "\n",
    "\n",
    "def create_annotations_file(timestamp_file, annotations_file_test, annotations_file_train):\n",
    "    import pandas as pd\n",
    "\n",
    "    video_fps = 29.67\n",
    "\n",
    "    timestamps = pd.read_pickle(timestamp_file)\n",
    "    timestamps = timestamps.drop(\n",
    "        ['myo_left_timestamps', 'myo_right_timestamps', 'myo_left_readings', 'myo_right_readings'], axis=1)\n",
    "    timestamps = timestamps.reset_index()\n",
    "\n",
    "    start_timestamp = timestamps['start'].iloc[0]\n",
    "    timestamps['start_timestamp'] = timestamps['start'] - start_timestamp\n",
    "    timestamps['stop_timestamp'] = timestamps['stop'] - start_timestamp\n",
    "    timestamps['start_frame'] = (timestamps['start_timestamp'] * video_fps).astype(int)\n",
    "    timestamps['stop_frame'] = (timestamps['stop_timestamp'] * video_fps).astype(int)\n",
    "    \n",
    "    data_frame_train = pd.read_pickle(annotations_file_train)\n",
    "    data_frame_train = data_frame_train[data_frame_train['file'] == 'S04_1.pkl']\n",
    "    data_frame_train = data_frame_train.drop(['labels'], axis=1)\n",
    "    data_frame_train['type'] = 'train'\n",
    "\n",
    "    data_frame_test = pd.read_pickle(annotations_file_test)\n",
    "    data_frame_test = data_frame_test[data_frame_test['file'] == 'S04_1.pkl']\n",
    "    data_frame_test = data_frame_test.drop(['labels'], axis=1)\n",
    "    data_frame_test['type'] = 'test'\n",
    "    \n",
    "    \n",
    "    join_data_frame = pd.concat([data_frame_train, data_frame_test], ignore_index=True)\n",
    "\n",
    "    result = pd.merge(timestamps, join_data_frame, on='index', how='inner')\n",
    "\n",
    "    result['uid'] = result['index']\n",
    "    result['participant_id'] = 'S04'\n",
    "    result['video_id'] = 'S04_01'\n",
    "    result['verb'] = result['description_x']\n",
    "    result['narration'] = result['description_x']\n",
    "    result['verb_class'] = result['verb'].map(activities_to_classify)\n",
    "\n",
    "    result = result[\n",
    "        ['uid', 'participant_id', 'video_id', 'narration', 'start_timestamp', 'stop_timestamp', 'start_frame',\n",
    "         'stop_frame', 'verb', 'verb_class', 'type']]\n",
    "            \n",
    "    result = result.sort_values(by='start_frame')\n",
    "    \n",
    "    result.to_csv(\"JOINED_NOT_SPLIT.csv\", index=False)\n",
    "\n",
    "    result = split_rows(result)\n",
    "    result['uid'] = range(len(result))\n",
    "    \n",
    "    test = result[result['type'] == 'test']\n",
    "    test.drop('type', axis=1, inplace=True)\n",
    "    test.to_csv(\"S04_test.csv\", index=False)\n",
    "    test.to_pickle(\"action_net_annotations/S04_test.pkl\")\n",
    "    train = result[result['type'] == 'train']\n",
    "    train.drop('type', axis=1, inplace=True)\n",
    "    train.to_csv(\"S04_train.csv\", index=False)\n",
    "    train.to_pickle(\"action_net_annotations/S04_train.pkl\")"
   ],
   "metadata": {
    "collapsed": false,
    "ExecuteTime": {
     "end_time": "2024-02-14T10:20:55.398561Z",
     "start_time": "2024-02-14T10:20:55.395075Z"
    }
   },
   "id": "f7288622a8212497",
   "execution_count": 10
  },
  {
   "cell_type": "code",
   "outputs": [
    {
     "name": "stderr",
     "output_type": "stream",
     "text": [
      "/var/folders/5s/flhrbc552q7bkv4fx1yszz1c0000gn/T/ipykernel_34580/882484816.py:176: SettingWithCopyWarning: \n",
      "A value is trying to be set on a copy of a slice from a DataFrame\n",
      "\n",
      "See the caveats in the documentation: https://pandas.pydata.org/pandas-docs/stable/user_guide/indexing.html#returning-a-view-versus-a-copy\n",
      "  test.drop('type', axis=1, inplace=True)\n",
      "/var/folders/5s/flhrbc552q7bkv4fx1yszz1c0000gn/T/ipykernel_34580/882484816.py:180: SettingWithCopyWarning: \n",
      "A value is trying to be set on a copy of a slice from a DataFrame\n",
      "\n",
      "See the caveats in the documentation: https://pandas.pydata.org/pandas-docs/stable/user_guide/indexing.html#returning-a-view-versus-a-copy\n",
      "  train.drop('type', axis=1, inplace=True)\n"
     ]
    }
   ],
   "source": [
    "create_annotations_file('S04_1.pkl', 'action-net/ActionNet_test.pkl', 'action-net/ActionNet_train.pkl')"
   ],
   "metadata": {
    "collapsed": false,
    "ExecuteTime": {
     "end_time": "2024-02-14T10:20:56.403454Z",
     "start_time": "2024-02-14T10:20:56.358402Z"
    }
   },
   "id": "841996d94829b09f",
   "execution_count": 11
  },
  {
   "cell_type": "code",
   "outputs": [
    {
     "data": {
      "text/plain": "    index       file                                        description  \\\n34     34  S04_1.pkl                  Open/close a jar of almond butter   \n23     23  S04_1.pkl                                Clear cutting board   \n26     26  S04_1.pkl              Spread almond butter on a bread slice   \n56     56  S04_1.pkl  Set table: 3 each large/small plates, bowls, m...   \n45     45  S04_1.pkl                         Clean a plate with a towel   \n52     52  S04_1.pkl                           Clean a pan with a towel   \n36     36  S04_1.pkl             Pour water from a pitcher into a glass   \n47     47  S04_1.pkl                         Clean a plate with a towel   \n\n        labels  \n34  Open/Close  \n23       Clear  \n26      Spread  \n56         Set  \n45       Clean  \n52       Clean  \n36        Pour  \n47       Clean  ",
      "text/html": "<div>\n<style scoped>\n    .dataframe tbody tr th:only-of-type {\n        vertical-align: middle;\n    }\n\n    .dataframe tbody tr th {\n        vertical-align: top;\n    }\n\n    .dataframe thead th {\n        text-align: right;\n    }\n</style>\n<table border=\"1\" class=\"dataframe\">\n  <thead>\n    <tr style=\"text-align: right;\">\n      <th></th>\n      <th>index</th>\n      <th>file</th>\n      <th>description</th>\n      <th>labels</th>\n    </tr>\n  </thead>\n  <tbody>\n    <tr>\n      <th>34</th>\n      <td>34</td>\n      <td>S04_1.pkl</td>\n      <td>Open/close a jar of almond butter</td>\n      <td>Open/Close</td>\n    </tr>\n    <tr>\n      <th>23</th>\n      <td>23</td>\n      <td>S04_1.pkl</td>\n      <td>Clear cutting board</td>\n      <td>Clear</td>\n    </tr>\n    <tr>\n      <th>26</th>\n      <td>26</td>\n      <td>S04_1.pkl</td>\n      <td>Spread almond butter on a bread slice</td>\n      <td>Spread</td>\n    </tr>\n    <tr>\n      <th>56</th>\n      <td>56</td>\n      <td>S04_1.pkl</td>\n      <td>Set table: 3 each large/small plates, bowls, m...</td>\n      <td>Set</td>\n    </tr>\n    <tr>\n      <th>45</th>\n      <td>45</td>\n      <td>S04_1.pkl</td>\n      <td>Clean a plate with a towel</td>\n      <td>Clean</td>\n    </tr>\n    <tr>\n      <th>52</th>\n      <td>52</td>\n      <td>S04_1.pkl</td>\n      <td>Clean a pan with a towel</td>\n      <td>Clean</td>\n    </tr>\n    <tr>\n      <th>36</th>\n      <td>36</td>\n      <td>S04_1.pkl</td>\n      <td>Pour water from a pitcher into a glass</td>\n      <td>Pour</td>\n    </tr>\n    <tr>\n      <th>47</th>\n      <td>47</td>\n      <td>S04_1.pkl</td>\n      <td>Clean a plate with a towel</td>\n      <td>Clean</td>\n    </tr>\n  </tbody>\n</table>\n</div>"
     },
     "execution_count": 52,
     "metadata": {},
     "output_type": "execute_result"
    }
   ],
   "source": [
    "import pandas as pd\n",
    "\n",
    "df = pd.read_pickle('action-net/ActionNet_test.pkl')\n",
    "\n",
    "df = df[df['file'] == 'S04_1.pkl']\n",
    "\n",
    "df"
   ],
   "metadata": {
    "collapsed": false,
    "ExecuteTime": {
     "end_time": "2024-02-13T19:41:24.041882Z",
     "start_time": "2024-02-13T19:41:24.037832Z"
    }
   },
   "id": "3cab1651daf2288e",
   "execution_count": 52
  },
  {
   "cell_type": "code",
   "outputs": [
    {
     "data": {
      "text/plain": "    index       file                                        description  \\\n10     10  S04_1.pkl  Get/replace items from refrigerator/cabinets/d...   \n6       6  S04_1.pkl                                   Slice a cucumber   \n17     17  S04_1.pkl                                     Slice a potato   \n44     44  S04_1.pkl                        Clean a plate with a sponge   \n37     37  S04_1.pkl             Pour water from a pitcher into a glass   \n27     27  S04_1.pkl              Spread almond butter on a bread slice   \n49     49  S04_1.pkl                          Clean a pan with a sponge   \n33     33  S04_1.pkl                  Open/close a jar of almond butter   \n29     29  S04_1.pkl                      Spread jelly on a bread slice   \n24     24  S04_1.pkl  Get/replace items from refrigerator/cabinets/d...   \n18     18  S04_1.pkl                                Clear cutting board   \n51     51  S04_1.pkl                           Clean a pan with a towel   \n28     28  S04_1.pkl                      Spread jelly on a bread slice   \n53     53  S04_1.pkl                           Clean a pan with a towel   \n1       1  S04_1.pkl  Get/replace items from refrigerator/cabinets/d...   \n9       9  S04_1.pkl                                Clear cutting board   \n3       3  S04_1.pkl                                    Peel a cucumber   \n20     20  S04_1.pkl                                        Slice bread   \n57     57  S04_1.pkl   Stack on table: 3 each large/small plates, bowls   \n32     32  S04_1.pkl                  Open/close a jar of almond butter   \n38     38  S04_1.pkl             Pour water from a pitcher into a glass   \n40     40  S04_1.pkl             Pour water from a pitcher into a glass   \n42     42  S04_1.pkl                        Clean a plate with a sponge   \n58     58  S04_1.pkl  Load dishwasher: 3 each large/small plates, bo...   \n50     50  S04_1.pkl                          Clean a pan with a sponge   \n7       7  S04_1.pkl                                   Slice a cucumber   \n25     25  S04_1.pkl              Spread almond butter on a bread slice   \n55     55  S04_1.pkl  Get items from cabinets: 3 each large/small pl...   \n31     31  S04_1.pkl                                Clear cutting board   \n14     14  S04_1.pkl                                Clear cutting board   \n43     43  S04_1.pkl                        Clean a plate with a sponge   \n41     41  S04_1.pkl  Get/replace items from refrigerator/cabinets/d...   \n59     59  S04_1.pkl  Unload dishwasher: 3 each large/small plates, ...   \n13     13  S04_1.pkl                                      Peel a potato   \n5       5  S04_1.pkl                                Clear cutting board   \n46     46  S04_1.pkl                         Clean a plate with a towel   \n39     39  S04_1.pkl             Pour water from a pitcher into a glass   \n11     11  S04_1.pkl                                      Peel a potato   \n21     21  S04_1.pkl                                        Slice bread   \n35     35  S04_1.pkl  Get/replace items from refrigerator/cabinets/d...   \n15     15  S04_1.pkl                                     Slice a potato   \n22     22  S04_1.pkl                                        Slice bread   \n2       2  S04_1.pkl                                    Peel a cucumber   \n12     12  S04_1.pkl                                      Peel a potato   \n4       4  S04_1.pkl                                    Peel a cucumber   \n8       8  S04_1.pkl                                   Slice a cucumber   \n16     16  S04_1.pkl                                     Slice a potato   \n30     30  S04_1.pkl                      Spread jelly on a bread slice   \n19     19  S04_1.pkl  Get/replace items from refrigerator/cabinets/d...   \n48     48  S04_1.pkl                          Clean a pan with a sponge   \n54     54  S04_1.pkl  Get/replace items from refrigerator/cabinets/d...   \n\n        labels  \n10     Get/Put  \n6        Slice  \n17       Slice  \n44       Clean  \n37        Pour  \n27      Spread  \n49       Clean  \n33  Open/Close  \n29      Spread  \n24     Get/Put  \n18       Clear  \n51       Clean  \n28      Spread  \n53       Clean  \n1      Get/Put  \n9        Clear  \n3         Peel  \n20       Slice  \n57       Stack  \n32  Open/Close  \n38        Pour  \n40        Pour  \n42       Clean  \n58        Load  \n50       Clean  \n7        Slice  \n25      Spread  \n55     Get/Put  \n31       Clear  \n14       Clear  \n43       Clean  \n41     Get/Put  \n59      Unload  \n13        Peel  \n5        Clear  \n46       Clean  \n39        Pour  \n11        Peel  \n21       Slice  \n35     Get/Put  \n15       Slice  \n22       Slice  \n2         Peel  \n12        Peel  \n4         Peel  \n8        Slice  \n16       Slice  \n30      Spread  \n19     Get/Put  \n48       Clean  \n54     Get/Put  ",
      "text/html": "<div>\n<style scoped>\n    .dataframe tbody tr th:only-of-type {\n        vertical-align: middle;\n    }\n\n    .dataframe tbody tr th {\n        vertical-align: top;\n    }\n\n    .dataframe thead th {\n        text-align: right;\n    }\n</style>\n<table border=\"1\" class=\"dataframe\">\n  <thead>\n    <tr style=\"text-align: right;\">\n      <th></th>\n      <th>index</th>\n      <th>file</th>\n      <th>description</th>\n      <th>labels</th>\n    </tr>\n  </thead>\n  <tbody>\n    <tr>\n      <th>10</th>\n      <td>10</td>\n      <td>S04_1.pkl</td>\n      <td>Get/replace items from refrigerator/cabinets/d...</td>\n      <td>Get/Put</td>\n    </tr>\n    <tr>\n      <th>6</th>\n      <td>6</td>\n      <td>S04_1.pkl</td>\n      <td>Slice a cucumber</td>\n      <td>Slice</td>\n    </tr>\n    <tr>\n      <th>17</th>\n      <td>17</td>\n      <td>S04_1.pkl</td>\n      <td>Slice a potato</td>\n      <td>Slice</td>\n    </tr>\n    <tr>\n      <th>44</th>\n      <td>44</td>\n      <td>S04_1.pkl</td>\n      <td>Clean a plate with a sponge</td>\n      <td>Clean</td>\n    </tr>\n    <tr>\n      <th>37</th>\n      <td>37</td>\n      <td>S04_1.pkl</td>\n      <td>Pour water from a pitcher into a glass</td>\n      <td>Pour</td>\n    </tr>\n    <tr>\n      <th>27</th>\n      <td>27</td>\n      <td>S04_1.pkl</td>\n      <td>Spread almond butter on a bread slice</td>\n      <td>Spread</td>\n    </tr>\n    <tr>\n      <th>49</th>\n      <td>49</td>\n      <td>S04_1.pkl</td>\n      <td>Clean a pan with a sponge</td>\n      <td>Clean</td>\n    </tr>\n    <tr>\n      <th>33</th>\n      <td>33</td>\n      <td>S04_1.pkl</td>\n      <td>Open/close a jar of almond butter</td>\n      <td>Open/Close</td>\n    </tr>\n    <tr>\n      <th>29</th>\n      <td>29</td>\n      <td>S04_1.pkl</td>\n      <td>Spread jelly on a bread slice</td>\n      <td>Spread</td>\n    </tr>\n    <tr>\n      <th>24</th>\n      <td>24</td>\n      <td>S04_1.pkl</td>\n      <td>Get/replace items from refrigerator/cabinets/d...</td>\n      <td>Get/Put</td>\n    </tr>\n    <tr>\n      <th>18</th>\n      <td>18</td>\n      <td>S04_1.pkl</td>\n      <td>Clear cutting board</td>\n      <td>Clear</td>\n    </tr>\n    <tr>\n      <th>51</th>\n      <td>51</td>\n      <td>S04_1.pkl</td>\n      <td>Clean a pan with a towel</td>\n      <td>Clean</td>\n    </tr>\n    <tr>\n      <th>28</th>\n      <td>28</td>\n      <td>S04_1.pkl</td>\n      <td>Spread jelly on a bread slice</td>\n      <td>Spread</td>\n    </tr>\n    <tr>\n      <th>53</th>\n      <td>53</td>\n      <td>S04_1.pkl</td>\n      <td>Clean a pan with a towel</td>\n      <td>Clean</td>\n    </tr>\n    <tr>\n      <th>1</th>\n      <td>1</td>\n      <td>S04_1.pkl</td>\n      <td>Get/replace items from refrigerator/cabinets/d...</td>\n      <td>Get/Put</td>\n    </tr>\n    <tr>\n      <th>9</th>\n      <td>9</td>\n      <td>S04_1.pkl</td>\n      <td>Clear cutting board</td>\n      <td>Clear</td>\n    </tr>\n    <tr>\n      <th>3</th>\n      <td>3</td>\n      <td>S04_1.pkl</td>\n      <td>Peel a cucumber</td>\n      <td>Peel</td>\n    </tr>\n    <tr>\n      <th>20</th>\n      <td>20</td>\n      <td>S04_1.pkl</td>\n      <td>Slice bread</td>\n      <td>Slice</td>\n    </tr>\n    <tr>\n      <th>57</th>\n      <td>57</td>\n      <td>S04_1.pkl</td>\n      <td>Stack on table: 3 each large/small plates, bowls</td>\n      <td>Stack</td>\n    </tr>\n    <tr>\n      <th>32</th>\n      <td>32</td>\n      <td>S04_1.pkl</td>\n      <td>Open/close a jar of almond butter</td>\n      <td>Open/Close</td>\n    </tr>\n    <tr>\n      <th>38</th>\n      <td>38</td>\n      <td>S04_1.pkl</td>\n      <td>Pour water from a pitcher into a glass</td>\n      <td>Pour</td>\n    </tr>\n    <tr>\n      <th>40</th>\n      <td>40</td>\n      <td>S04_1.pkl</td>\n      <td>Pour water from a pitcher into a glass</td>\n      <td>Pour</td>\n    </tr>\n    <tr>\n      <th>42</th>\n      <td>42</td>\n      <td>S04_1.pkl</td>\n      <td>Clean a plate with a sponge</td>\n      <td>Clean</td>\n    </tr>\n    <tr>\n      <th>58</th>\n      <td>58</td>\n      <td>S04_1.pkl</td>\n      <td>Load dishwasher: 3 each large/small plates, bo...</td>\n      <td>Load</td>\n    </tr>\n    <tr>\n      <th>50</th>\n      <td>50</td>\n      <td>S04_1.pkl</td>\n      <td>Clean a pan with a sponge</td>\n      <td>Clean</td>\n    </tr>\n    <tr>\n      <th>7</th>\n      <td>7</td>\n      <td>S04_1.pkl</td>\n      <td>Slice a cucumber</td>\n      <td>Slice</td>\n    </tr>\n    <tr>\n      <th>25</th>\n      <td>25</td>\n      <td>S04_1.pkl</td>\n      <td>Spread almond butter on a bread slice</td>\n      <td>Spread</td>\n    </tr>\n    <tr>\n      <th>55</th>\n      <td>55</td>\n      <td>S04_1.pkl</td>\n      <td>Get items from cabinets: 3 each large/small pl...</td>\n      <td>Get/Put</td>\n    </tr>\n    <tr>\n      <th>31</th>\n      <td>31</td>\n      <td>S04_1.pkl</td>\n      <td>Clear cutting board</td>\n      <td>Clear</td>\n    </tr>\n    <tr>\n      <th>14</th>\n      <td>14</td>\n      <td>S04_1.pkl</td>\n      <td>Clear cutting board</td>\n      <td>Clear</td>\n    </tr>\n    <tr>\n      <th>43</th>\n      <td>43</td>\n      <td>S04_1.pkl</td>\n      <td>Clean a plate with a sponge</td>\n      <td>Clean</td>\n    </tr>\n    <tr>\n      <th>41</th>\n      <td>41</td>\n      <td>S04_1.pkl</td>\n      <td>Get/replace items from refrigerator/cabinets/d...</td>\n      <td>Get/Put</td>\n    </tr>\n    <tr>\n      <th>59</th>\n      <td>59</td>\n      <td>S04_1.pkl</td>\n      <td>Unload dishwasher: 3 each large/small plates, ...</td>\n      <td>Unload</td>\n    </tr>\n    <tr>\n      <th>13</th>\n      <td>13</td>\n      <td>S04_1.pkl</td>\n      <td>Peel a potato</td>\n      <td>Peel</td>\n    </tr>\n    <tr>\n      <th>5</th>\n      <td>5</td>\n      <td>S04_1.pkl</td>\n      <td>Clear cutting board</td>\n      <td>Clear</td>\n    </tr>\n    <tr>\n      <th>46</th>\n      <td>46</td>\n      <td>S04_1.pkl</td>\n      <td>Clean a plate with a towel</td>\n      <td>Clean</td>\n    </tr>\n    <tr>\n      <th>39</th>\n      <td>39</td>\n      <td>S04_1.pkl</td>\n      <td>Pour water from a pitcher into a glass</td>\n      <td>Pour</td>\n    </tr>\n    <tr>\n      <th>11</th>\n      <td>11</td>\n      <td>S04_1.pkl</td>\n      <td>Peel a potato</td>\n      <td>Peel</td>\n    </tr>\n    <tr>\n      <th>21</th>\n      <td>21</td>\n      <td>S04_1.pkl</td>\n      <td>Slice bread</td>\n      <td>Slice</td>\n    </tr>\n    <tr>\n      <th>35</th>\n      <td>35</td>\n      <td>S04_1.pkl</td>\n      <td>Get/replace items from refrigerator/cabinets/d...</td>\n      <td>Get/Put</td>\n    </tr>\n    <tr>\n      <th>15</th>\n      <td>15</td>\n      <td>S04_1.pkl</td>\n      <td>Slice a potato</td>\n      <td>Slice</td>\n    </tr>\n    <tr>\n      <th>22</th>\n      <td>22</td>\n      <td>S04_1.pkl</td>\n      <td>Slice bread</td>\n      <td>Slice</td>\n    </tr>\n    <tr>\n      <th>2</th>\n      <td>2</td>\n      <td>S04_1.pkl</td>\n      <td>Peel a cucumber</td>\n      <td>Peel</td>\n    </tr>\n    <tr>\n      <th>12</th>\n      <td>12</td>\n      <td>S04_1.pkl</td>\n      <td>Peel a potato</td>\n      <td>Peel</td>\n    </tr>\n    <tr>\n      <th>4</th>\n      <td>4</td>\n      <td>S04_1.pkl</td>\n      <td>Peel a cucumber</td>\n      <td>Peel</td>\n    </tr>\n    <tr>\n      <th>8</th>\n      <td>8</td>\n      <td>S04_1.pkl</td>\n      <td>Slice a cucumber</td>\n      <td>Slice</td>\n    </tr>\n    <tr>\n      <th>16</th>\n      <td>16</td>\n      <td>S04_1.pkl</td>\n      <td>Slice a potato</td>\n      <td>Slice</td>\n    </tr>\n    <tr>\n      <th>30</th>\n      <td>30</td>\n      <td>S04_1.pkl</td>\n      <td>Spread jelly on a bread slice</td>\n      <td>Spread</td>\n    </tr>\n    <tr>\n      <th>19</th>\n      <td>19</td>\n      <td>S04_1.pkl</td>\n      <td>Get/replace items from refrigerator/cabinets/d...</td>\n      <td>Get/Put</td>\n    </tr>\n    <tr>\n      <th>48</th>\n      <td>48</td>\n      <td>S04_1.pkl</td>\n      <td>Clean a pan with a sponge</td>\n      <td>Clean</td>\n    </tr>\n    <tr>\n      <th>54</th>\n      <td>54</td>\n      <td>S04_1.pkl</td>\n      <td>Get/replace items from refrigerator/cabinets/d...</td>\n      <td>Get/Put</td>\n    </tr>\n  </tbody>\n</table>\n</div>"
     },
     "execution_count": 53,
     "metadata": {},
     "output_type": "execute_result"
    }
   ],
   "source": [
    "import pandas as pd\n",
    "\n",
    "df = pd.read_pickle('action-net/ActionNet_train.pkl')\n",
    "\n",
    "df = df[df['file'] == 'S04_1.pkl']\n",
    "\n",
    "df"
   ],
   "metadata": {
    "collapsed": false,
    "ExecuteTime": {
     "end_time": "2024-02-13T19:41:50.152253Z",
     "start_time": "2024-02-13T19:41:50.121189Z"
    }
   },
   "id": "b07937f9da27891d",
   "execution_count": 53
  },
  {
   "cell_type": "code",
   "outputs": [
    {
     "data": {
      "text/plain": "     uid participant_id video_id  \\\n192  192            S04   S04_01   \n193  193            S04   S04_01   \n194  194            S04   S04_01   \n195  195            S04   S04_01   \n196  196            S04   S04_01   \n197  197            S04   S04_01   \n216  216            S04   S04_01   \n217  217            S04   S04_01   \n218  218            S04   S04_01   \n219  219            S04   S04_01   \n243  243            S04   S04_01   \n244  244            S04   S04_01   \n245  245            S04   S04_01   \n246  246            S04   S04_01   \n262  262            S04   S04_01   \n290  290            S04   S04_01   \n293  293            S04   S04_01   \n294  294            S04   S04_01   \n301  301            S04   S04_01   \n302  302            S04   S04_01   \n335  335            S04   S04_01   \n336  336            S04   S04_01   \n337  337            S04   S04_01   \n338  338            S04   S04_01   \n339  339            S04   S04_01   \n340  340            S04   S04_01   \n341  341            S04   S04_01   \n342  342            S04   S04_01   \n343  343            S04   S04_01   \n344  344            S04   S04_01   \n345  345            S04   S04_01   \n346  346            S04   S04_01   \n347  347            S04   S04_01   \n348  348            S04   S04_01   \n349  349            S04   S04_01   \n350  350            S04   S04_01   \n351  351            S04   S04_01   \n352  352            S04   S04_01   \n353  353            S04   S04_01   \n\n                                             narration  start_timestamp  \\\n192                                Clear cutting board      2693.636364   \n193                                Clear cutting board      2700.363636   \n194                                Clear cutting board      2707.090909   \n195                                Clear cutting board      2713.818182   \n196                                Clear cutting board      2720.545455   \n197                                Clear cutting board      2727.272727   \n216              Spread almond butter on a bread slice      2890.500000   \n217              Spread almond butter on a bread slice      2897.227273   \n218              Spread almond butter on a bread slice      2903.954545   \n219              Spread almond butter on a bread slice      2910.681818   \n243                  Open/close a jar of almond butter      3120.681818   \n244                  Open/close a jar of almond butter      3127.409091   \n245                  Open/close a jar of almond butter      3134.136364   \n246                  Open/close a jar of almond butter      3140.863636   \n262             Pour water from a pitcher into a glass      3260.454545   \n290                         Clean a plate with a towel      3553.545455   \n293                         Clean a plate with a towel      3576.272727   \n294                         Clean a plate with a towel      3583.000000   \n301                           Clean a pan with a towel      3641.318182   \n302                           Clean a pan with a towel      3648.045455   \n335  Set table: 3 each large/small plates, bowls, m...      3927.500000   \n336  Set table: 3 each large/small plates, bowls, m...      3934.227273   \n337  Set table: 3 each large/small plates, bowls, m...      3940.954545   \n338  Set table: 3 each large/small plates, bowls, m...      3947.681818   \n339  Set table: 3 each large/small plates, bowls, m...      3954.409091   \n340  Set table: 3 each large/small plates, bowls, m...      3961.136364   \n341  Set table: 3 each large/small plates, bowls, m...      3967.863636   \n342  Set table: 3 each large/small plates, bowls, m...      3974.590909   \n343  Set table: 3 each large/small plates, bowls, m...      3981.318182   \n344  Set table: 3 each large/small plates, bowls, m...      3988.045455   \n345  Set table: 3 each large/small plates, bowls, m...      3994.772727   \n346  Set table: 3 each large/small plates, bowls, m...      4001.500000   \n347  Set table: 3 each large/small plates, bowls, m...      4008.227273   \n348  Set table: 3 each large/small plates, bowls, m...      4014.954545   \n349  Set table: 3 each large/small plates, bowls, m...      4021.681818   \n350  Set table: 3 each large/small plates, bowls, m...      4028.409091   \n351  Set table: 3 each large/small plates, bowls, m...      4035.136364   \n352  Set table: 3 each large/small plates, bowls, m...      4041.863636   \n353  Set table: 3 each large/small plates, bowls, m...      4048.590909   \n\n     stop_timestamp  start_frame  stop_frame  \\\n192     2700.318182        59260       59407   \n193     2707.045455        59408       59555   \n194     2713.772727        59556       59703   \n195     2720.500000        59704       59851   \n196     2727.227273        59852       59999   \n197     2730.681818        60000       60075   \n216     2897.181818        63591       63738   \n217     2903.909091        63739       63886   \n218     2910.636364        63887       64034   \n219     2913.863636        64035       64105   \n243     3127.363636        68655       68802   \n244     3134.090909        68803       68950   \n245     3140.818182        68951       69098   \n246     3141.909091        69099       69122   \n262     3265.818182        71730       71848   \n290     3557.227273        78178       78259   \n293     3582.954545        78678       78825   \n294     3585.181818        78826       78874   \n301     3648.000000        80109       80256   \n302     3649.409091        80257       80287   \n335     3934.181818        86405       86552   \n336     3940.909091        86553       86700   \n337     3947.636364        86701       86848   \n338     3954.363636        86849       86996   \n339     3961.090909        86997       87144   \n340     3967.818182        87145       87292   \n341     3974.545455        87293       87440   \n342     3981.272727        87441       87588   \n343     3988.000000        87589       87736   \n344     3994.727273        87737       87884   \n345     4001.454545        87885       88032   \n346     4008.181818        88033       88180   \n347     4014.909091        88181       88328   \n348     4021.636364        88329       88476   \n349     4028.363636        88477       88624   \n350     4035.090909        88625       88772   \n351     4041.818182        88773       88920   \n352     4048.545455        88921       89068   \n353     4049.045455        89069       89079   \n\n                                                  verb  verb_class  \n192                                Clear cutting board           2  \n193                                Clear cutting board           2  \n194                                Clear cutting board           2  \n195                                Clear cutting board           2  \n196                                Clear cutting board           2  \n197                                Clear cutting board           2  \n216              Spread almond butter on a bread slice           7  \n217              Spread almond butter on a bread slice           7  \n218              Spread almond butter on a bread slice           7  \n219              Spread almond butter on a bread slice           7  \n243                  Open/close a jar of almond butter           9  \n244                  Open/close a jar of almond butter           9  \n245                  Open/close a jar of almond butter           9  \n246                  Open/close a jar of almond butter           9  \n262             Pour water from a pitcher into a glass          10  \n290                         Clean a plate with a towel          12  \n293                         Clean a plate with a towel          12  \n294                         Clean a plate with a towel          12  \n301                           Clean a pan with a towel          14  \n302                           Clean a pan with a towel          14  \n335  Set table: 3 each large/small plates, bowls, m...          16  \n336  Set table: 3 each large/small plates, bowls, m...          16  \n337  Set table: 3 each large/small plates, bowls, m...          16  \n338  Set table: 3 each large/small plates, bowls, m...          16  \n339  Set table: 3 each large/small plates, bowls, m...          16  \n340  Set table: 3 each large/small plates, bowls, m...          16  \n341  Set table: 3 each large/small plates, bowls, m...          16  \n342  Set table: 3 each large/small plates, bowls, m...          16  \n343  Set table: 3 each large/small plates, bowls, m...          16  \n344  Set table: 3 each large/small plates, bowls, m...          16  \n345  Set table: 3 each large/small plates, bowls, m...          16  \n346  Set table: 3 each large/small plates, bowls, m...          16  \n347  Set table: 3 each large/small plates, bowls, m...          16  \n348  Set table: 3 each large/small plates, bowls, m...          16  \n349  Set table: 3 each large/small plates, bowls, m...          16  \n350  Set table: 3 each large/small plates, bowls, m...          16  \n351  Set table: 3 each large/small plates, bowls, m...          16  \n352  Set table: 3 each large/small plates, bowls, m...          16  \n353  Set table: 3 each large/small plates, bowls, m...          16  ",
      "text/html": "<div>\n<style scoped>\n    .dataframe tbody tr th:only-of-type {\n        vertical-align: middle;\n    }\n\n    .dataframe tbody tr th {\n        vertical-align: top;\n    }\n\n    .dataframe thead th {\n        text-align: right;\n    }\n</style>\n<table border=\"1\" class=\"dataframe\">\n  <thead>\n    <tr style=\"text-align: right;\">\n      <th></th>\n      <th>uid</th>\n      <th>participant_id</th>\n      <th>video_id</th>\n      <th>narration</th>\n      <th>start_timestamp</th>\n      <th>stop_timestamp</th>\n      <th>start_frame</th>\n      <th>stop_frame</th>\n      <th>verb</th>\n      <th>verb_class</th>\n    </tr>\n  </thead>\n  <tbody>\n    <tr>\n      <th>192</th>\n      <td>192</td>\n      <td>S04</td>\n      <td>S04_01</td>\n      <td>Clear cutting board</td>\n      <td>2693.636364</td>\n      <td>2700.318182</td>\n      <td>59260</td>\n      <td>59407</td>\n      <td>Clear cutting board</td>\n      <td>2</td>\n    </tr>\n    <tr>\n      <th>193</th>\n      <td>193</td>\n      <td>S04</td>\n      <td>S04_01</td>\n      <td>Clear cutting board</td>\n      <td>2700.363636</td>\n      <td>2707.045455</td>\n      <td>59408</td>\n      <td>59555</td>\n      <td>Clear cutting board</td>\n      <td>2</td>\n    </tr>\n    <tr>\n      <th>194</th>\n      <td>194</td>\n      <td>S04</td>\n      <td>S04_01</td>\n      <td>Clear cutting board</td>\n      <td>2707.090909</td>\n      <td>2713.772727</td>\n      <td>59556</td>\n      <td>59703</td>\n      <td>Clear cutting board</td>\n      <td>2</td>\n    </tr>\n    <tr>\n      <th>195</th>\n      <td>195</td>\n      <td>S04</td>\n      <td>S04_01</td>\n      <td>Clear cutting board</td>\n      <td>2713.818182</td>\n      <td>2720.500000</td>\n      <td>59704</td>\n      <td>59851</td>\n      <td>Clear cutting board</td>\n      <td>2</td>\n    </tr>\n    <tr>\n      <th>196</th>\n      <td>196</td>\n      <td>S04</td>\n      <td>S04_01</td>\n      <td>Clear cutting board</td>\n      <td>2720.545455</td>\n      <td>2727.227273</td>\n      <td>59852</td>\n      <td>59999</td>\n      <td>Clear cutting board</td>\n      <td>2</td>\n    </tr>\n    <tr>\n      <th>197</th>\n      <td>197</td>\n      <td>S04</td>\n      <td>S04_01</td>\n      <td>Clear cutting board</td>\n      <td>2727.272727</td>\n      <td>2730.681818</td>\n      <td>60000</td>\n      <td>60075</td>\n      <td>Clear cutting board</td>\n      <td>2</td>\n    </tr>\n    <tr>\n      <th>216</th>\n      <td>216</td>\n      <td>S04</td>\n      <td>S04_01</td>\n      <td>Spread almond butter on a bread slice</td>\n      <td>2890.500000</td>\n      <td>2897.181818</td>\n      <td>63591</td>\n      <td>63738</td>\n      <td>Spread almond butter on a bread slice</td>\n      <td>7</td>\n    </tr>\n    <tr>\n      <th>217</th>\n      <td>217</td>\n      <td>S04</td>\n      <td>S04_01</td>\n      <td>Spread almond butter on a bread slice</td>\n      <td>2897.227273</td>\n      <td>2903.909091</td>\n      <td>63739</td>\n      <td>63886</td>\n      <td>Spread almond butter on a bread slice</td>\n      <td>7</td>\n    </tr>\n    <tr>\n      <th>218</th>\n      <td>218</td>\n      <td>S04</td>\n      <td>S04_01</td>\n      <td>Spread almond butter on a bread slice</td>\n      <td>2903.954545</td>\n      <td>2910.636364</td>\n      <td>63887</td>\n      <td>64034</td>\n      <td>Spread almond butter on a bread slice</td>\n      <td>7</td>\n    </tr>\n    <tr>\n      <th>219</th>\n      <td>219</td>\n      <td>S04</td>\n      <td>S04_01</td>\n      <td>Spread almond butter on a bread slice</td>\n      <td>2910.681818</td>\n      <td>2913.863636</td>\n      <td>64035</td>\n      <td>64105</td>\n      <td>Spread almond butter on a bread slice</td>\n      <td>7</td>\n    </tr>\n    <tr>\n      <th>243</th>\n      <td>243</td>\n      <td>S04</td>\n      <td>S04_01</td>\n      <td>Open/close a jar of almond butter</td>\n      <td>3120.681818</td>\n      <td>3127.363636</td>\n      <td>68655</td>\n      <td>68802</td>\n      <td>Open/close a jar of almond butter</td>\n      <td>9</td>\n    </tr>\n    <tr>\n      <th>244</th>\n      <td>244</td>\n      <td>S04</td>\n      <td>S04_01</td>\n      <td>Open/close a jar of almond butter</td>\n      <td>3127.409091</td>\n      <td>3134.090909</td>\n      <td>68803</td>\n      <td>68950</td>\n      <td>Open/close a jar of almond butter</td>\n      <td>9</td>\n    </tr>\n    <tr>\n      <th>245</th>\n      <td>245</td>\n      <td>S04</td>\n      <td>S04_01</td>\n      <td>Open/close a jar of almond butter</td>\n      <td>3134.136364</td>\n      <td>3140.818182</td>\n      <td>68951</td>\n      <td>69098</td>\n      <td>Open/close a jar of almond butter</td>\n      <td>9</td>\n    </tr>\n    <tr>\n      <th>246</th>\n      <td>246</td>\n      <td>S04</td>\n      <td>S04_01</td>\n      <td>Open/close a jar of almond butter</td>\n      <td>3140.863636</td>\n      <td>3141.909091</td>\n      <td>69099</td>\n      <td>69122</td>\n      <td>Open/close a jar of almond butter</td>\n      <td>9</td>\n    </tr>\n    <tr>\n      <th>262</th>\n      <td>262</td>\n      <td>S04</td>\n      <td>S04_01</td>\n      <td>Pour water from a pitcher into a glass</td>\n      <td>3260.454545</td>\n      <td>3265.818182</td>\n      <td>71730</td>\n      <td>71848</td>\n      <td>Pour water from a pitcher into a glass</td>\n      <td>10</td>\n    </tr>\n    <tr>\n      <th>290</th>\n      <td>290</td>\n      <td>S04</td>\n      <td>S04_01</td>\n      <td>Clean a plate with a towel</td>\n      <td>3553.545455</td>\n      <td>3557.227273</td>\n      <td>78178</td>\n      <td>78259</td>\n      <td>Clean a plate with a towel</td>\n      <td>12</td>\n    </tr>\n    <tr>\n      <th>293</th>\n      <td>293</td>\n      <td>S04</td>\n      <td>S04_01</td>\n      <td>Clean a plate with a towel</td>\n      <td>3576.272727</td>\n      <td>3582.954545</td>\n      <td>78678</td>\n      <td>78825</td>\n      <td>Clean a plate with a towel</td>\n      <td>12</td>\n    </tr>\n    <tr>\n      <th>294</th>\n      <td>294</td>\n      <td>S04</td>\n      <td>S04_01</td>\n      <td>Clean a plate with a towel</td>\n      <td>3583.000000</td>\n      <td>3585.181818</td>\n      <td>78826</td>\n      <td>78874</td>\n      <td>Clean a plate with a towel</td>\n      <td>12</td>\n    </tr>\n    <tr>\n      <th>301</th>\n      <td>301</td>\n      <td>S04</td>\n      <td>S04_01</td>\n      <td>Clean a pan with a towel</td>\n      <td>3641.318182</td>\n      <td>3648.000000</td>\n      <td>80109</td>\n      <td>80256</td>\n      <td>Clean a pan with a towel</td>\n      <td>14</td>\n    </tr>\n    <tr>\n      <th>302</th>\n      <td>302</td>\n      <td>S04</td>\n      <td>S04_01</td>\n      <td>Clean a pan with a towel</td>\n      <td>3648.045455</td>\n      <td>3649.409091</td>\n      <td>80257</td>\n      <td>80287</td>\n      <td>Clean a pan with a towel</td>\n      <td>14</td>\n    </tr>\n    <tr>\n      <th>335</th>\n      <td>335</td>\n      <td>S04</td>\n      <td>S04_01</td>\n      <td>Set table: 3 each large/small plates, bowls, m...</td>\n      <td>3927.500000</td>\n      <td>3934.181818</td>\n      <td>86405</td>\n      <td>86552</td>\n      <td>Set table: 3 each large/small plates, bowls, m...</td>\n      <td>16</td>\n    </tr>\n    <tr>\n      <th>336</th>\n      <td>336</td>\n      <td>S04</td>\n      <td>S04_01</td>\n      <td>Set table: 3 each large/small plates, bowls, m...</td>\n      <td>3934.227273</td>\n      <td>3940.909091</td>\n      <td>86553</td>\n      <td>86700</td>\n      <td>Set table: 3 each large/small plates, bowls, m...</td>\n      <td>16</td>\n    </tr>\n    <tr>\n      <th>337</th>\n      <td>337</td>\n      <td>S04</td>\n      <td>S04_01</td>\n      <td>Set table: 3 each large/small plates, bowls, m...</td>\n      <td>3940.954545</td>\n      <td>3947.636364</td>\n      <td>86701</td>\n      <td>86848</td>\n      <td>Set table: 3 each large/small plates, bowls, m...</td>\n      <td>16</td>\n    </tr>\n    <tr>\n      <th>338</th>\n      <td>338</td>\n      <td>S04</td>\n      <td>S04_01</td>\n      <td>Set table: 3 each large/small plates, bowls, m...</td>\n      <td>3947.681818</td>\n      <td>3954.363636</td>\n      <td>86849</td>\n      <td>86996</td>\n      <td>Set table: 3 each large/small plates, bowls, m...</td>\n      <td>16</td>\n    </tr>\n    <tr>\n      <th>339</th>\n      <td>339</td>\n      <td>S04</td>\n      <td>S04_01</td>\n      <td>Set table: 3 each large/small plates, bowls, m...</td>\n      <td>3954.409091</td>\n      <td>3961.090909</td>\n      <td>86997</td>\n      <td>87144</td>\n      <td>Set table: 3 each large/small plates, bowls, m...</td>\n      <td>16</td>\n    </tr>\n    <tr>\n      <th>340</th>\n      <td>340</td>\n      <td>S04</td>\n      <td>S04_01</td>\n      <td>Set table: 3 each large/small plates, bowls, m...</td>\n      <td>3961.136364</td>\n      <td>3967.818182</td>\n      <td>87145</td>\n      <td>87292</td>\n      <td>Set table: 3 each large/small plates, bowls, m...</td>\n      <td>16</td>\n    </tr>\n    <tr>\n      <th>341</th>\n      <td>341</td>\n      <td>S04</td>\n      <td>S04_01</td>\n      <td>Set table: 3 each large/small plates, bowls, m...</td>\n      <td>3967.863636</td>\n      <td>3974.545455</td>\n      <td>87293</td>\n      <td>87440</td>\n      <td>Set table: 3 each large/small plates, bowls, m...</td>\n      <td>16</td>\n    </tr>\n    <tr>\n      <th>342</th>\n      <td>342</td>\n      <td>S04</td>\n      <td>S04_01</td>\n      <td>Set table: 3 each large/small plates, bowls, m...</td>\n      <td>3974.590909</td>\n      <td>3981.272727</td>\n      <td>87441</td>\n      <td>87588</td>\n      <td>Set table: 3 each large/small plates, bowls, m...</td>\n      <td>16</td>\n    </tr>\n    <tr>\n      <th>343</th>\n      <td>343</td>\n      <td>S04</td>\n      <td>S04_01</td>\n      <td>Set table: 3 each large/small plates, bowls, m...</td>\n      <td>3981.318182</td>\n      <td>3988.000000</td>\n      <td>87589</td>\n      <td>87736</td>\n      <td>Set table: 3 each large/small plates, bowls, m...</td>\n      <td>16</td>\n    </tr>\n    <tr>\n      <th>344</th>\n      <td>344</td>\n      <td>S04</td>\n      <td>S04_01</td>\n      <td>Set table: 3 each large/small plates, bowls, m...</td>\n      <td>3988.045455</td>\n      <td>3994.727273</td>\n      <td>87737</td>\n      <td>87884</td>\n      <td>Set table: 3 each large/small plates, bowls, m...</td>\n      <td>16</td>\n    </tr>\n    <tr>\n      <th>345</th>\n      <td>345</td>\n      <td>S04</td>\n      <td>S04_01</td>\n      <td>Set table: 3 each large/small plates, bowls, m...</td>\n      <td>3994.772727</td>\n      <td>4001.454545</td>\n      <td>87885</td>\n      <td>88032</td>\n      <td>Set table: 3 each large/small plates, bowls, m...</td>\n      <td>16</td>\n    </tr>\n    <tr>\n      <th>346</th>\n      <td>346</td>\n      <td>S04</td>\n      <td>S04_01</td>\n      <td>Set table: 3 each large/small plates, bowls, m...</td>\n      <td>4001.500000</td>\n      <td>4008.181818</td>\n      <td>88033</td>\n      <td>88180</td>\n      <td>Set table: 3 each large/small plates, bowls, m...</td>\n      <td>16</td>\n    </tr>\n    <tr>\n      <th>347</th>\n      <td>347</td>\n      <td>S04</td>\n      <td>S04_01</td>\n      <td>Set table: 3 each large/small plates, bowls, m...</td>\n      <td>4008.227273</td>\n      <td>4014.909091</td>\n      <td>88181</td>\n      <td>88328</td>\n      <td>Set table: 3 each large/small plates, bowls, m...</td>\n      <td>16</td>\n    </tr>\n    <tr>\n      <th>348</th>\n      <td>348</td>\n      <td>S04</td>\n      <td>S04_01</td>\n      <td>Set table: 3 each large/small plates, bowls, m...</td>\n      <td>4014.954545</td>\n      <td>4021.636364</td>\n      <td>88329</td>\n      <td>88476</td>\n      <td>Set table: 3 each large/small plates, bowls, m...</td>\n      <td>16</td>\n    </tr>\n    <tr>\n      <th>349</th>\n      <td>349</td>\n      <td>S04</td>\n      <td>S04_01</td>\n      <td>Set table: 3 each large/small plates, bowls, m...</td>\n      <td>4021.681818</td>\n      <td>4028.363636</td>\n      <td>88477</td>\n      <td>88624</td>\n      <td>Set table: 3 each large/small plates, bowls, m...</td>\n      <td>16</td>\n    </tr>\n    <tr>\n      <th>350</th>\n      <td>350</td>\n      <td>S04</td>\n      <td>S04_01</td>\n      <td>Set table: 3 each large/small plates, bowls, m...</td>\n      <td>4028.409091</td>\n      <td>4035.090909</td>\n      <td>88625</td>\n      <td>88772</td>\n      <td>Set table: 3 each large/small plates, bowls, m...</td>\n      <td>16</td>\n    </tr>\n    <tr>\n      <th>351</th>\n      <td>351</td>\n      <td>S04</td>\n      <td>S04_01</td>\n      <td>Set table: 3 each large/small plates, bowls, m...</td>\n      <td>4035.136364</td>\n      <td>4041.818182</td>\n      <td>88773</td>\n      <td>88920</td>\n      <td>Set table: 3 each large/small plates, bowls, m...</td>\n      <td>16</td>\n    </tr>\n    <tr>\n      <th>352</th>\n      <td>352</td>\n      <td>S04</td>\n      <td>S04_01</td>\n      <td>Set table: 3 each large/small plates, bowls, m...</td>\n      <td>4041.863636</td>\n      <td>4048.545455</td>\n      <td>88921</td>\n      <td>89068</td>\n      <td>Set table: 3 each large/small plates, bowls, m...</td>\n      <td>16</td>\n    </tr>\n    <tr>\n      <th>353</th>\n      <td>353</td>\n      <td>S04</td>\n      <td>S04_01</td>\n      <td>Set table: 3 each large/small plates, bowls, m...</td>\n      <td>4048.590909</td>\n      <td>4049.045455</td>\n      <td>89069</td>\n      <td>89079</td>\n      <td>Set table: 3 each large/small plates, bowls, m...</td>\n      <td>16</td>\n    </tr>\n  </tbody>\n</table>\n</div>"
     },
     "execution_count": 13,
     "metadata": {},
     "output_type": "execute_result"
    }
   ],
   "source": [
    "import pandas as pd\n",
    "\n",
    "df = pd.read_pickle('action_net_annotations/S04_test.pkl')\n",
    "\n",
    "df"
   ],
   "metadata": {
    "collapsed": false,
    "ExecuteTime": {
     "end_time": "2024-02-14T10:21:52.903844Z",
     "start_time": "2024-02-14T10:21:52.894622Z"
    }
   },
   "id": "11c451a2dd221f7b",
   "execution_count": 13
  },
  {
   "cell_type": "code",
   "outputs": [],
   "source": [],
   "metadata": {
    "collapsed": false
   },
   "id": "e13ed76278960fa4"
  }
 ],
 "metadata": {
  "kernelspec": {
   "display_name": "Python 3",
   "language": "python",
   "name": "python3"
  },
  "language_info": {
   "codemirror_mode": {
    "name": "ipython",
    "version": 2
   },
   "file_extension": ".py",
   "mimetype": "text/x-python",
   "name": "python",
   "nbconvert_exporter": "python",
   "pygments_lexer": "ipython2",
   "version": "2.7.6"
  }
 },
 "nbformat": 4,
 "nbformat_minor": 5
}
