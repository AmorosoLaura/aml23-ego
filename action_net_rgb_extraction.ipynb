{
 "cells": [
  {
   "cell_type": "code",
   "outputs": [],
   "source": [
    "import pickle\n",
    "import pandas as pd\n",
    "import numpy as np\n",
    "from copy import deepcopy\n",
    "import math\n",
    "from sklearn.model_selection import train_test_split\n",
    "\n",
    "activities_to_classify = {\n",
    "        'Get/replace items from refrigerator/cabinets/drawers': 0,\n",
    "        'Peel a cucumber': 1,\n",
    "        'Clear cutting board': 2,\n",
    "        'Slice a cucumber': 3,\n",
    "        'Peel a potato': 4,\n",
    "        'Slice a potato': 5,\n",
    "        'Slice bread': 6,\n",
    "        'Spread almond butter on a bread slice': 7,\n",
    "        'Spread jelly on a bread slice': 8,\n",
    "        'Open/close a jar of almond butter': 9,\n",
    "        'Pour water from a pitcher into a glass': 10,\n",
    "        'Clean a plate with a sponge': 11,\n",
    "        'Clean a plate with a towel': 12,\n",
    "        'Clean a pan with a sponge': 13,\n",
    "        'Clean a pan with a towel': 14,\n",
    "        'Get items from cabinets: 3 each large/small plates, bowls, mugs, glasses, sets of utensils': 15,\n",
    "        'Set table: 3 each large/small plates, bowls, mugs, glasses, sets of utensils': 16,\n",
    "        'Stack on table: 3 each large/small plates, bowls': 17,\n",
    "        'Load dishwasher: 3 each large/small plates, bowls, mugs, glasses, sets of utensils': 18,\n",
    "        'Unload dishwasher: 3 each large/small plates, bowls, mugs, glasses, sets of utensils': 19,\n",
    "}\n",
    "\n",
    "FPS = 30\n",
    "ACTION_LENGTH = 5\n",
    "\n",
    "def augmentation(data_frame):\n",
    "    augmented_data = []\n",
    "\n",
    "    for _, row in data_frame.iterrows():\n",
    "        start_frame = row['start_frame']\n",
    "        stop_frame = row['stop_frame']\n",
    "        interval_size = FPS * ACTION_LENGTH \n",
    "\n",
    "        num_intervals = math.ceil((stop_frame - start_frame + 1) / interval_size)\n",
    "\n",
    "        for i in range(num_intervals):\n",
    "            new_start = start_frame + i * interval_size\n",
    "            new_stop = min(new_start + interval_size - 1, stop_frame)  \n",
    "            new_row = row.copy()\n",
    "            new_row['start_frame'] = new_start\n",
    "            new_row['stop_frame'] = new_stop\n",
    "            new_row['start_timestamp'] = new_start/FPS\n",
    "            new_row['stop_timestamp'] = new_stop/FPS\n",
    "            augmented_data.append(new_row)\n",
    "\n",
    "    augmented_dataframe = pd.DataFrame(augmented_data, columns=data_frame.columns)\n",
    "    augmented_dataframe.reset_index(drop=True, inplace=True)\n",
    "\n",
    "    return augmented_dataframe\n",
    "\n",
    "def create_annotations_file(timestamp_file, annotations_file, type='train'):\n",
    "\n",
    "    timestamps = pd.read_pickle(timestamp_file)\n",
    "    timestamps = timestamps.drop(\n",
    "        ['myo_left_timestamps', 'myo_right_timestamps', 'myo_left_readings', 'myo_right_readings'], axis=1)\n",
    "    timestamps = timestamps.reset_index()\n",
    "\n",
    "    start_timestamp = timestamps['start'].iloc[0]\n",
    "    timestamps['start_frame'] = ((timestamps['start'] - start_timestamp) * FPS).astype(int)\n",
    "    timestamps['stop_frame'] = ((timestamps['stop'] - start_timestamp) * FPS).astype(int)\n",
    "    \n",
    "    annotations = pd.read_pickle(annotations_file)\n",
    "    annotations = annotations[annotations['file'] == 'S04_1.pkl']\n",
    "    annotations = annotations.drop(['labels'], axis=1)\n",
    "    \n",
    "    complete_labels = pd.merge(timestamps, annotations, on='index', how='inner')\n",
    "    \n",
    "    complete_labels['uid'] = complete_labels['index']\n",
    "    complete_labels['participant_id'] = 'S04'\n",
    "    complete_labels['video_id'] = 'S04_1'\n",
    "    complete_labels['verb'] = complete_labels['description_x']\n",
    "    complete_labels['narration'] = complete_labels['description_x']\n",
    "    complete_labels['verb_class'] = complete_labels['verb'].map(activities_to_classify)\n",
    "\n",
    "    complete_labels = complete_labels[\n",
    "        ['uid', 'participant_id', 'video_id', 'narration', 'start', 'stop', 'start_frame',\n",
    "         'stop_frame', 'verb', 'verb_class']]\n",
    "    \n",
    "    complete_labels['type'] = type\n",
    "    \n",
    "    return complete_labels\n",
    "    \n",
    "    \n",
    "def augment_annotations(train_annotations, test_annotations):\n",
    "    \n",
    "    combined_df = pd.concat([train_annotations, test_annotations], ignore_index=True)\n",
    "    augmented_df = augmentation(combined_df)\n",
    "    \n",
    "    augmented_df = augmented_df.sample(frac=1)\n",
    "\n",
    "    augmented_df.reset_index(inplace=True)\n",
    "    augmented_df['uid'] = augmented_df.index\n",
    "    \n",
    "    train_df_final = augmented_df[augmented_df['type'] == 'train']\n",
    "    test_df_final = augmented_df[augmented_df['type'] == 'test']\n",
    "    \n",
    "    train_df_final = train_df_final.drop(['type'], axis=1)\n",
    "    test_df_final = test_df_final.drop(['type'], axis=1)\n",
    "\n",
    "    train_df_final.to_pickle(f\"action_net_annotations_training/S04_train.pkl\")    \n",
    "    test_df_final.to_pickle(f\"action_net_annotations_training/S04_test.pkl\")   \n",
    "\n",
    "def take_S04_annotations_RGB(timestamps, emg_data, type='train'):\n",
    "    \n",
    "    calibration_val = pd.read_pickle(timestamps)['start'].iloc[0]\n",
    "\n",
    "    emg_data = pd.read_pickle(emg_data)\n",
    "    emg_data = emg_data[emg_data['file'] == 'S04_1.pkl']\n",
    "    emg_data = emg_data.rename(columns={'file': 'video_id', 'description': 'narration', 'description_class': 'verb_class'})\n",
    "    emg_data['participant_id'] = 'S04'\n",
    "    emg_data['video_id'] = 'S04_1'\n",
    "    emg_data['start_frame'] = ((emg_data['start'] - calibration_val) * FPS).astype(int)\n",
    "    emg_data['stop_frame'] = ((emg_data['stop'] - calibration_val) * FPS).astype(int)\n",
    "    emg_data['verb'] = emg_data['narration']\n",
    "    emg_data = emg_data.drop(['emg_data'], axis = 1)\n",
    "    emg_data = emg_data[\n",
    "        ['uid', 'participant_id', 'video_id', 'narration', 'start', 'stop', 'start_frame',\n",
    "         'stop_frame', 'verb', 'verb_class']]\n",
    "    emg_data = emg_data.sample(frac=1).reset_index(drop=True)\n",
    "    \n",
    "    emg_data['type'] = type\n",
    "    \n",
    "    return emg_data\n",
    "\n",
    "def create_reduced_annotations(train_annotations, test_annotations):\n",
    "    \n",
    "    combined_df = pd.concat([train_annotations, test_annotations], ignore_index=True)\n",
    "    \n",
    "    combined_df = combined_df.sample(frac=1)\n",
    "\n",
    "    combined_df.reset_index(inplace=True)\n",
    "    combined_df['uid'] = combined_df.index\n",
    "    \n",
    "    train_df_final = combined_df[combined_df['type'] == 'train']\n",
    "    test_df_final = combined_df[combined_df['type'] == 'test']\n",
    "    \n",
    "    train_df_final = train_df_final.drop(['type'], axis=1)\n",
    "    test_df_final = test_df_final.drop(['type'], axis=1)\n",
    "\n",
    "    train_df_final.to_pickle(f\"action_net_annotations_training/S04_train.pkl\")    \n",
    "    test_df_final.to_pickle(f\"action_net_annotations_training/S04_test.pkl\")   \n",
    "    \n",
    "def create_multimodal_annotations(full_data, split):\n",
    "    full_data = pd.read_pickle(full_data)\n",
    "    full_data = full_data[full_data['file'] == 'S04_1.pkl']\n",
    "    full_data = full_data.rename(columns={'description_class': 'verb_class'})\n",
    "    full_data['participant_id'] = 'S04'\n",
    "    full_data['video_id'] = 'S04_1'\n",
    "    \n",
    "    final_annotations = full_data[\n",
    "        ['uid', 'participant_id', 'video_id', 'description', 'verb_class']]\n",
    "    \n",
    "    final_annotations.to_pickle(f\"an_multimodal_annotations/S04_{split}.pkl\")   \n",
    "    \n",
    "def create_emg_features(full_data, split, spectogram=False):\n",
    "    \n",
    "    full_data = pd.read_pickle(full_data)\n",
    "    full_data = full_data[full_data['file'] == 'S04_1.pkl']\n",
    "    full_data = full_data.rename(columns={'emg_data': 'features_EMG'})\n",
    "    \n",
    "    emg_features = full_data[\n",
    "        ['uid', 'features_EMG']]\n",
    "    emg_features = emg_features.to_dict('list')\n",
    "    emg_features = {'features': emg_features}\n",
    "\n",
    "    features_name = f'saved_features_an_multimodal/features_emg_spectogram_S04_{split}.pkl' if spectogram \\\n",
    "        else f'saved_features_an_multimodal/features_emg_S04_{split}.pkl'\n",
    "    \n",
    "    with open(features_name, 'wb') as f:\n",
    "        pickle.dump(emg_features, f)"
   ],
   "metadata": {
    "collapsed": false,
    "ExecuteTime": {
     "end_time": "2024-04-11T15:00:41.373359Z",
     "start_time": "2024-04-11T15:00:41.364147Z"
    }
   },
   "id": "f7288622a8212497",
   "execution_count": 87
  },
  {
   "cell_type": "code",
   "outputs": [],
   "source": [
    "train_df = take_S04_annotations_RGB(timestamps='S04_1.pkl', emg_data='new_emg_data_test.pkl', type='test')\n",
    "test_df = take_S04_annotations_RGB(timestamps='S04_1.pkl', emg_data='new_emg_data_train.pkl', type='train')\n",
    "create_reduced_annotations(train_annotations=train_df, test_annotations=test_df)"
   ],
   "metadata": {
    "collapsed": false,
    "ExecuteTime": {
     "end_time": "2024-04-11T14:54:55.705865Z",
     "start_time": "2024-04-11T14:54:55.590807Z"
    }
   },
   "id": "4992a8b498a222bd",
   "execution_count": 82
  },
  {
   "cell_type": "code",
   "outputs": [],
   "source": [
    "create_multimodal_annotations(full_data=\"new_emg_data_train.pkl\", split='train')\n",
    "create_multimodal_annotations(full_data=\"new_emg_data_test.pkl\", split='test')\n",
    "create_emg_features(full_data=\"new_emg_data_train.pkl\", split='train')\n",
    "create_emg_features(full_data=\"new_emg_data_test.pkl\", split='test')"
   ],
   "metadata": {
    "collapsed": false,
    "ExecuteTime": {
     "end_time": "2024-04-11T15:00:45.869620Z",
     "start_time": "2024-04-11T15:00:45.669920Z"
    }
   },
   "id": "a8375367fedd5dee",
   "execution_count": 88
  },
  {
   "cell_type": "code",
   "outputs": [
    {
     "data": {
      "text/plain": "     index       file                                   description  \\\n0       11  S03_1.pkl  Get items from refrigerator/cabinets/drawers   \n1       16  S07_1.pkl                           Clear cutting board   \n2       10  S07_1.pkl                              Slice a cucumber   \n3        4  S08_1.pkl                               Peel a cucumber   \n4       40  S09_2.pkl                 Spread jelly on a bread slice   \n..     ...        ...                                           ...   \n897     34  S05_2.pkl                   Open a jar of almond butter   \n898     54  S08_1.pkl  Get items from refrigerator/cabinets/drawers   \n899     17  S05_2.pkl                                Slice a potato   \n900     20  S07_1.pkl                                Slice a potato   \n901     39  S09_2.pkl                 Spread jelly on a bread slice   \n\n         labels         start          stop  \\\n0       Get/Put  1.655228e+09  1.655228e+09   \n1         Clear  1.657726e+09  1.657726e+09   \n2         Slice  1.657726e+09  1.657726e+09   \n3          Peel  1.657737e+09  1.657737e+09   \n4        Spread  1.657809e+09  1.657809e+09   \n..          ...           ...           ...   \n897  Open/Close  1.655256e+09  1.655256e+09   \n898     Get/Put  1.657739e+09  1.657739e+09   \n899       Slice  1.655255e+09  1.655255e+09   \n900       Slice  1.657727e+09  1.657727e+09   \n901      Spread  1.657809e+09  1.657809e+09   \n\n                                              emg_data  description_class  uid  \n0    [[-0.5940820467598136, -0.2558365791189061, -0...                  0  120  \n1    [[-0.9999970501763059, -0.9999994636684193, -0...                 18  608  \n2    [[-0.3977339667409513, -0.5612539489833003, -0...                  2  565  \n3    [[-0.701509930321272, -0.5582205855583406, -0....                  1  728  \n4    [[-0.7193676857524235, -0.6259481828826229, -0...                  7  892  \n..                                                 ...                ...  ...  \n897  [[-0.31753439615059575, -0.8357486489010604, -...                  8  348  \n898  [[-0.8650372466946141, -0.8247769717071822, -0...                  0  820  \n899  [[-0.7490247862263646, -0.6959249467341944, -0...                  4  307  \n900  [[0.05507003809854874, -0.023589837248776467, ...                  4  642  \n901  [[-0.7423227332464863, -0.7914408700352961, -0...                  7  866  \n\n[902 rows x 9 columns]",
      "text/html": "<div>\n<style scoped>\n    .dataframe tbody tr th:only-of-type {\n        vertical-align: middle;\n    }\n\n    .dataframe tbody tr th {\n        vertical-align: top;\n    }\n\n    .dataframe thead th {\n        text-align: right;\n    }\n</style>\n<table border=\"1\" class=\"dataframe\">\n  <thead>\n    <tr style=\"text-align: right;\">\n      <th></th>\n      <th>index</th>\n      <th>file</th>\n      <th>description</th>\n      <th>labels</th>\n      <th>start</th>\n      <th>stop</th>\n      <th>emg_data</th>\n      <th>description_class</th>\n      <th>uid</th>\n    </tr>\n  </thead>\n  <tbody>\n    <tr>\n      <th>0</th>\n      <td>11</td>\n      <td>S03_1.pkl</td>\n      <td>Get items from refrigerator/cabinets/drawers</td>\n      <td>Get/Put</td>\n      <td>1.655228e+09</td>\n      <td>1.655228e+09</td>\n      <td>[[-0.5940820467598136, -0.2558365791189061, -0...</td>\n      <td>0</td>\n      <td>120</td>\n    </tr>\n    <tr>\n      <th>1</th>\n      <td>16</td>\n      <td>S07_1.pkl</td>\n      <td>Clear cutting board</td>\n      <td>Clear</td>\n      <td>1.657726e+09</td>\n      <td>1.657726e+09</td>\n      <td>[[-0.9999970501763059, -0.9999994636684193, -0...</td>\n      <td>18</td>\n      <td>608</td>\n    </tr>\n    <tr>\n      <th>2</th>\n      <td>10</td>\n      <td>S07_1.pkl</td>\n      <td>Slice a cucumber</td>\n      <td>Slice</td>\n      <td>1.657726e+09</td>\n      <td>1.657726e+09</td>\n      <td>[[-0.3977339667409513, -0.5612539489833003, -0...</td>\n      <td>2</td>\n      <td>565</td>\n    </tr>\n    <tr>\n      <th>3</th>\n      <td>4</td>\n      <td>S08_1.pkl</td>\n      <td>Peel a cucumber</td>\n      <td>Peel</td>\n      <td>1.657737e+09</td>\n      <td>1.657737e+09</td>\n      <td>[[-0.701509930321272, -0.5582205855583406, -0....</td>\n      <td>1</td>\n      <td>728</td>\n    </tr>\n    <tr>\n      <th>4</th>\n      <td>40</td>\n      <td>S09_2.pkl</td>\n      <td>Spread jelly on a bread slice</td>\n      <td>Spread</td>\n      <td>1.657809e+09</td>\n      <td>1.657809e+09</td>\n      <td>[[-0.7193676857524235, -0.6259481828826229, -0...</td>\n      <td>7</td>\n      <td>892</td>\n    </tr>\n    <tr>\n      <th>...</th>\n      <td>...</td>\n      <td>...</td>\n      <td>...</td>\n      <td>...</td>\n      <td>...</td>\n      <td>...</td>\n      <td>...</td>\n      <td>...</td>\n      <td>...</td>\n    </tr>\n    <tr>\n      <th>897</th>\n      <td>34</td>\n      <td>S05_2.pkl</td>\n      <td>Open a jar of almond butter</td>\n      <td>Open/Close</td>\n      <td>1.655256e+09</td>\n      <td>1.655256e+09</td>\n      <td>[[-0.31753439615059575, -0.8357486489010604, -...</td>\n      <td>8</td>\n      <td>348</td>\n    </tr>\n    <tr>\n      <th>898</th>\n      <td>54</td>\n      <td>S08_1.pkl</td>\n      <td>Get items from refrigerator/cabinets/drawers</td>\n      <td>Get/Put</td>\n      <td>1.657739e+09</td>\n      <td>1.657739e+09</td>\n      <td>[[-0.8650372466946141, -0.8247769717071822, -0...</td>\n      <td>0</td>\n      <td>820</td>\n    </tr>\n    <tr>\n      <th>899</th>\n      <td>17</td>\n      <td>S05_2.pkl</td>\n      <td>Slice a potato</td>\n      <td>Slice</td>\n      <td>1.655255e+09</td>\n      <td>1.655255e+09</td>\n      <td>[[-0.7490247862263646, -0.6959249467341944, -0...</td>\n      <td>4</td>\n      <td>307</td>\n    </tr>\n    <tr>\n      <th>900</th>\n      <td>20</td>\n      <td>S07_1.pkl</td>\n      <td>Slice a potato</td>\n      <td>Slice</td>\n      <td>1.657727e+09</td>\n      <td>1.657727e+09</td>\n      <td>[[0.05507003809854874, -0.023589837248776467, ...</td>\n      <td>4</td>\n      <td>642</td>\n    </tr>\n    <tr>\n      <th>901</th>\n      <td>39</td>\n      <td>S09_2.pkl</td>\n      <td>Spread jelly on a bread slice</td>\n      <td>Spread</td>\n      <td>1.657809e+09</td>\n      <td>1.657809e+09</td>\n      <td>[[-0.7423227332464863, -0.7914408700352961, -0...</td>\n      <td>7</td>\n      <td>866</td>\n    </tr>\n  </tbody>\n</table>\n<p>902 rows × 9 columns</p>\n</div>"
     },
     "execution_count": 47,
     "metadata": {},
     "output_type": "execute_result"
    }
   ],
   "source": [
    "data2 = pd.read_pickle('new_emg_data_test.pkl')\n",
    "\n",
    "data2"
   ],
   "metadata": {
    "collapsed": false,
    "ExecuteTime": {
     "end_time": "2024-04-09T15:08:27.289051Z",
     "start_time": "2024-04-09T15:08:27.180555Z"
    }
   },
   "id": "de92930cc75e6f",
   "execution_count": 47
  },
  {
   "cell_type": "code",
   "outputs": [
    {
     "data": {
      "text/plain": "     index  uid participant_id video_id  \\\n2       27    2            S04    S04_1   \n6       45    6            S04    S04_1   \n8       65    8            S04    S04_1   \n22      42   22            S04    S04_1   \n57       9   57            S04    S04_1   \n..     ...  ...            ...      ...   \n739     41  739            S04    S04_1   \n771     21  771            S04    S04_1   \n779     48  779            S04    S04_1   \n781     13  781            S04    S04_1   \n794     71  794            S04    S04_1   \n\n                                             narration         start  \\\n2                          Open a jar of almond butter  1.655241e+09   \n6                           Clean a plate with a towel  1.655242e+09   \n8                          Open a jar of almond butter  1.655241e+09   \n22                                 Clear cutting board  1.655241e+09   \n57                            Clean a pan with a towel  1.655242e+09   \n..                                                 ...           ...   \n739  Set table: 3 each large/small plates, bowls, m...  1.655242e+09   \n771                                Clear cutting board  1.655241e+09   \n779              Spread almond butter on a bread slice  1.655241e+09   \n781              Spread almond butter on a bread slice  1.655241e+09   \n794                                Clear cutting board  1.655241e+09   \n\n             stop  start_frame  stop_frame  \\\n2    1.655241e+09        69557       69855   \n6    1.655242e+09        79553       79751   \n8    1.655241e+09        69449       69747   \n22   1.655241e+09        60141       60437   \n57   1.655242e+09        81001       81180   \n..            ...          ...         ...   \n739  1.655242e+09        88632       88929   \n771  1.655241e+09        60443       60740   \n779  1.655241e+09        64415       64713   \n781  1.655241e+09        64379       64677   \n794  1.655241e+09        59919       60216   \n\n                                                  verb  verb_class  \n2                          Open a jar of almond butter           8  \n6                           Clean a plate with a towel          11  \n8                          Open a jar of almond butter           8  \n22                                 Clear cutting board          18  \n57                            Clean a pan with a towel          13  \n..                                                 ...         ...  \n739  Set table: 3 each large/small plates, bowls, m...          15  \n771                                Clear cutting board          18  \n779              Spread almond butter on a bread slice           6  \n781              Spread almond butter on a bread slice           6  \n794                                Clear cutting board          18  \n\n[81 rows x 11 columns]",
      "text/html": "<div>\n<style scoped>\n    .dataframe tbody tr th:only-of-type {\n        vertical-align: middle;\n    }\n\n    .dataframe tbody tr th {\n        vertical-align: top;\n    }\n\n    .dataframe thead th {\n        text-align: right;\n    }\n</style>\n<table border=\"1\" class=\"dataframe\">\n  <thead>\n    <tr style=\"text-align: right;\">\n      <th></th>\n      <th>index</th>\n      <th>uid</th>\n      <th>participant_id</th>\n      <th>video_id</th>\n      <th>narration</th>\n      <th>start</th>\n      <th>stop</th>\n      <th>start_frame</th>\n      <th>stop_frame</th>\n      <th>verb</th>\n      <th>verb_class</th>\n    </tr>\n  </thead>\n  <tbody>\n    <tr>\n      <th>2</th>\n      <td>27</td>\n      <td>2</td>\n      <td>S04</td>\n      <td>S04_1</td>\n      <td>Open a jar of almond butter</td>\n      <td>1.655241e+09</td>\n      <td>1.655241e+09</td>\n      <td>69557</td>\n      <td>69855</td>\n      <td>Open a jar of almond butter</td>\n      <td>8</td>\n    </tr>\n    <tr>\n      <th>6</th>\n      <td>45</td>\n      <td>6</td>\n      <td>S04</td>\n      <td>S04_1</td>\n      <td>Clean a plate with a towel</td>\n      <td>1.655242e+09</td>\n      <td>1.655242e+09</td>\n      <td>79553</td>\n      <td>79751</td>\n      <td>Clean a plate with a towel</td>\n      <td>11</td>\n    </tr>\n    <tr>\n      <th>8</th>\n      <td>65</td>\n      <td>8</td>\n      <td>S04</td>\n      <td>S04_1</td>\n      <td>Open a jar of almond butter</td>\n      <td>1.655241e+09</td>\n      <td>1.655241e+09</td>\n      <td>69449</td>\n      <td>69747</td>\n      <td>Open a jar of almond butter</td>\n      <td>8</td>\n    </tr>\n    <tr>\n      <th>22</th>\n      <td>42</td>\n      <td>22</td>\n      <td>S04</td>\n      <td>S04_1</td>\n      <td>Clear cutting board</td>\n      <td>1.655241e+09</td>\n      <td>1.655241e+09</td>\n      <td>60141</td>\n      <td>60437</td>\n      <td>Clear cutting board</td>\n      <td>18</td>\n    </tr>\n    <tr>\n      <th>57</th>\n      <td>9</td>\n      <td>57</td>\n      <td>S04</td>\n      <td>S04_1</td>\n      <td>Clean a pan with a towel</td>\n      <td>1.655242e+09</td>\n      <td>1.655242e+09</td>\n      <td>81001</td>\n      <td>81180</td>\n      <td>Clean a pan with a towel</td>\n      <td>13</td>\n    </tr>\n    <tr>\n      <th>...</th>\n      <td>...</td>\n      <td>...</td>\n      <td>...</td>\n      <td>...</td>\n      <td>...</td>\n      <td>...</td>\n      <td>...</td>\n      <td>...</td>\n      <td>...</td>\n      <td>...</td>\n      <td>...</td>\n    </tr>\n    <tr>\n      <th>739</th>\n      <td>41</td>\n      <td>739</td>\n      <td>S04</td>\n      <td>S04_1</td>\n      <td>Set table: 3 each large/small plates, bowls, m...</td>\n      <td>1.655242e+09</td>\n      <td>1.655242e+09</td>\n      <td>88632</td>\n      <td>88929</td>\n      <td>Set table: 3 each large/small plates, bowls, m...</td>\n      <td>15</td>\n    </tr>\n    <tr>\n      <th>771</th>\n      <td>21</td>\n      <td>771</td>\n      <td>S04</td>\n      <td>S04_1</td>\n      <td>Clear cutting board</td>\n      <td>1.655241e+09</td>\n      <td>1.655241e+09</td>\n      <td>60443</td>\n      <td>60740</td>\n      <td>Clear cutting board</td>\n      <td>18</td>\n    </tr>\n    <tr>\n      <th>779</th>\n      <td>48</td>\n      <td>779</td>\n      <td>S04</td>\n      <td>S04_1</td>\n      <td>Spread almond butter on a bread slice</td>\n      <td>1.655241e+09</td>\n      <td>1.655241e+09</td>\n      <td>64415</td>\n      <td>64713</td>\n      <td>Spread almond butter on a bread slice</td>\n      <td>6</td>\n    </tr>\n    <tr>\n      <th>781</th>\n      <td>13</td>\n      <td>781</td>\n      <td>S04</td>\n      <td>S04_1</td>\n      <td>Spread almond butter on a bread slice</td>\n      <td>1.655241e+09</td>\n      <td>1.655241e+09</td>\n      <td>64379</td>\n      <td>64677</td>\n      <td>Spread almond butter on a bread slice</td>\n      <td>6</td>\n    </tr>\n    <tr>\n      <th>794</th>\n      <td>71</td>\n      <td>794</td>\n      <td>S04</td>\n      <td>S04_1</td>\n      <td>Clear cutting board</td>\n      <td>1.655241e+09</td>\n      <td>1.655241e+09</td>\n      <td>59919</td>\n      <td>60216</td>\n      <td>Clear cutting board</td>\n      <td>18</td>\n    </tr>\n  </tbody>\n</table>\n<p>81 rows × 11 columns</p>\n</div>"
     },
     "execution_count": 62,
     "metadata": {},
     "output_type": "execute_result"
    }
   ],
   "source": [
    "data2 = pd.read_pickle('action_net_annotations_training/S04_test.pkl')\n",
    "\n",
    "data2"
   ],
   "metadata": {
    "collapsed": false,
    "ExecuteTime": {
     "end_time": "2024-04-09T15:22:50.345101Z",
     "start_time": "2024-04-09T15:22:50.338502Z"
    }
   },
   "id": "540c2ec58dada513",
   "execution_count": 62
  },
  {
   "cell_type": "code",
   "outputs": [
    {
     "data": {
      "text/plain": "index                           660\nuid                             782\nparticipant_id                  S04\nvideo_id                      S04_1\nnarration               Slice bread\nstart             1655241083.635779\nstop              1655241093.525394\nstart_frame                   59083\nstop_frame                    59380\nverb                    Slice bread\nverb_class                        5\nName: 782, dtype: object"
     },
     "execution_count": 72,
     "metadata": {},
     "output_type": "execute_result"
    }
   ],
   "source": [
    "data2 = pd.read_pickle('action_net_annotations_training/S04_train.pkl')\n",
    "\n",
    "data2.iloc[702]"
   ],
   "metadata": {
    "collapsed": false,
    "ExecuteTime": {
     "end_time": "2024-04-10T18:10:15.675991Z",
     "start_time": "2024-04-10T18:10:15.660674Z"
    }
   },
   "id": "605acbc30037b703",
   "execution_count": 72
  },
  {
   "cell_type": "code",
   "outputs": [
    {
     "data": {
      "text/plain": "    uid video_name                                       features_RGB\n0     2      S04_1  [[0.20252235, 0.12722212, 0.41020927, 0.097577...\n1     6      S04_1  [[0.29197595, 0.08010393, 0.37297875, 0.156138...\n2     8      S04_1  [[0.12584968, 0.19852735, 0.494157, 0.06268781...\n3    22      S04_1  [[0.21563528, 0.07804283, 0.52215993, 0.057511...\n4    57      S04_1  [[0.26691076, 0.09130219, 0.2932961, 0.0329155...\n..  ...        ...                                                ...\n76  739      S04_1  [[0.053627267, 0.2878403, 0.4117053, 0.0260446...\n77  771      S04_1  [[0.20735748, 0.04445891, 1.1320182, 0.0788918...\n78  779      S04_1  [[0.07726825, 0.1913928, 0.54565656, 0.3260083...\n79  781      S04_1  [[0.13755912, 0.11520604, 0.4385789, 0.2291081...\n80  794      S04_1  [[0.398167, 0.13190247, 0.42964053, 0.05746278...\n\n[81 rows x 3 columns]",
      "text/html": "<div>\n<style scoped>\n    .dataframe tbody tr th:only-of-type {\n        vertical-align: middle;\n    }\n\n    .dataframe tbody tr th {\n        vertical-align: top;\n    }\n\n    .dataframe thead th {\n        text-align: right;\n    }\n</style>\n<table border=\"1\" class=\"dataframe\">\n  <thead>\n    <tr style=\"text-align: right;\">\n      <th></th>\n      <th>uid</th>\n      <th>video_name</th>\n      <th>features_RGB</th>\n    </tr>\n  </thead>\n  <tbody>\n    <tr>\n      <th>0</th>\n      <td>2</td>\n      <td>S04_1</td>\n      <td>[[0.20252235, 0.12722212, 0.41020927, 0.097577...</td>\n    </tr>\n    <tr>\n      <th>1</th>\n      <td>6</td>\n      <td>S04_1</td>\n      <td>[[0.29197595, 0.08010393, 0.37297875, 0.156138...</td>\n    </tr>\n    <tr>\n      <th>2</th>\n      <td>8</td>\n      <td>S04_1</td>\n      <td>[[0.12584968, 0.19852735, 0.494157, 0.06268781...</td>\n    </tr>\n    <tr>\n      <th>3</th>\n      <td>22</td>\n      <td>S04_1</td>\n      <td>[[0.21563528, 0.07804283, 0.52215993, 0.057511...</td>\n    </tr>\n    <tr>\n      <th>4</th>\n      <td>57</td>\n      <td>S04_1</td>\n      <td>[[0.26691076, 0.09130219, 0.2932961, 0.0329155...</td>\n    </tr>\n    <tr>\n      <th>...</th>\n      <td>...</td>\n      <td>...</td>\n      <td>...</td>\n    </tr>\n    <tr>\n      <th>76</th>\n      <td>739</td>\n      <td>S04_1</td>\n      <td>[[0.053627267, 0.2878403, 0.4117053, 0.0260446...</td>\n    </tr>\n    <tr>\n      <th>77</th>\n      <td>771</td>\n      <td>S04_1</td>\n      <td>[[0.20735748, 0.04445891, 1.1320182, 0.0788918...</td>\n    </tr>\n    <tr>\n      <th>78</th>\n      <td>779</td>\n      <td>S04_1</td>\n      <td>[[0.07726825, 0.1913928, 0.54565656, 0.3260083...</td>\n    </tr>\n    <tr>\n      <th>79</th>\n      <td>781</td>\n      <td>S04_1</td>\n      <td>[[0.13755912, 0.11520604, 0.4385789, 0.2291081...</td>\n    </tr>\n    <tr>\n      <th>80</th>\n      <td>794</td>\n      <td>S04_1</td>\n      <td>[[0.398167, 0.13190247, 0.42964053, 0.05746278...</td>\n    </tr>\n  </tbody>\n</table>\n<p>81 rows × 3 columns</p>\n</div>"
     },
     "execution_count": 76,
     "metadata": {},
     "output_type": "execute_result"
    }
   ],
   "source": [
    "data2 = pd.read_pickle('saved_features_action_net/features_action_net_25_dense_S04_test.pkl')\n",
    "\n",
    "data2 = pd.DataFrame.from_dict(data2['features'])\n",
    "data2"
   ],
   "metadata": {
    "collapsed": false,
    "ExecuteTime": {
     "end_time": "2024-04-10T20:14:14.327743Z",
     "start_time": "2024-04-10T20:14:14.307705Z"
    }
   },
   "id": "6b75e3c17c157f29",
   "execution_count": 76
  },
  {
   "cell_type": "code",
   "outputs": [
    {
     "data": {
      "text/plain": "    uid                                       features_EMG\n0   249  [[-0.5310362499607831, -0.17112101585733755, -...\n1   204  [[-0.06765700081485183, -0.19264746771383182, ...\n2   266  [[-0.8781975985563716, -0.8737516029999017, -0...\n3   224  [[-0.5560823621930757, -0.3788598220978606, -0...\n4   237  [[-0.6652617227946247, -0.35463073586700183, -...\n..  ...                                                ...\n76  268  [[-0.8913982997448366, -0.8646481789321555, -0...\n77  248  [[-0.32349131425931404, -0.19182720534648318, ...\n78  245  [[-0.5547529179641489, -0.3992432882881073, -0...\n79  220  [[-0.3703662356774267, -0.49132828506191123, -...\n80  214  [[-0.22392689631850465, -0.2798933999640643, -...\n\n[81 rows x 2 columns]",
      "text/html": "<div>\n<style scoped>\n    .dataframe tbody tr th:only-of-type {\n        vertical-align: middle;\n    }\n\n    .dataframe tbody tr th {\n        vertical-align: top;\n    }\n\n    .dataframe thead th {\n        text-align: right;\n    }\n</style>\n<table border=\"1\" class=\"dataframe\">\n  <thead>\n    <tr style=\"text-align: right;\">\n      <th></th>\n      <th>uid</th>\n      <th>features_EMG</th>\n    </tr>\n  </thead>\n  <tbody>\n    <tr>\n      <th>0</th>\n      <td>249</td>\n      <td>[[-0.5310362499607831, -0.17112101585733755, -...</td>\n    </tr>\n    <tr>\n      <th>1</th>\n      <td>204</td>\n      <td>[[-0.06765700081485183, -0.19264746771383182, ...</td>\n    </tr>\n    <tr>\n      <th>2</th>\n      <td>266</td>\n      <td>[[-0.8781975985563716, -0.8737516029999017, -0...</td>\n    </tr>\n    <tr>\n      <th>3</th>\n      <td>224</td>\n      <td>[[-0.5560823621930757, -0.3788598220978606, -0...</td>\n    </tr>\n    <tr>\n      <th>4</th>\n      <td>237</td>\n      <td>[[-0.6652617227946247, -0.35463073586700183, -...</td>\n    </tr>\n    <tr>\n      <th>...</th>\n      <td>...</td>\n      <td>...</td>\n    </tr>\n    <tr>\n      <th>76</th>\n      <td>268</td>\n      <td>[[-0.8913982997448366, -0.8646481789321555, -0...</td>\n    </tr>\n    <tr>\n      <th>77</th>\n      <td>248</td>\n      <td>[[-0.32349131425931404, -0.19182720534648318, ...</td>\n    </tr>\n    <tr>\n      <th>78</th>\n      <td>245</td>\n      <td>[[-0.5547529179641489, -0.3992432882881073, -0...</td>\n    </tr>\n    <tr>\n      <th>79</th>\n      <td>220</td>\n      <td>[[-0.3703662356774267, -0.49132828506191123, -...</td>\n    </tr>\n    <tr>\n      <th>80</th>\n      <td>214</td>\n      <td>[[-0.22392689631850465, -0.2798933999640643, -...</td>\n    </tr>\n  </tbody>\n</table>\n<p>81 rows × 2 columns</p>\n</div>"
     },
     "execution_count": 89,
     "metadata": {},
     "output_type": "execute_result"
    }
   ],
   "source": [
    "data2 = pd.read_pickle('saved_features_an_multimodal/features_emg_S04_test.pkl')\n",
    "\n",
    "data2 = pd.DataFrame.from_dict(data2['features'])\n",
    "data2"
   ],
   "metadata": {
    "collapsed": false,
    "ExecuteTime": {
     "end_time": "2024-04-11T15:00:51.270711Z",
     "start_time": "2024-04-11T15:00:51.171952Z"
    }
   },
   "id": "507bdc57c5cd4ce4",
   "execution_count": 89
  },
  {
   "cell_type": "code",
   "outputs": [
    {
     "data": {
      "text/plain": "     uid participant_id video_id  \\\n14   249            S04    S04_1   \n22   204            S04    S04_1   \n34   266            S04    S04_1   \n37   224            S04    S04_1   \n39   237            S04    S04_1   \n..   ...            ...      ...   \n850  268            S04    S04_1   \n855  248            S04    S04_1   \n880  245            S04    S04_1   \n889  220            S04    S04_1   \n895  214            S04    S04_1   \n\n                                           description  verb_class  \n14                         Open a jar of almond butter           8  \n22                                 Clear cutting board          18  \n34   Set table: 3 each large/small plates, bowls, m...          15  \n37               Spread almond butter on a bread slice           6  \n39                         Open a jar of almond butter           8  \n..                                                 ...         ...  \n850  Set table: 3 each large/small plates, bowls, m...          15  \n855                        Open a jar of almond butter           8  \n880                        Open a jar of almond butter           8  \n889              Spread almond butter on a bread slice           6  \n895                                Clear cutting board          18  \n\n[81 rows x 5 columns]",
      "text/html": "<div>\n<style scoped>\n    .dataframe tbody tr th:only-of-type {\n        vertical-align: middle;\n    }\n\n    .dataframe tbody tr th {\n        vertical-align: top;\n    }\n\n    .dataframe thead th {\n        text-align: right;\n    }\n</style>\n<table border=\"1\" class=\"dataframe\">\n  <thead>\n    <tr style=\"text-align: right;\">\n      <th></th>\n      <th>uid</th>\n      <th>participant_id</th>\n      <th>video_id</th>\n      <th>description</th>\n      <th>verb_class</th>\n    </tr>\n  </thead>\n  <tbody>\n    <tr>\n      <th>14</th>\n      <td>249</td>\n      <td>S04</td>\n      <td>S04_1</td>\n      <td>Open a jar of almond butter</td>\n      <td>8</td>\n    </tr>\n    <tr>\n      <th>22</th>\n      <td>204</td>\n      <td>S04</td>\n      <td>S04_1</td>\n      <td>Clear cutting board</td>\n      <td>18</td>\n    </tr>\n    <tr>\n      <th>34</th>\n      <td>266</td>\n      <td>S04</td>\n      <td>S04_1</td>\n      <td>Set table: 3 each large/small plates, bowls, m...</td>\n      <td>15</td>\n    </tr>\n    <tr>\n      <th>37</th>\n      <td>224</td>\n      <td>S04</td>\n      <td>S04_1</td>\n      <td>Spread almond butter on a bread slice</td>\n      <td>6</td>\n    </tr>\n    <tr>\n      <th>39</th>\n      <td>237</td>\n      <td>S04</td>\n      <td>S04_1</td>\n      <td>Open a jar of almond butter</td>\n      <td>8</td>\n    </tr>\n    <tr>\n      <th>...</th>\n      <td>...</td>\n      <td>...</td>\n      <td>...</td>\n      <td>...</td>\n      <td>...</td>\n    </tr>\n    <tr>\n      <th>850</th>\n      <td>268</td>\n      <td>S04</td>\n      <td>S04_1</td>\n      <td>Set table: 3 each large/small plates, bowls, m...</td>\n      <td>15</td>\n    </tr>\n    <tr>\n      <th>855</th>\n      <td>248</td>\n      <td>S04</td>\n      <td>S04_1</td>\n      <td>Open a jar of almond butter</td>\n      <td>8</td>\n    </tr>\n    <tr>\n      <th>880</th>\n      <td>245</td>\n      <td>S04</td>\n      <td>S04_1</td>\n      <td>Open a jar of almond butter</td>\n      <td>8</td>\n    </tr>\n    <tr>\n      <th>889</th>\n      <td>220</td>\n      <td>S04</td>\n      <td>S04_1</td>\n      <td>Spread almond butter on a bread slice</td>\n      <td>6</td>\n    </tr>\n    <tr>\n      <th>895</th>\n      <td>214</td>\n      <td>S04</td>\n      <td>S04_1</td>\n      <td>Clear cutting board</td>\n      <td>18</td>\n    </tr>\n  </tbody>\n</table>\n<p>81 rows × 5 columns</p>\n</div>"
     },
     "execution_count": 90,
     "metadata": {},
     "output_type": "execute_result"
    }
   ],
   "source": [
    "data2 = pd.read_pickle('an_multimodal_annotations/S04_test.pkl')\n",
    "\n",
    "data2"
   ],
   "metadata": {
    "collapsed": false,
    "ExecuteTime": {
     "end_time": "2024-04-11T15:01:17.030070Z",
     "start_time": "2024-04-11T15:01:17.025266Z"
    }
   },
   "id": "3121dba0d6d72294",
   "execution_count": 90
  },
  {
   "cell_type": "code",
   "outputs": [],
   "source": [],
   "metadata": {
    "collapsed": false
   },
   "id": "7385c3898c33ca27"
  }
 ],
 "metadata": {
  "kernelspec": {
   "display_name": "Python 3",
   "language": "python",
   "name": "python3"
  },
  "language_info": {
   "codemirror_mode": {
    "name": "ipython",
    "version": 2
   },
   "file_extension": ".py",
   "mimetype": "text/x-python",
   "name": "python",
   "nbconvert_exporter": "python",
   "pygments_lexer": "ipython2",
   "version": "2.7.6"
  }
 },
 "nbformat": 4,
 "nbformat_minor": 5
}
