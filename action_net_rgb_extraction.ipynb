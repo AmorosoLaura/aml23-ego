{
 "cells": [
  {
   "cell_type": "code",
   "outputs": [],
   "source": [
    "import pandas as pd\n",
    "import numpy as np\n",
    "from copy import deepcopy\n",
    "import math\n",
    "from sklearn.model_selection import train_test_split\n",
    "\n",
    "activities_to_classify = {\n",
    "        'Get/replace items from refrigerator/cabinets/drawers': 0,\n",
    "        'Peel a cucumber': 1,\n",
    "        'Clear cutting board': 2,\n",
    "        'Slice a cucumber': 3,\n",
    "        'Peel a potato': 4,\n",
    "        'Slice a potato': 5,\n",
    "        'Slice bread': 6,\n",
    "        'Spread almond butter on a bread slice': 7,\n",
    "        'Spread jelly on a bread slice': 8,\n",
    "        'Open/close a jar of almond butter': 9,\n",
    "        'Pour water from a pitcher into a glass': 10,\n",
    "        'Clean a plate with a sponge': 11,\n",
    "        'Clean a plate with a towel': 12,\n",
    "        'Clean a pan with a sponge': 13,\n",
    "        'Clean a pan with a towel': 14,\n",
    "        'Get items from cabinets: 3 each large/small plates, bowls, mugs, glasses, sets of utensils': 15,\n",
    "        'Set table: 3 each large/small plates, bowls, mugs, glasses, sets of utensils': 16,\n",
    "        'Stack on table: 3 each large/small plates, bowls': 17,\n",
    "        'Load dishwasher: 3 each large/small plates, bowls, mugs, glasses, sets of utensils': 18,\n",
    "        'Unload dishwasher: 3 each large/small plates, bowls, mugs, glasses, sets of utensils': 19,\n",
    "}\n",
    "\n",
    "activities_to_classify_list = [\n",
    "  'Get/replace items from refrigerator/cabinets/drawers',\n",
    "  'Peel a cucumber',\n",
    "  'Clear cutting board',\n",
    "  'Slice a cucumber',\n",
    "  'Peel a potato',\n",
    "  'Slice a potato',\n",
    "  'Slice bread',\n",
    "  'Spread almond butter on a bread slice',\n",
    "  'Spread jelly on a bread slice',\n",
    "  'Open/close a jar of almond butter',\n",
    "  'Pour water from a pitcher into a glass',\n",
    "  'Clean a plate with a sponge',\n",
    "  'Clean a plate with a towel',\n",
    "  'Clean a pan with a sponge',\n",
    "  'Clean a pan with a towel',\n",
    "  'Get items from cabinets: 3 each large/small plates, bowls, mugs, glasses, sets of utensils',\n",
    "  'Set table: 3 each large/small plates, bowls, mugs, glasses, sets of utensils',\n",
    "  'Stack on table: 3 each large/small plates, bowls',\n",
    "  'Load dishwasher: 3 each large/small plates, bowls, mugs, glasses, sets of utensils',\n",
    "  'Unload dishwasher: 3 each large/small plates, bowls, mugs, glasses, sets of utensils',\n",
    "]\n",
    "\n",
    "FPS = 30\n",
    "ACTION_LENGTH = 5\n",
    "\n",
    "def augmentation(data_frame):\n",
    "    augmented_data = []\n",
    "\n",
    "    for _, row in data_frame.iterrows():\n",
    "        start_frame = row['start_frame']\n",
    "        stop_frame = row['stop_frame']\n",
    "        interval_size = FPS * ACTION_LENGTH \n",
    "\n",
    "        num_intervals = math.ceil((stop_frame - start_frame + 1) / interval_size)\n",
    "\n",
    "        for i in range(num_intervals):\n",
    "            new_start = start_frame + i * interval_size\n",
    "            new_stop = min(new_start + interval_size - 1, stop_frame)  \n",
    "            new_row = row.copy()\n",
    "            new_row['start_frame'] = new_start\n",
    "            new_row['stop_frame'] = new_stop\n",
    "            new_row['start_timestamp'] = new_start/FPS\n",
    "            new_row['stop_timestamp'] = new_stop/FPS\n",
    "            augmented_data.append(new_row)\n",
    "\n",
    "    augmented_dataframe = pd.DataFrame(augmented_data, columns=data_frame.columns)\n",
    "    augmented_dataframe.reset_index(drop=True, inplace=True)\n",
    "\n",
    "    return augmented_dataframe\n",
    "\n",
    "def create_annotations_file(timestamp_file, annotations_file, type='train'):\n",
    "\n",
    "    timestamps = pd.read_pickle(timestamp_file)\n",
    "    timestamps = timestamps.drop(\n",
    "        ['myo_left_timestamps', 'myo_right_timestamps', 'myo_left_readings', 'myo_right_readings'], axis=1)\n",
    "    timestamps = timestamps.reset_index()\n",
    "\n",
    "    start_timestamp = timestamps['start'].iloc[0]\n",
    "    timestamps['start_frame'] = ((timestamps['start'] - start_timestamp) * FPS).astype(int)\n",
    "    timestamps['stop_frame'] = ((timestamps['stop'] - start_timestamp) * FPS).astype(int)\n",
    "    \n",
    "    annotations = pd.read_pickle(annotations_file)\n",
    "    annotations = annotations[annotations['file'] == 'S04_1.pkl']\n",
    "    annotations = annotations.drop(['labels'], axis=1)\n",
    "    \n",
    "    complete_labels = pd.merge(timestamps, annotations, on='index', how='inner')\n",
    "    \n",
    "    complete_labels['uid'] = complete_labels['index']\n",
    "    complete_labels['participant_id'] = 'S04'\n",
    "    complete_labels['video_id'] = 'S04_1'\n",
    "    complete_labels['verb'] = complete_labels['description_x']\n",
    "    complete_labels['narration'] = complete_labels['description_x']\n",
    "    complete_labels['verb_class'] = complete_labels['verb'].map(activities_to_classify)\n",
    "\n",
    "    complete_labels = complete_labels[\n",
    "        ['uid', 'participant_id', 'video_id', 'narration', 'start', 'stop', 'start_frame',\n",
    "         'stop_frame', 'verb', 'verb_class']]\n",
    "    \n",
    "    complete_labels['type'] = type\n",
    "    \n",
    "    return complete_labels\n",
    "    \n",
    "    \n",
    "def augment_annotations(train_annotations, test_annotations):\n",
    "    \n",
    "    combined_df = pd.concat([train_annotations, test_annotations], ignore_index=True)\n",
    "    augmented_df = augmentation(combined_df)\n",
    "    \n",
    "    augmented_df = augmented_df.sample(frac=1)\n",
    "\n",
    "    augmented_df.reset_index(inplace=True)\n",
    "    augmented_df['uid'] = augmented_df.index\n",
    "    \n",
    "    train_df_final = augmented_df[augmented_df['type'] == 'train']\n",
    "    test_df_final = augmented_df[augmented_df['type'] == 'test']\n",
    "    \n",
    "    train_df_final = train_df_final.drop(['type'], axis=1)\n",
    "    test_df_final = test_df_final.drop(['type'], axis=1)\n",
    "\n",
    "    train_df_final.to_pickle(f\"action_net_annotations_training/S04_train.pkl\")    \n",
    "    test_df_final.to_pickle(f\"action_net_annotations_training/S04_test.pkl\")   \n",
    "\n",
    "def create_annotations_from_emg(timestamps, emg_data, type='train'):\n",
    "    \n",
    "    calibration_val = pd.read_pickle(timestamps)['start'].iloc[0]\n",
    "\n",
    "    emg_data = pd.read_pickle(emg_data)\n",
    "    emg_data = emg_data[emg_data['file'] == 'S04_1.pkl']\n",
    "    emg_data = emg_data.rename(columns={'file': 'video_id', 'description': 'narration', 'description_class': 'verb_class'})\n",
    "    emg_data['participant_id'] = 'S04'\n",
    "    emg_data['video_id'] = 'S04_1'\n",
    "    emg_data['start_frame'] = ((emg_data['start'] - calibration_val) * FPS).astype(int)\n",
    "    emg_data['stop_frame'] = ((emg_data['stop'] - calibration_val) * FPS).astype(int)\n",
    "    emg_data['verb'] = emg_data['narration']\n",
    "    emg_data = emg_data.drop(['emg_data'], axis = 1)\n",
    "    emg_data = emg_data[\n",
    "        ['uid', 'participant_id', 'video_id', 'narration', 'start', 'stop', 'start_frame',\n",
    "         'stop_frame', 'verb', 'verb_class']]\n",
    "    emg_data = emg_data.sample(frac=1).reset_index(drop=True)\n",
    "    \n",
    "    emg_data['type'] = type\n",
    "    \n",
    "    return emg_data\n",
    "\n",
    "def create_reduced_annotations(train_annotations, test_annotations):\n",
    "    \n",
    "    combined_df = pd.concat([train_annotations, test_annotations], ignore_index=True)\n",
    "    \n",
    "    combined_df = combined_df.sample(frac=1)\n",
    "\n",
    "    combined_df.reset_index(inplace=True)\n",
    "    combined_df['uid'] = combined_df.index\n",
    "    \n",
    "    train_df_final = combined_df[combined_df['type'] == 'train']\n",
    "    test_df_final = combined_df[combined_df['type'] == 'test']\n",
    "    \n",
    "    train_df_final = train_df_final.drop(['type'], axis=1)\n",
    "    test_df_final = test_df_final.drop(['type'], axis=1)\n",
    "\n",
    "    train_df_final.to_pickle(f\"action_net_annotations_training/S04_train.pkl\")    \n",
    "    test_df_final.to_pickle(f\"action_net_annotations_training/S04_test.pkl\")   "
   ],
   "metadata": {
    "collapsed": false,
    "ExecuteTime": {
     "end_time": "2024-04-09T15:21:18.369050Z",
     "start_time": "2024-04-09T15:21:18.360406Z"
    }
   },
   "id": "f7288622a8212497",
   "execution_count": 56
  },
  {
   "cell_type": "code",
   "outputs": [],
   "source": [
    "train_df = create_annotations_from_emg(timestamps='S04_1.pkl', emg_data='new_emg_data_test.pkl', type='test')\n",
    "test_df = create_annotations_from_emg(timestamps='S04_1.pkl', emg_data='new_emg_data_train.pkl', type='train')\n",
    "create_reduced_annotations(train_annotations=train_df, test_annotations=test_df)"
   ],
   "metadata": {
    "collapsed": false,
    "ExecuteTime": {
     "end_time": "2024-04-09T15:21:20.491723Z",
     "start_time": "2024-04-09T15:21:20.350684Z"
    }
   },
   "id": "4992a8b498a222bd",
   "execution_count": 57
  },
  {
   "cell_type": "code",
   "outputs": [],
   "source": [
    "train_df = create_annotations_file(timestamp_file='S04_1.pkl', annotations_file='action-net/ActionNet_train.pkl', type='train')\n",
    "test_df = create_annotations_file(timestamp_file='S04_1.pkl', annotations_file='action-net/ActionNet_test.pkl', type='test')\n",
    "augment_annotations(train_annotations=train_df, test_annotations=test_df)"
   ],
   "metadata": {
    "collapsed": false,
    "ExecuteTime": {
     "end_time": "2024-04-09T10:40:24.274847Z",
     "start_time": "2024-04-09T10:40:24.143706Z"
    }
   },
   "id": "c99f1035fab9345d",
   "execution_count": 36
  },
  {
   "cell_type": "code",
   "outputs": [
    {
     "data": {
      "text/plain": "     index       file                                   description  \\\n0       11  S03_1.pkl  Get items from refrigerator/cabinets/drawers   \n1       16  S07_1.pkl                           Clear cutting board   \n2       10  S07_1.pkl                              Slice a cucumber   \n3        4  S08_1.pkl                               Peel a cucumber   \n4       40  S09_2.pkl                 Spread jelly on a bread slice   \n..     ...        ...                                           ...   \n897     34  S05_2.pkl                   Open a jar of almond butter   \n898     54  S08_1.pkl  Get items from refrigerator/cabinets/drawers   \n899     17  S05_2.pkl                                Slice a potato   \n900     20  S07_1.pkl                                Slice a potato   \n901     39  S09_2.pkl                 Spread jelly on a bread slice   \n\n         labels         start          stop  \\\n0       Get/Put  1.655228e+09  1.655228e+09   \n1         Clear  1.657726e+09  1.657726e+09   \n2         Slice  1.657726e+09  1.657726e+09   \n3          Peel  1.657737e+09  1.657737e+09   \n4        Spread  1.657809e+09  1.657809e+09   \n..          ...           ...           ...   \n897  Open/Close  1.655256e+09  1.655256e+09   \n898     Get/Put  1.657739e+09  1.657739e+09   \n899       Slice  1.655255e+09  1.655255e+09   \n900       Slice  1.657727e+09  1.657727e+09   \n901      Spread  1.657809e+09  1.657809e+09   \n\n                                              emg_data  description_class  uid  \n0    [[-0.5940820467598136, -0.2558365791189061, -0...                  0  120  \n1    [[-0.9999970501763059, -0.9999994636684193, -0...                 18  608  \n2    [[-0.3977339667409513, -0.5612539489833003, -0...                  2  565  \n3    [[-0.701509930321272, -0.5582205855583406, -0....                  1  728  \n4    [[-0.7193676857524235, -0.6259481828826229, -0...                  7  892  \n..                                                 ...                ...  ...  \n897  [[-0.31753439615059575, -0.8357486489010604, -...                  8  348  \n898  [[-0.8650372466946141, -0.8247769717071822, -0...                  0  820  \n899  [[-0.7490247862263646, -0.6959249467341944, -0...                  4  307  \n900  [[0.05507003809854874, -0.023589837248776467, ...                  4  642  \n901  [[-0.7423227332464863, -0.7914408700352961, -0...                  7  866  \n\n[902 rows x 9 columns]",
      "text/html": "<div>\n<style scoped>\n    .dataframe tbody tr th:only-of-type {\n        vertical-align: middle;\n    }\n\n    .dataframe tbody tr th {\n        vertical-align: top;\n    }\n\n    .dataframe thead th {\n        text-align: right;\n    }\n</style>\n<table border=\"1\" class=\"dataframe\">\n  <thead>\n    <tr style=\"text-align: right;\">\n      <th></th>\n      <th>index</th>\n      <th>file</th>\n      <th>description</th>\n      <th>labels</th>\n      <th>start</th>\n      <th>stop</th>\n      <th>emg_data</th>\n      <th>description_class</th>\n      <th>uid</th>\n    </tr>\n  </thead>\n  <tbody>\n    <tr>\n      <th>0</th>\n      <td>11</td>\n      <td>S03_1.pkl</td>\n      <td>Get items from refrigerator/cabinets/drawers</td>\n      <td>Get/Put</td>\n      <td>1.655228e+09</td>\n      <td>1.655228e+09</td>\n      <td>[[-0.5940820467598136, -0.2558365791189061, -0...</td>\n      <td>0</td>\n      <td>120</td>\n    </tr>\n    <tr>\n      <th>1</th>\n      <td>16</td>\n      <td>S07_1.pkl</td>\n      <td>Clear cutting board</td>\n      <td>Clear</td>\n      <td>1.657726e+09</td>\n      <td>1.657726e+09</td>\n      <td>[[-0.9999970501763059, -0.9999994636684193, -0...</td>\n      <td>18</td>\n      <td>608</td>\n    </tr>\n    <tr>\n      <th>2</th>\n      <td>10</td>\n      <td>S07_1.pkl</td>\n      <td>Slice a cucumber</td>\n      <td>Slice</td>\n      <td>1.657726e+09</td>\n      <td>1.657726e+09</td>\n      <td>[[-0.3977339667409513, -0.5612539489833003, -0...</td>\n      <td>2</td>\n      <td>565</td>\n    </tr>\n    <tr>\n      <th>3</th>\n      <td>4</td>\n      <td>S08_1.pkl</td>\n      <td>Peel a cucumber</td>\n      <td>Peel</td>\n      <td>1.657737e+09</td>\n      <td>1.657737e+09</td>\n      <td>[[-0.701509930321272, -0.5582205855583406, -0....</td>\n      <td>1</td>\n      <td>728</td>\n    </tr>\n    <tr>\n      <th>4</th>\n      <td>40</td>\n      <td>S09_2.pkl</td>\n      <td>Spread jelly on a bread slice</td>\n      <td>Spread</td>\n      <td>1.657809e+09</td>\n      <td>1.657809e+09</td>\n      <td>[[-0.7193676857524235, -0.6259481828826229, -0...</td>\n      <td>7</td>\n      <td>892</td>\n    </tr>\n    <tr>\n      <th>...</th>\n      <td>...</td>\n      <td>...</td>\n      <td>...</td>\n      <td>...</td>\n      <td>...</td>\n      <td>...</td>\n      <td>...</td>\n      <td>...</td>\n      <td>...</td>\n    </tr>\n    <tr>\n      <th>897</th>\n      <td>34</td>\n      <td>S05_2.pkl</td>\n      <td>Open a jar of almond butter</td>\n      <td>Open/Close</td>\n      <td>1.655256e+09</td>\n      <td>1.655256e+09</td>\n      <td>[[-0.31753439615059575, -0.8357486489010604, -...</td>\n      <td>8</td>\n      <td>348</td>\n    </tr>\n    <tr>\n      <th>898</th>\n      <td>54</td>\n      <td>S08_1.pkl</td>\n      <td>Get items from refrigerator/cabinets/drawers</td>\n      <td>Get/Put</td>\n      <td>1.657739e+09</td>\n      <td>1.657739e+09</td>\n      <td>[[-0.8650372466946141, -0.8247769717071822, -0...</td>\n      <td>0</td>\n      <td>820</td>\n    </tr>\n    <tr>\n      <th>899</th>\n      <td>17</td>\n      <td>S05_2.pkl</td>\n      <td>Slice a potato</td>\n      <td>Slice</td>\n      <td>1.655255e+09</td>\n      <td>1.655255e+09</td>\n      <td>[[-0.7490247862263646, -0.6959249467341944, -0...</td>\n      <td>4</td>\n      <td>307</td>\n    </tr>\n    <tr>\n      <th>900</th>\n      <td>20</td>\n      <td>S07_1.pkl</td>\n      <td>Slice a potato</td>\n      <td>Slice</td>\n      <td>1.657727e+09</td>\n      <td>1.657727e+09</td>\n      <td>[[0.05507003809854874, -0.023589837248776467, ...</td>\n      <td>4</td>\n      <td>642</td>\n    </tr>\n    <tr>\n      <th>901</th>\n      <td>39</td>\n      <td>S09_2.pkl</td>\n      <td>Spread jelly on a bread slice</td>\n      <td>Spread</td>\n      <td>1.657809e+09</td>\n      <td>1.657809e+09</td>\n      <td>[[-0.7423227332464863, -0.7914408700352961, -0...</td>\n      <td>7</td>\n      <td>866</td>\n    </tr>\n  </tbody>\n</table>\n<p>902 rows × 9 columns</p>\n</div>"
     },
     "execution_count": 47,
     "metadata": {},
     "output_type": "execute_result"
    }
   ],
   "source": [
    "data2 = pd.read_pickle('new_emg_data_test.pkl')\n",
    "\n",
    "data2"
   ],
   "metadata": {
    "collapsed": false,
    "ExecuteTime": {
     "end_time": "2024-04-09T15:08:27.289051Z",
     "start_time": "2024-04-09T15:08:27.180555Z"
    }
   },
   "id": "de92930cc75e6f",
   "execution_count": 47
  },
  {
   "cell_type": "code",
   "outputs": [
    {
     "data": {
      "text/plain": "     index  uid participant_id video_id  \\\n2       27    2            S04    S04_1   \n6       45    6            S04    S04_1   \n8       65    8            S04    S04_1   \n22      42   22            S04    S04_1   \n57       9   57            S04    S04_1   \n..     ...  ...            ...      ...   \n739     41  739            S04    S04_1   \n771     21  771            S04    S04_1   \n779     48  779            S04    S04_1   \n781     13  781            S04    S04_1   \n794     71  794            S04    S04_1   \n\n                                             narration         start  \\\n2                          Open a jar of almond butter  1.655241e+09   \n6                           Clean a plate with a towel  1.655242e+09   \n8                          Open a jar of almond butter  1.655241e+09   \n22                                 Clear cutting board  1.655241e+09   \n57                            Clean a pan with a towel  1.655242e+09   \n..                                                 ...           ...   \n739  Set table: 3 each large/small plates, bowls, m...  1.655242e+09   \n771                                Clear cutting board  1.655241e+09   \n779              Spread almond butter on a bread slice  1.655241e+09   \n781              Spread almond butter on a bread slice  1.655241e+09   \n794                                Clear cutting board  1.655241e+09   \n\n             stop  start_frame  stop_frame  \\\n2    1.655241e+09        69557       69855   \n6    1.655242e+09        79553       79751   \n8    1.655241e+09        69449       69747   \n22   1.655241e+09        60141       60437   \n57   1.655242e+09        81001       81180   \n..            ...          ...         ...   \n739  1.655242e+09        88632       88929   \n771  1.655241e+09        60443       60740   \n779  1.655241e+09        64415       64713   \n781  1.655241e+09        64379       64677   \n794  1.655241e+09        59919       60216   \n\n                                                  verb  verb_class  \n2                          Open a jar of almond butter           8  \n6                           Clean a plate with a towel          11  \n8                          Open a jar of almond butter           8  \n22                                 Clear cutting board          18  \n57                            Clean a pan with a towel          13  \n..                                                 ...         ...  \n739  Set table: 3 each large/small plates, bowls, m...          15  \n771                                Clear cutting board          18  \n779              Spread almond butter on a bread slice           6  \n781              Spread almond butter on a bread slice           6  \n794                                Clear cutting board          18  \n\n[81 rows x 11 columns]",
      "text/html": "<div>\n<style scoped>\n    .dataframe tbody tr th:only-of-type {\n        vertical-align: middle;\n    }\n\n    .dataframe tbody tr th {\n        vertical-align: top;\n    }\n\n    .dataframe thead th {\n        text-align: right;\n    }\n</style>\n<table border=\"1\" class=\"dataframe\">\n  <thead>\n    <tr style=\"text-align: right;\">\n      <th></th>\n      <th>index</th>\n      <th>uid</th>\n      <th>participant_id</th>\n      <th>video_id</th>\n      <th>narration</th>\n      <th>start</th>\n      <th>stop</th>\n      <th>start_frame</th>\n      <th>stop_frame</th>\n      <th>verb</th>\n      <th>verb_class</th>\n    </tr>\n  </thead>\n  <tbody>\n    <tr>\n      <th>2</th>\n      <td>27</td>\n      <td>2</td>\n      <td>S04</td>\n      <td>S04_1</td>\n      <td>Open a jar of almond butter</td>\n      <td>1.655241e+09</td>\n      <td>1.655241e+09</td>\n      <td>69557</td>\n      <td>69855</td>\n      <td>Open a jar of almond butter</td>\n      <td>8</td>\n    </tr>\n    <tr>\n      <th>6</th>\n      <td>45</td>\n      <td>6</td>\n      <td>S04</td>\n      <td>S04_1</td>\n      <td>Clean a plate with a towel</td>\n      <td>1.655242e+09</td>\n      <td>1.655242e+09</td>\n      <td>79553</td>\n      <td>79751</td>\n      <td>Clean a plate with a towel</td>\n      <td>11</td>\n    </tr>\n    <tr>\n      <th>8</th>\n      <td>65</td>\n      <td>8</td>\n      <td>S04</td>\n      <td>S04_1</td>\n      <td>Open a jar of almond butter</td>\n      <td>1.655241e+09</td>\n      <td>1.655241e+09</td>\n      <td>69449</td>\n      <td>69747</td>\n      <td>Open a jar of almond butter</td>\n      <td>8</td>\n    </tr>\n    <tr>\n      <th>22</th>\n      <td>42</td>\n      <td>22</td>\n      <td>S04</td>\n      <td>S04_1</td>\n      <td>Clear cutting board</td>\n      <td>1.655241e+09</td>\n      <td>1.655241e+09</td>\n      <td>60141</td>\n      <td>60437</td>\n      <td>Clear cutting board</td>\n      <td>18</td>\n    </tr>\n    <tr>\n      <th>57</th>\n      <td>9</td>\n      <td>57</td>\n      <td>S04</td>\n      <td>S04_1</td>\n      <td>Clean a pan with a towel</td>\n      <td>1.655242e+09</td>\n      <td>1.655242e+09</td>\n      <td>81001</td>\n      <td>81180</td>\n      <td>Clean a pan with a towel</td>\n      <td>13</td>\n    </tr>\n    <tr>\n      <th>...</th>\n      <td>...</td>\n      <td>...</td>\n      <td>...</td>\n      <td>...</td>\n      <td>...</td>\n      <td>...</td>\n      <td>...</td>\n      <td>...</td>\n      <td>...</td>\n      <td>...</td>\n      <td>...</td>\n    </tr>\n    <tr>\n      <th>739</th>\n      <td>41</td>\n      <td>739</td>\n      <td>S04</td>\n      <td>S04_1</td>\n      <td>Set table: 3 each large/small plates, bowls, m...</td>\n      <td>1.655242e+09</td>\n      <td>1.655242e+09</td>\n      <td>88632</td>\n      <td>88929</td>\n      <td>Set table: 3 each large/small plates, bowls, m...</td>\n      <td>15</td>\n    </tr>\n    <tr>\n      <th>771</th>\n      <td>21</td>\n      <td>771</td>\n      <td>S04</td>\n      <td>S04_1</td>\n      <td>Clear cutting board</td>\n      <td>1.655241e+09</td>\n      <td>1.655241e+09</td>\n      <td>60443</td>\n      <td>60740</td>\n      <td>Clear cutting board</td>\n      <td>18</td>\n    </tr>\n    <tr>\n      <th>779</th>\n      <td>48</td>\n      <td>779</td>\n      <td>S04</td>\n      <td>S04_1</td>\n      <td>Spread almond butter on a bread slice</td>\n      <td>1.655241e+09</td>\n      <td>1.655241e+09</td>\n      <td>64415</td>\n      <td>64713</td>\n      <td>Spread almond butter on a bread slice</td>\n      <td>6</td>\n    </tr>\n    <tr>\n      <th>781</th>\n      <td>13</td>\n      <td>781</td>\n      <td>S04</td>\n      <td>S04_1</td>\n      <td>Spread almond butter on a bread slice</td>\n      <td>1.655241e+09</td>\n      <td>1.655241e+09</td>\n      <td>64379</td>\n      <td>64677</td>\n      <td>Spread almond butter on a bread slice</td>\n      <td>6</td>\n    </tr>\n    <tr>\n      <th>794</th>\n      <td>71</td>\n      <td>794</td>\n      <td>S04</td>\n      <td>S04_1</td>\n      <td>Clear cutting board</td>\n      <td>1.655241e+09</td>\n      <td>1.655241e+09</td>\n      <td>59919</td>\n      <td>60216</td>\n      <td>Clear cutting board</td>\n      <td>18</td>\n    </tr>\n  </tbody>\n</table>\n<p>81 rows × 11 columns</p>\n</div>"
     },
     "execution_count": 62,
     "metadata": {},
     "output_type": "execute_result"
    }
   ],
   "source": [
    "data2 = pd.read_pickle('action_net_annotations_training/S04_test.pkl')\n",
    "\n",
    "data2"
   ],
   "metadata": {
    "collapsed": false,
    "ExecuteTime": {
     "end_time": "2024-04-09T15:22:50.345101Z",
     "start_time": "2024-04-09T15:22:50.338502Z"
    }
   },
   "id": "540c2ec58dada513",
   "execution_count": 62
  },
  {
   "cell_type": "code",
   "outputs": [
    {
     "data": {
      "text/plain": "     index  uid participant_id video_id  \\\n0      487    0            S04    S04_1   \n1      410    1            S04    S04_1   \n3      451    3            S04    S04_1   \n4      174    4            S04    S04_1   \n5      544    5            S04    S04_1   \n..     ...  ...            ...      ...   \n811    625  811            S04    S04_1   \n812    217  812            S04    S04_1   \n813    363  813            S04    S04_1   \n814    218  814            S04    S04_1   \n815    553  815            S04    S04_1   \n\n                                             narration         start  \\\n0                                          Slice bread  1.655241e+09   \n1                                     Slice a cucumber  1.655240e+09   \n3                                      Peel a cucumber  1.655240e+09   \n4         Get items from refrigerator/cabinets/drawers  1.655242e+09   \n5                                  Clear cutting board  1.655241e+09   \n..                                                 ...           ...   \n811  Unload dishwasher: 3 each large/small plates, ...  1.655242e+09   \n812       Get items from refrigerator/cabinets/drawers  1.655242e+09   \n813       Get items from refrigerator/cabinets/drawers  1.655241e+09   \n814                                      Peel a potato  1.655241e+09   \n815                      Spread jelly on a bread slice  1.655241e+09   \n\n             stop  start_frame  stop_frame  \\\n0    1.655241e+09        58513       58810   \n1    1.655240e+09        39083       39380   \n3    1.655240e+09        30658       30955   \n4    1.655242e+09        81807       82104   \n5    1.655241e+09        51042       51339   \n..            ...          ...         ...   \n811  1.655242e+09        97539       97836   \n812  1.655242e+09        82286       82583   \n813  1.655241e+09        56484       56781   \n814  1.655241e+09        47926       48223   \n815  1.655241e+09        66072       66368   \n\n                                                  verb  verb_class  \n0                                          Slice bread           5  \n1                                     Slice a cucumber           2  \n3                                      Peel a cucumber           1  \n4         Get items from refrigerator/cabinets/drawers           0  \n5                                  Clear cutting board          18  \n..                                                 ...         ...  \n811  Unload dishwasher: 3 each large/small plates, ...          19  \n812       Get items from refrigerator/cabinets/drawers           0  \n813       Get items from refrigerator/cabinets/drawers           0  \n814                                      Peel a potato           3  \n815                      Spread jelly on a bread slice           7  \n\n[735 rows x 11 columns]",
      "text/html": "<div>\n<style scoped>\n    .dataframe tbody tr th:only-of-type {\n        vertical-align: middle;\n    }\n\n    .dataframe tbody tr th {\n        vertical-align: top;\n    }\n\n    .dataframe thead th {\n        text-align: right;\n    }\n</style>\n<table border=\"1\" class=\"dataframe\">\n  <thead>\n    <tr style=\"text-align: right;\">\n      <th></th>\n      <th>index</th>\n      <th>uid</th>\n      <th>participant_id</th>\n      <th>video_id</th>\n      <th>narration</th>\n      <th>start</th>\n      <th>stop</th>\n      <th>start_frame</th>\n      <th>stop_frame</th>\n      <th>verb</th>\n      <th>verb_class</th>\n    </tr>\n  </thead>\n  <tbody>\n    <tr>\n      <th>0</th>\n      <td>487</td>\n      <td>0</td>\n      <td>S04</td>\n      <td>S04_1</td>\n      <td>Slice bread</td>\n      <td>1.655241e+09</td>\n      <td>1.655241e+09</td>\n      <td>58513</td>\n      <td>58810</td>\n      <td>Slice bread</td>\n      <td>5</td>\n    </tr>\n    <tr>\n      <th>1</th>\n      <td>410</td>\n      <td>1</td>\n      <td>S04</td>\n      <td>S04_1</td>\n      <td>Slice a cucumber</td>\n      <td>1.655240e+09</td>\n      <td>1.655240e+09</td>\n      <td>39083</td>\n      <td>39380</td>\n      <td>Slice a cucumber</td>\n      <td>2</td>\n    </tr>\n    <tr>\n      <th>3</th>\n      <td>451</td>\n      <td>3</td>\n      <td>S04</td>\n      <td>S04_1</td>\n      <td>Peel a cucumber</td>\n      <td>1.655240e+09</td>\n      <td>1.655240e+09</td>\n      <td>30658</td>\n      <td>30955</td>\n      <td>Peel a cucumber</td>\n      <td>1</td>\n    </tr>\n    <tr>\n      <th>4</th>\n      <td>174</td>\n      <td>4</td>\n      <td>S04</td>\n      <td>S04_1</td>\n      <td>Get items from refrigerator/cabinets/drawers</td>\n      <td>1.655242e+09</td>\n      <td>1.655242e+09</td>\n      <td>81807</td>\n      <td>82104</td>\n      <td>Get items from refrigerator/cabinets/drawers</td>\n      <td>0</td>\n    </tr>\n    <tr>\n      <th>5</th>\n      <td>544</td>\n      <td>5</td>\n      <td>S04</td>\n      <td>S04_1</td>\n      <td>Clear cutting board</td>\n      <td>1.655241e+09</td>\n      <td>1.655241e+09</td>\n      <td>51042</td>\n      <td>51339</td>\n      <td>Clear cutting board</td>\n      <td>18</td>\n    </tr>\n    <tr>\n      <th>...</th>\n      <td>...</td>\n      <td>...</td>\n      <td>...</td>\n      <td>...</td>\n      <td>...</td>\n      <td>...</td>\n      <td>...</td>\n      <td>...</td>\n      <td>...</td>\n      <td>...</td>\n      <td>...</td>\n    </tr>\n    <tr>\n      <th>811</th>\n      <td>625</td>\n      <td>811</td>\n      <td>S04</td>\n      <td>S04_1</td>\n      <td>Unload dishwasher: 3 each large/small plates, ...</td>\n      <td>1.655242e+09</td>\n      <td>1.655242e+09</td>\n      <td>97539</td>\n      <td>97836</td>\n      <td>Unload dishwasher: 3 each large/small plates, ...</td>\n      <td>19</td>\n    </tr>\n    <tr>\n      <th>812</th>\n      <td>217</td>\n      <td>812</td>\n      <td>S04</td>\n      <td>S04_1</td>\n      <td>Get items from refrigerator/cabinets/drawers</td>\n      <td>1.655242e+09</td>\n      <td>1.655242e+09</td>\n      <td>82286</td>\n      <td>82583</td>\n      <td>Get items from refrigerator/cabinets/drawers</td>\n      <td>0</td>\n    </tr>\n    <tr>\n      <th>813</th>\n      <td>363</td>\n      <td>813</td>\n      <td>S04</td>\n      <td>S04_1</td>\n      <td>Get items from refrigerator/cabinets/drawers</td>\n      <td>1.655241e+09</td>\n      <td>1.655241e+09</td>\n      <td>56484</td>\n      <td>56781</td>\n      <td>Get items from refrigerator/cabinets/drawers</td>\n      <td>0</td>\n    </tr>\n    <tr>\n      <th>814</th>\n      <td>218</td>\n      <td>814</td>\n      <td>S04</td>\n      <td>S04_1</td>\n      <td>Peel a potato</td>\n      <td>1.655241e+09</td>\n      <td>1.655241e+09</td>\n      <td>47926</td>\n      <td>48223</td>\n      <td>Peel a potato</td>\n      <td>3</td>\n    </tr>\n    <tr>\n      <th>815</th>\n      <td>553</td>\n      <td>815</td>\n      <td>S04</td>\n      <td>S04_1</td>\n      <td>Spread jelly on a bread slice</td>\n      <td>1.655241e+09</td>\n      <td>1.655241e+09</td>\n      <td>66072</td>\n      <td>66368</td>\n      <td>Spread jelly on a bread slice</td>\n      <td>7</td>\n    </tr>\n  </tbody>\n</table>\n<p>735 rows × 11 columns</p>\n</div>"
     },
     "execution_count": 61,
     "metadata": {},
     "output_type": "execute_result"
    }
   ],
   "source": [
    "data2 = pd.read_pickle('action_net_annotations_training/S04_train.pkl')\n",
    "\n",
    "data2"
   ],
   "metadata": {
    "collapsed": false,
    "ExecuteTime": {
     "end_time": "2024-04-09T15:22:48.256387Z",
     "start_time": "2024-04-09T15:22:48.248030Z"
    }
   },
   "id": "605acbc30037b703",
   "execution_count": 61
  },
  {
   "cell_type": "code",
   "outputs": [
    {
     "data": {
      "text/plain": "    index       file                                        description  \\\n34     34  S04_1.pkl                  Open/close a jar of almond butter   \n23     23  S04_1.pkl                                Clear cutting board   \n26     26  S04_1.pkl              Spread almond butter on a bread slice   \n56     56  S04_1.pkl  Set table: 3 each large/small plates, bowls, m...   \n45     45  S04_1.pkl                         Clean a plate with a towel   \n52     52  S04_1.pkl                           Clean a pan with a towel   \n36     36  S04_1.pkl             Pour water from a pitcher into a glass   \n47     47  S04_1.pkl                         Clean a plate with a towel   \n\n        labels  \n34  Open/Close  \n23       Clear  \n26      Spread  \n56         Set  \n45       Clean  \n52       Clean  \n36        Pour  \n47       Clean  ",
      "text/html": "<div>\n<style scoped>\n    .dataframe tbody tr th:only-of-type {\n        vertical-align: middle;\n    }\n\n    .dataframe tbody tr th {\n        vertical-align: top;\n    }\n\n    .dataframe thead th {\n        text-align: right;\n    }\n</style>\n<table border=\"1\" class=\"dataframe\">\n  <thead>\n    <tr style=\"text-align: right;\">\n      <th></th>\n      <th>index</th>\n      <th>file</th>\n      <th>description</th>\n      <th>labels</th>\n    </tr>\n  </thead>\n  <tbody>\n    <tr>\n      <th>34</th>\n      <td>34</td>\n      <td>S04_1.pkl</td>\n      <td>Open/close a jar of almond butter</td>\n      <td>Open/Close</td>\n    </tr>\n    <tr>\n      <th>23</th>\n      <td>23</td>\n      <td>S04_1.pkl</td>\n      <td>Clear cutting board</td>\n      <td>Clear</td>\n    </tr>\n    <tr>\n      <th>26</th>\n      <td>26</td>\n      <td>S04_1.pkl</td>\n      <td>Spread almond butter on a bread slice</td>\n      <td>Spread</td>\n    </tr>\n    <tr>\n      <th>56</th>\n      <td>56</td>\n      <td>S04_1.pkl</td>\n      <td>Set table: 3 each large/small plates, bowls, m...</td>\n      <td>Set</td>\n    </tr>\n    <tr>\n      <th>45</th>\n      <td>45</td>\n      <td>S04_1.pkl</td>\n      <td>Clean a plate with a towel</td>\n      <td>Clean</td>\n    </tr>\n    <tr>\n      <th>52</th>\n      <td>52</td>\n      <td>S04_1.pkl</td>\n      <td>Clean a pan with a towel</td>\n      <td>Clean</td>\n    </tr>\n    <tr>\n      <th>36</th>\n      <td>36</td>\n      <td>S04_1.pkl</td>\n      <td>Pour water from a pitcher into a glass</td>\n      <td>Pour</td>\n    </tr>\n    <tr>\n      <th>47</th>\n      <td>47</td>\n      <td>S04_1.pkl</td>\n      <td>Clean a plate with a towel</td>\n      <td>Clean</td>\n    </tr>\n  </tbody>\n</table>\n</div>"
     },
     "execution_count": 43,
     "metadata": {},
     "output_type": "execute_result"
    }
   ],
   "source": [
    "data2 = pd.read_pickle('action-net/ActionNet_test.pkl')\n",
    "\n",
    "data2 = data2[data2['file'] == 'S04_1.pkl']\n",
    "\n",
    "data2"
   ],
   "metadata": {
    "collapsed": false,
    "ExecuteTime": {
     "end_time": "2024-04-09T14:49:18.936035Z",
     "start_time": "2024-04-09T14:49:18.926013Z"
    }
   },
   "id": "fbf29b18093ae464",
   "execution_count": 43
  },
  {
   "cell_type": "code",
   "outputs": [
    {
     "data": {
      "text/plain": "    index       file                                        description labels\n51     51  S06_2.pkl  Set table: 3 each large/small plates, bowls, m...    Set\n25     25  S02_3.pkl  Set table: 3 each large/small plates, bowls, m...    Set\n49     49  S00_2.pkl  Set table: 3 each large/small plates, bowls, m...    Set\n38     38  S03_2.pkl  Set table: 3 each large/small plates, bowls, m...    Set\n52     52  S06_2.pkl  Set table: 3 each large/small plates, bowls, m...    Set\n2       2  S02_4.pkl  Set table: 3 each large/small plates, bowls, m...    Set\n57     57  S05_2.pkl  Set table: 3 each large/small plates, bowls, m...    Set\n69     69  S09_2.pkl  Set table: 3 each large/small plates, bowls, m...    Set\n61     61  S07_1.pkl  Set table: 3 each large/small plates, bowls, m...    Set\n69     69  S08_1.pkl  Set table: 3 each large/small plates, bowls, m...    Set",
      "text/html": "<div>\n<style scoped>\n    .dataframe tbody tr th:only-of-type {\n        vertical-align: middle;\n    }\n\n    .dataframe tbody tr th {\n        vertical-align: top;\n    }\n\n    .dataframe thead th {\n        text-align: right;\n    }\n</style>\n<table border=\"1\" class=\"dataframe\">\n  <thead>\n    <tr style=\"text-align: right;\">\n      <th></th>\n      <th>index</th>\n      <th>file</th>\n      <th>description</th>\n      <th>labels</th>\n    </tr>\n  </thead>\n  <tbody>\n    <tr>\n      <th>51</th>\n      <td>51</td>\n      <td>S06_2.pkl</td>\n      <td>Set table: 3 each large/small plates, bowls, m...</td>\n      <td>Set</td>\n    </tr>\n    <tr>\n      <th>25</th>\n      <td>25</td>\n      <td>S02_3.pkl</td>\n      <td>Set table: 3 each large/small plates, bowls, m...</td>\n      <td>Set</td>\n    </tr>\n    <tr>\n      <th>49</th>\n      <td>49</td>\n      <td>S00_2.pkl</td>\n      <td>Set table: 3 each large/small plates, bowls, m...</td>\n      <td>Set</td>\n    </tr>\n    <tr>\n      <th>38</th>\n      <td>38</td>\n      <td>S03_2.pkl</td>\n      <td>Set table: 3 each large/small plates, bowls, m...</td>\n      <td>Set</td>\n    </tr>\n    <tr>\n      <th>52</th>\n      <td>52</td>\n      <td>S06_2.pkl</td>\n      <td>Set table: 3 each large/small plates, bowls, m...</td>\n      <td>Set</td>\n    </tr>\n    <tr>\n      <th>2</th>\n      <td>2</td>\n      <td>S02_4.pkl</td>\n      <td>Set table: 3 each large/small plates, bowls, m...</td>\n      <td>Set</td>\n    </tr>\n    <tr>\n      <th>57</th>\n      <td>57</td>\n      <td>S05_2.pkl</td>\n      <td>Set table: 3 each large/small plates, bowls, m...</td>\n      <td>Set</td>\n    </tr>\n    <tr>\n      <th>69</th>\n      <td>69</td>\n      <td>S09_2.pkl</td>\n      <td>Set table: 3 each large/small plates, bowls, m...</td>\n      <td>Set</td>\n    </tr>\n    <tr>\n      <th>61</th>\n      <td>61</td>\n      <td>S07_1.pkl</td>\n      <td>Set table: 3 each large/small plates, bowls, m...</td>\n      <td>Set</td>\n    </tr>\n    <tr>\n      <th>69</th>\n      <td>69</td>\n      <td>S08_1.pkl</td>\n      <td>Set table: 3 each large/small plates, bowls, m...</td>\n      <td>Set</td>\n    </tr>\n  </tbody>\n</table>\n</div>"
     },
     "execution_count": 46,
     "metadata": {},
     "output_type": "execute_result"
    }
   ],
   "source": [
    "data2 = pd.read_pickle('action-net/ActionNet_train.pkl')\n",
    "\n",
    "data2 = data2[data2['description'] == 'Set table: 3 each large/small plates, bowls, mugs, glasses, sets of utensils']\n",
    "\n",
    "data2"
   ],
   "metadata": {
    "collapsed": false,
    "ExecuteTime": {
     "end_time": "2024-04-09T15:01:08.379413Z",
     "start_time": "2024-04-09T15:01:08.374784Z"
    }
   },
   "id": "b72b9702d4b01ed9",
   "execution_count": 46
  },
  {
   "cell_type": "code",
   "outputs": [
    {
     "ename": "TypeError",
     "evalue": "issubclass() arg 1 must be a class",
     "output_type": "error",
     "traceback": [
      "\u001B[0;31m---------------------------------------------------------------------------\u001B[0m",
      "\u001B[0;31mTypeError\u001B[0m                                 Traceback (most recent call last)",
      "File \u001B[0;32m/opt/homebrew/lib/python3.11/site-packages/pandas/io/pickle.py:206\u001B[0m, in \u001B[0;36mread_pickle\u001B[0;34m(filepath_or_buffer, compression, storage_options)\u001B[0m\n\u001B[1;32m    205\u001B[0m         warnings\u001B[38;5;241m.\u001B[39msimplefilter(\u001B[38;5;124m\"\u001B[39m\u001B[38;5;124mignore\u001B[39m\u001B[38;5;124m\"\u001B[39m, \u001B[38;5;167;01mWarning\u001B[39;00m)\n\u001B[0;32m--> 206\u001B[0m         \u001B[38;5;28;01mreturn\u001B[39;00m pickle\u001B[38;5;241m.\u001B[39mload(handles\u001B[38;5;241m.\u001B[39mhandle)\n\u001B[1;32m    207\u001B[0m \u001B[38;5;28;01mexcept\u001B[39;00m excs_to_catch:\n\u001B[1;32m    208\u001B[0m     \u001B[38;5;66;03m# e.g.\u001B[39;00m\n\u001B[1;32m    209\u001B[0m     \u001B[38;5;66;03m#  \"No module named 'pandas.core.sparse.series'\"\u001B[39;00m\n\u001B[1;32m    210\u001B[0m     \u001B[38;5;66;03m#  \"Can't get attribute '__nat_unpickle' on <module 'pandas._libs.tslib\"\u001B[39;00m\n",
      "File \u001B[0;32m/opt/homebrew/lib/python3.11/site-packages/pandas/core/internals/blocks.py:2400\u001B[0m, in \u001B[0;36mnew_block\u001B[0;34m(values, placement, ndim, refs)\u001B[0m\n\u001B[1;32m   2399\u001B[0m klass \u001B[38;5;241m=\u001B[39m get_block_type(values\u001B[38;5;241m.\u001B[39mdtype)\n\u001B[0;32m-> 2400\u001B[0m \u001B[38;5;28;01mreturn\u001B[39;00m \u001B[43mklass\u001B[49m\u001B[43m(\u001B[49m\u001B[43mvalues\u001B[49m\u001B[43m,\u001B[49m\u001B[43m \u001B[49m\u001B[43mndim\u001B[49m\u001B[38;5;241;43m=\u001B[39;49m\u001B[43mndim\u001B[49m\u001B[43m,\u001B[49m\u001B[43m \u001B[49m\u001B[43mplacement\u001B[49m\u001B[38;5;241;43m=\u001B[39;49m\u001B[43mplacement\u001B[49m\u001B[43m,\u001B[49m\u001B[43m \u001B[49m\u001B[43mrefs\u001B[49m\u001B[38;5;241;43m=\u001B[39;49m\u001B[43mrefs\u001B[49m\u001B[43m)\u001B[49m\n",
      "\u001B[0;31mTypeError\u001B[0m: Argument 'placement' has incorrect type (expected pandas._libs.internals.BlockPlacement, got slice)",
      "\nDuring handling of the above exception, another exception occurred:\n",
      "\u001B[0;31mTypeError\u001B[0m                                 Traceback (most recent call last)",
      "File \u001B[0;32m/opt/homebrew/lib/python3.11/site-packages/pandas/compat/pickle_compat.py:35\u001B[0m, in \u001B[0;36mload_reduce\u001B[0;34m(self)\u001B[0m\n\u001B[1;32m     34\u001B[0m \u001B[38;5;28;01mtry\u001B[39;00m:\n\u001B[0;32m---> 35\u001B[0m     stack[\u001B[38;5;241m-\u001B[39m\u001B[38;5;241m1\u001B[39m] \u001B[38;5;241m=\u001B[39m \u001B[43mfunc\u001B[49m\u001B[43m(\u001B[49m\u001B[38;5;241;43m*\u001B[39;49m\u001B[43margs\u001B[49m\u001B[43m)\u001B[49m\n\u001B[1;32m     36\u001B[0m     \u001B[38;5;28;01mreturn\u001B[39;00m\n",
      "File \u001B[0;32m/opt/homebrew/lib/python3.11/site-packages/pandas/core/internals/blocks.py:2400\u001B[0m, in \u001B[0;36mnew_block\u001B[0;34m(values, placement, ndim, refs)\u001B[0m\n\u001B[1;32m   2399\u001B[0m klass \u001B[38;5;241m=\u001B[39m get_block_type(values\u001B[38;5;241m.\u001B[39mdtype)\n\u001B[0;32m-> 2400\u001B[0m \u001B[38;5;28;01mreturn\u001B[39;00m \u001B[43mklass\u001B[49m\u001B[43m(\u001B[49m\u001B[43mvalues\u001B[49m\u001B[43m,\u001B[49m\u001B[43m \u001B[49m\u001B[43mndim\u001B[49m\u001B[38;5;241;43m=\u001B[39;49m\u001B[43mndim\u001B[49m\u001B[43m,\u001B[49m\u001B[43m \u001B[49m\u001B[43mplacement\u001B[49m\u001B[38;5;241;43m=\u001B[39;49m\u001B[43mplacement\u001B[49m\u001B[43m,\u001B[49m\u001B[43m \u001B[49m\u001B[43mrefs\u001B[49m\u001B[38;5;241;43m=\u001B[39;49m\u001B[43mrefs\u001B[49m\u001B[43m)\u001B[49m\n",
      "\u001B[0;31mTypeError\u001B[0m: Argument 'placement' has incorrect type (expected pandas._libs.internals.BlockPlacement, got slice)",
      "\nDuring handling of the above exception, another exception occurred:\n",
      "\u001B[0;31mTypeError\u001B[0m                                 Traceback (most recent call last)",
      "Cell \u001B[0;32mIn[45], line 1\u001B[0m\n\u001B[0;32m----> 1\u001B[0m data2 \u001B[38;5;241m=\u001B[39m \u001B[43mpd\u001B[49m\u001B[38;5;241;43m.\u001B[39;49m\u001B[43mread_pickle\u001B[49m\u001B[43m(\u001B[49m\u001B[38;5;124;43m'\u001B[39;49m\u001B[38;5;124;43mActionNet_train.pkl\u001B[39;49m\u001B[38;5;124;43m'\u001B[39;49m\u001B[43m)\u001B[49m\n\u001B[1;32m      3\u001B[0m data2\n",
      "File \u001B[0;32m/opt/homebrew/lib/python3.11/site-packages/pandas/io/pickle.py:211\u001B[0m, in \u001B[0;36mread_pickle\u001B[0;34m(filepath_or_buffer, compression, storage_options)\u001B[0m\n\u001B[1;32m    206\u001B[0m             \u001B[38;5;28;01mreturn\u001B[39;00m pickle\u001B[38;5;241m.\u001B[39mload(handles\u001B[38;5;241m.\u001B[39mhandle)\n\u001B[1;32m    207\u001B[0m     \u001B[38;5;28;01mexcept\u001B[39;00m excs_to_catch:\n\u001B[1;32m    208\u001B[0m         \u001B[38;5;66;03m# e.g.\u001B[39;00m\n\u001B[1;32m    209\u001B[0m         \u001B[38;5;66;03m#  \"No module named 'pandas.core.sparse.series'\"\u001B[39;00m\n\u001B[1;32m    210\u001B[0m         \u001B[38;5;66;03m#  \"Can't get attribute '__nat_unpickle' on <module 'pandas._libs.tslib\"\u001B[39;00m\n\u001B[0;32m--> 211\u001B[0m         \u001B[38;5;28;01mreturn\u001B[39;00m \u001B[43mpc\u001B[49m\u001B[38;5;241;43m.\u001B[39;49m\u001B[43mload\u001B[49m\u001B[43m(\u001B[49m\u001B[43mhandles\u001B[49m\u001B[38;5;241;43m.\u001B[39;49m\u001B[43mhandle\u001B[49m\u001B[43m,\u001B[49m\u001B[43m \u001B[49m\u001B[43mencoding\u001B[49m\u001B[38;5;241;43m=\u001B[39;49m\u001B[38;5;28;43;01mNone\u001B[39;49;00m\u001B[43m)\u001B[49m\n\u001B[1;32m    212\u001B[0m \u001B[38;5;28;01mexcept\u001B[39;00m \u001B[38;5;167;01mUnicodeDecodeError\u001B[39;00m:\n\u001B[1;32m    213\u001B[0m     \u001B[38;5;66;03m# e.g. can occur for files written in py27; see GH#28645 and GH#31988\u001B[39;00m\n\u001B[1;32m    214\u001B[0m     \u001B[38;5;28;01mreturn\u001B[39;00m pc\u001B[38;5;241m.\u001B[39mload(handles\u001B[38;5;241m.\u001B[39mhandle, encoding\u001B[38;5;241m=\u001B[39m\u001B[38;5;124m\"\u001B[39m\u001B[38;5;124mlatin-1\u001B[39m\u001B[38;5;124m\"\u001B[39m)\n",
      "File \u001B[0;32m/opt/homebrew/lib/python3.11/site-packages/pandas/compat/pickle_compat.py:225\u001B[0m, in \u001B[0;36mload\u001B[0;34m(fh, encoding, is_verbose)\u001B[0m\n\u001B[1;32m    222\u001B[0m     \u001B[38;5;66;03m# \"Unpickler\" has no attribute \"is_verbose\"  [attr-defined]\u001B[39;00m\n\u001B[1;32m    223\u001B[0m     up\u001B[38;5;241m.\u001B[39mis_verbose \u001B[38;5;241m=\u001B[39m is_verbose  \u001B[38;5;66;03m# type: ignore[attr-defined]\u001B[39;00m\n\u001B[0;32m--> 225\u001B[0m     \u001B[38;5;28;01mreturn\u001B[39;00m \u001B[43mup\u001B[49m\u001B[38;5;241;43m.\u001B[39;49m\u001B[43mload\u001B[49m\u001B[43m(\u001B[49m\u001B[43m)\u001B[49m\n\u001B[1;32m    226\u001B[0m \u001B[38;5;28;01mexcept\u001B[39;00m (\u001B[38;5;167;01mValueError\u001B[39;00m, \u001B[38;5;167;01mTypeError\u001B[39;00m):\n\u001B[1;32m    227\u001B[0m     \u001B[38;5;28;01mraise\u001B[39;00m\n",
      "File \u001B[0;32m/opt/homebrew/Cellar/python@3.11/3.11.7_1/Frameworks/Python.framework/Versions/3.11/lib/python3.11/pickle.py:1213\u001B[0m, in \u001B[0;36m_Unpickler.load\u001B[0;34m(self)\u001B[0m\n\u001B[1;32m   1211\u001B[0m             \u001B[38;5;28;01mraise\u001B[39;00m \u001B[38;5;167;01mEOFError\u001B[39;00m\n\u001B[1;32m   1212\u001B[0m         \u001B[38;5;28;01massert\u001B[39;00m \u001B[38;5;28misinstance\u001B[39m(key, bytes_types)\n\u001B[0;32m-> 1213\u001B[0m         \u001B[43mdispatch\u001B[49m\u001B[43m[\u001B[49m\u001B[43mkey\u001B[49m\u001B[43m[\u001B[49m\u001B[38;5;241;43m0\u001B[39;49m\u001B[43m]\u001B[49m\u001B[43m]\u001B[49m\u001B[43m(\u001B[49m\u001B[38;5;28;43mself\u001B[39;49m\u001B[43m)\u001B[49m\n\u001B[1;32m   1214\u001B[0m \u001B[38;5;28;01mexcept\u001B[39;00m _Stop \u001B[38;5;28;01mas\u001B[39;00m stopinst:\n\u001B[1;32m   1215\u001B[0m     \u001B[38;5;28;01mreturn\u001B[39;00m stopinst\u001B[38;5;241m.\u001B[39mvalue\n",
      "File \u001B[0;32m/opt/homebrew/lib/python3.11/site-packages/pandas/compat/pickle_compat.py:55\u001B[0m, in \u001B[0;36mload_reduce\u001B[0;34m(self)\u001B[0m\n\u001B[1;32m     53\u001B[0m     stack[\u001B[38;5;241m-\u001B[39m\u001B[38;5;241m1\u001B[39m] \u001B[38;5;241m=\u001B[39m \u001B[38;5;28mcls\u001B[39m\u001B[38;5;241m.\u001B[39m\u001B[38;5;21m__new__\u001B[39m(\u001B[38;5;241m*\u001B[39margs)\n\u001B[1;32m     54\u001B[0m     \u001B[38;5;28;01mreturn\u001B[39;00m\n\u001B[0;32m---> 55\u001B[0m \u001B[38;5;28;01melif\u001B[39;00m args \u001B[38;5;129;01mand\u001B[39;00m \u001B[38;5;28;43missubclass\u001B[39;49m\u001B[43m(\u001B[49m\u001B[43margs\u001B[49m\u001B[43m[\u001B[49m\u001B[38;5;241;43m0\u001B[39;49m\u001B[43m]\u001B[49m\u001B[43m,\u001B[49m\u001B[43m \u001B[49m\u001B[43mPeriodArray\u001B[49m\u001B[43m)\u001B[49m:\n\u001B[1;32m     56\u001B[0m     \u001B[38;5;28mcls\u001B[39m \u001B[38;5;241m=\u001B[39m args[\u001B[38;5;241m0\u001B[39m]\n\u001B[1;32m     57\u001B[0m     stack[\u001B[38;5;241m-\u001B[39m\u001B[38;5;241m1\u001B[39m] \u001B[38;5;241m=\u001B[39m NDArrayBacked\u001B[38;5;241m.\u001B[39m\u001B[38;5;21m__new__\u001B[39m(\u001B[38;5;241m*\u001B[39margs)\n",
      "\u001B[0;31mTypeError\u001B[0m: issubclass() arg 1 must be a class"
     ]
    }
   ],
   "source": [
    "data2 = pd.read_pickle('ActionNet_train.pkl')\n",
    "\n",
    "data2"
   ],
   "metadata": {
    "collapsed": false,
    "ExecuteTime": {
     "end_time": "2024-04-09T14:59:54.372645Z",
     "start_time": "2024-04-09T14:59:54.135720Z"
    }
   },
   "id": "6b75e3c17c157f29",
   "execution_count": 45
  },
  {
   "cell_type": "code",
   "outputs": [],
   "source": [],
   "metadata": {
    "collapsed": false
   },
   "id": "507bdc57c5cd4ce4"
  }
 ],
 "metadata": {
  "kernelspec": {
   "display_name": "Python 3",
   "language": "python",
   "name": "python3"
  },
  "language_info": {
   "codemirror_mode": {
    "name": "ipython",
    "version": 2
   },
   "file_extension": ".py",
   "mimetype": "text/x-python",
   "name": "python",
   "nbconvert_exporter": "python",
   "pygments_lexer": "ipython2",
   "version": "2.7.6"
  }
 },
 "nbformat": 4,
 "nbformat_minor": 5
}
