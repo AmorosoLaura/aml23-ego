{
 "cells": [
  {
   "cell_type": "code",
   "outputs": [],
   "source": [
    "import pickle\n",
    "import pandas as pd\n",
    "import numpy as np\n",
    "from copy import deepcopy\n",
    "import math\n",
    "from sklearn.model_selection import train_test_split\n",
    "\n",
    "activities_to_classify = {\n",
    "        'Get/replace items from refrigerator/cabinets/drawers': 0,\n",
    "        'Peel a cucumber': 1,\n",
    "        'Clear cutting board': 2,\n",
    "        'Slice a cucumber': 3,\n",
    "        'Peel a potato': 4,\n",
    "        'Slice a potato': 5,\n",
    "        'Slice bread': 6,\n",
    "        'Spread almond butter on a bread slice': 7,\n",
    "        'Spread jelly on a bread slice': 8,\n",
    "        'Open/close a jar of almond butter': 9,\n",
    "        'Pour water from a pitcher into a glass': 10,\n",
    "        'Clean a plate with a sponge': 11,\n",
    "        'Clean a plate with a towel': 12,\n",
    "        'Clean a pan with a sponge': 13,\n",
    "        'Clean a pan with a towel': 14,\n",
    "        'Get items from cabinets: 3 each large/small plates, bowls, mugs, glasses, sets of utensils': 15,\n",
    "        'Set table: 3 each large/small plates, bowls, mugs, glasses, sets of utensils': 16,\n",
    "        'Stack on table: 3 each large/small plates, bowls': 17,\n",
    "        'Load dishwasher: 3 each large/small plates, bowls, mugs, glasses, sets of utensils': 18,\n",
    "        'Unload dishwasher: 3 each large/small plates, bowls, mugs, glasses, sets of utensils': 19,\n",
    "}\n",
    "\n",
    "FPS = 30\n",
    "ACTION_LENGTH = 5\n",
    "\n",
    "def augmentation(data_frame):\n",
    "    augmented_data = []\n",
    "\n",
    "    for _, row in data_frame.iterrows():\n",
    "        start_frame = row['start_frame']\n",
    "        stop_frame = row['stop_frame']\n",
    "        interval_size = FPS * ACTION_LENGTH \n",
    "\n",
    "        num_intervals = math.ceil((stop_frame - start_frame + 1) / interval_size)\n",
    "\n",
    "        for i in range(num_intervals):\n",
    "            new_start = start_frame + i * interval_size\n",
    "            new_stop = min(new_start + interval_size - 1, stop_frame)  \n",
    "            new_row = row.copy()\n",
    "            new_row['start_frame'] = new_start\n",
    "            new_row['stop_frame'] = new_stop\n",
    "            new_row['start_timestamp'] = new_start/FPS\n",
    "            new_row['stop_timestamp'] = new_stop/FPS\n",
    "            augmented_data.append(new_row)\n",
    "\n",
    "    augmented_dataframe = pd.DataFrame(augmented_data, columns=data_frame.columns)\n",
    "    augmented_dataframe.reset_index(drop=True, inplace=True)\n",
    "\n",
    "    return augmented_dataframe\n",
    "\n",
    "def create_annotations_file(timestamp_file, annotations_file, type='train'):\n",
    "\n",
    "    timestamps = pd.read_pickle(timestamp_file)\n",
    "    timestamps = timestamps.drop(\n",
    "        ['myo_left_timestamps', 'myo_right_timestamps', 'myo_left_readings', 'myo_right_readings'], axis=1)\n",
    "    timestamps = timestamps.reset_index()\n",
    "\n",
    "    start_timestamp = timestamps['start'].iloc[0]\n",
    "    timestamps['start_frame'] = ((timestamps['start'] - start_timestamp) * FPS).astype(int)\n",
    "    timestamps['stop_frame'] = ((timestamps['stop'] - start_timestamp) * FPS).astype(int)\n",
    "    \n",
    "    annotations = pd.read_pickle(annotations_file)\n",
    "    annotations = annotations[annotations['file'] == 'S04_1.pkl']\n",
    "    annotations = annotations.drop(['labels'], axis=1)\n",
    "    \n",
    "    complete_labels = pd.merge(timestamps, annotations, on='index', how='inner')\n",
    "    \n",
    "    complete_labels['uid'] = complete_labels['index']\n",
    "    complete_labels['participant_id'] = 'S04'\n",
    "    complete_labels['video_id'] = 'S04_1'\n",
    "    complete_labels['verb'] = complete_labels['description_x']\n",
    "    complete_labels['narration'] = complete_labels['description_x']\n",
    "    complete_labels['verb_class'] = complete_labels['verb'].map(activities_to_classify)\n",
    "\n",
    "    complete_labels = complete_labels[\n",
    "        ['uid', 'participant_id', 'video_id', 'narration', 'start', 'stop', 'start_frame',\n",
    "         'stop_frame', 'verb', 'verb_class']]\n",
    "    \n",
    "    complete_labels['type'] = type\n",
    "    \n",
    "    return complete_labels\n",
    "\n",
    "def change_uid_to_emg(emg_data, split):\n",
    "    emg_data = pd.read_pickle(emg_data)\n",
    "    emg_data['uid'] = emg_data.reset_index().index + 1\n",
    "    emg_data.to_pickle(f'new_emg_data_{split}.pkl')    \n",
    "\n",
    "\n",
    "def take_S04_annotations_RGB(timestamps, emg_data, type):\n",
    "    \n",
    "    calibration_val = pd.read_pickle(timestamps)['start'].iloc[0]\n",
    "\n",
    "    emg_data = pd.read_pickle(emg_data)\n",
    "    \n",
    "    emg_data = emg_data[emg_data['file'] == 'S04_1.pkl']\n",
    "    \n",
    "    emg_data = emg_data.rename(columns={'file': 'video_id', 'description': 'narration', 'description_class': 'verb_class'})\n",
    "    emg_data['participant_id'] = 'S04'\n",
    "    emg_data['video_id'] = 'S04_1'\n",
    "    emg_data['start_frame'] = ((emg_data['start'] - calibration_val) * FPS).astype(int)\n",
    "    emg_data['stop_frame'] = ((emg_data['stop'] - calibration_val) * FPS).astype(int)\n",
    "    emg_data['verb'] = emg_data['narration']\n",
    "    emg_data = emg_data.drop(['emg_data'], axis = 1)\n",
    "    emg_data = emg_data[\n",
    "        ['uid', 'participant_id', 'video_id', 'narration', 'start', 'stop', 'start_frame',\n",
    "         'stop_frame', 'verb', 'verb_class']]\n",
    "    \n",
    "    emg_data.to_pickle(f'action_net_annotations_training/S04_{type}.pkl')    \n",
    "\n",
    "def create_reduced_annotations(train_annotations, test_annotations):\n",
    "    \n",
    "    combined_df = pd.concat([train_annotations, test_annotations], ignore_index=True)\n",
    "    \n",
    "    combined_df = combined_df.sample(frac=1)\n",
    "\n",
    "    combined_df.reset_index(inplace=True)\n",
    "    combined_df['uid'] = combined_df.index\n",
    "    \n",
    "    train_df_final = combined_df[combined_df['type'] == 'train']\n",
    "    test_df_final = combined_df[combined_df['type'] == 'test']\n",
    "    \n",
    "    train_df_final = train_df_final.drop(['type'], axis=1)\n",
    "    test_df_final = test_df_final.drop(['type'], axis=1)\n",
    "\n",
    "    train_df_final.to_pickle(f\"action_net_annotations_training/S04_train.pkl\")    \n",
    "    test_df_final.to_pickle(f\"action_net_annotations_training/S04_test.pkl\")   \n",
    "    \n",
    "def create_multimodal_annotations(full_data, split, spectogram):\n",
    "    \n",
    "    full_data = pd.read_pickle(full_data)\n",
    "    full_data = full_data[full_data['file'] == 'S04_1.pkl']\n",
    "    full_data = full_data.rename(columns={'description_class': 'verb_class'})\n",
    "    full_data['participant_id'] = 'S04'\n",
    "    full_data['video_id'] = 'S04_1'\n",
    "    \n",
    "    create_emg_features(deepcopy(full_data), split, spectogram)\n",
    "    \n",
    "    final_annotations = full_data[\n",
    "        ['uid', 'participant_id', 'video_id', 'description', 'verb_class']]\n",
    "    \n",
    "    final_annotations.to_pickle(f\"an_multimodal_annotations/S04_{split}.pkl\")   \n",
    "    \n",
    "def create_emg_features(full_data, split, spectogram):\n",
    "    \n",
    "    full_data = full_data[full_data['file'] == 'S04_1.pkl']\n",
    "    full_data = full_data.rename(columns={'emg_data': 'features_EMG'})\n",
    "    \n",
    "    emg_features = full_data[\n",
    "        ['uid', 'features_EMG']]\n",
    "    emg_features = emg_features.to_dict('list')\n",
    "    emg_features = {'features': emg_features}\n",
    "\n",
    "    features_name = f'saved_features_an_multimodal/features_emg_spectogram_S04_{split}.pkl' if spectogram \\\n",
    "        else f'saved_features_an_multimodal/features_emg_S04_{split}.pkl'\n",
    "      \n",
    "    with open(features_name, 'wb') as f:\n",
    "        pickle.dump(emg_features, f)"
   ],
   "metadata": {
    "collapsed": false,
    "ExecuteTime": {
     "end_time": "2024-04-16T19:29:10.159489Z",
     "start_time": "2024-04-16T19:29:10.150654Z"
    }
   },
   "id": "f7288622a8212497",
   "execution_count": 97
  },
  {
   "cell_type": "code",
   "outputs": [],
   "source": [
    "take_S04_annotations_RGB(timestamps='action-net/S04_1.pkl', emg_data='new_emg_data_test.pkl', type='test')\n",
    "take_S04_annotations_RGB(timestamps='action-net/S04_1.pkl', emg_data='new_emg_data_train.pkl', type='train')"
   ],
   "metadata": {
    "collapsed": false,
    "ExecuteTime": {
     "end_time": "2024-04-16T18:48:30.196718Z",
     "start_time": "2024-04-16T18:48:30.070333Z"
    }
   },
   "id": "c12888eac96f2059",
   "execution_count": 87
  },
  {
   "cell_type": "code",
   "outputs": [],
   "source": [
    "create_multimodal_annotations(full_data=\"new_emg_data_train.pkl\", split='train', spectogram=False)\n",
    "create_multimodal_annotations(full_data=\"new_emg_data_test.pkl\", split='test', spectogram=False)"
   ],
   "metadata": {
    "collapsed": false,
    "ExecuteTime": {
     "end_time": "2024-04-16T18:46:23.276885Z",
     "start_time": "2024-04-16T18:46:23.217221Z"
    }
   },
   "id": "a8375367fedd5dee",
   "execution_count": 84
  },
  {
   "cell_type": "code",
   "outputs": [],
   "source": [
    "create_emg_features(full_data=\"new_emg_data_train.pkl\", split='train')\n",
    "create_emg_features(full_data=\"new_emg_data_test.pkl\", split='test')"
   ],
   "metadata": {
    "collapsed": false,
    "ExecuteTime": {
     "end_time": "2024-04-16T17:08:55.028127Z",
     "start_time": "2024-04-16T17:08:54.959225Z"
    }
   },
   "id": "1d13b1a4f66adc26",
   "execution_count": 65
  },
  {
   "cell_type": "code",
   "outputs": [
    {
     "data": {
      "text/plain": "     uid participant_id video_id  \\\n14   249            S04    S04_1   \n22   204            S04    S04_1   \n34   266            S04    S04_1   \n37   224            S04    S04_1   \n39   237            S04    S04_1   \n..   ...            ...      ...   \n850  268            S04    S04_1   \n855  248            S04    S04_1   \n880  245            S04    S04_1   \n889  220            S04    S04_1   \n895  214            S04    S04_1   \n\n                                             narration         start  \\\n14                         Open a jar of almond butter  1.655241e+09   \n22                                 Clear cutting board  1.655241e+09   \n34   Set table: 3 each large/small plates, bowls, m...  1.655242e+09   \n37               Spread almond butter on a bread slice  1.655241e+09   \n39                         Open a jar of almond butter  1.655241e+09   \n..                                                 ...           ...   \n850  Set table: 3 each large/small plates, bowls, m...  1.655242e+09   \n855                        Open a jar of almond butter  1.655241e+09   \n880                        Open a jar of almond butter  1.655241e+09   \n889              Spread almond butter on a bread slice  1.655241e+09   \n895                                Clear cutting board  1.655241e+09   \n\n             stop  start_frame  stop_frame  \\\n14   1.655241e+09        69539       69837   \n22   1.655241e+09        60114       60410   \n34   1.655242e+09        88254       88551   \n37   1.655241e+09        64379       64677   \n39   1.655241e+09        69431       69729   \n..            ...          ...         ...   \n850  1.655242e+09        88506       88803   \n855  1.655241e+09        69530       69828   \n880  1.655241e+09        69503       69801   \n889  1.655241e+09        64334       64632   \n895  1.655241e+09        60389       60686   \n\n                                                  verb  verb_class  \n14                         Open a jar of almond butter           8  \n22                                 Clear cutting board          18  \n34   Set table: 3 each large/small plates, bowls, m...          15  \n37               Spread almond butter on a bread slice           6  \n39                         Open a jar of almond butter           8  \n..                                                 ...         ...  \n850  Set table: 3 each large/small plates, bowls, m...          15  \n855                        Open a jar of almond butter           8  \n880                        Open a jar of almond butter           8  \n889              Spread almond butter on a bread slice           6  \n895                                Clear cutting board          18  \n\n[81 rows x 10 columns]",
      "text/html": "<div>\n<style scoped>\n    .dataframe tbody tr th:only-of-type {\n        vertical-align: middle;\n    }\n\n    .dataframe tbody tr th {\n        vertical-align: top;\n    }\n\n    .dataframe thead th {\n        text-align: right;\n    }\n</style>\n<table border=\"1\" class=\"dataframe\">\n  <thead>\n    <tr style=\"text-align: right;\">\n      <th></th>\n      <th>uid</th>\n      <th>participant_id</th>\n      <th>video_id</th>\n      <th>narration</th>\n      <th>start</th>\n      <th>stop</th>\n      <th>start_frame</th>\n      <th>stop_frame</th>\n      <th>verb</th>\n      <th>verb_class</th>\n    </tr>\n  </thead>\n  <tbody>\n    <tr>\n      <th>14</th>\n      <td>249</td>\n      <td>S04</td>\n      <td>S04_1</td>\n      <td>Open a jar of almond butter</td>\n      <td>1.655241e+09</td>\n      <td>1.655241e+09</td>\n      <td>69539</td>\n      <td>69837</td>\n      <td>Open a jar of almond butter</td>\n      <td>8</td>\n    </tr>\n    <tr>\n      <th>22</th>\n      <td>204</td>\n      <td>S04</td>\n      <td>S04_1</td>\n      <td>Clear cutting board</td>\n      <td>1.655241e+09</td>\n      <td>1.655241e+09</td>\n      <td>60114</td>\n      <td>60410</td>\n      <td>Clear cutting board</td>\n      <td>18</td>\n    </tr>\n    <tr>\n      <th>34</th>\n      <td>266</td>\n      <td>S04</td>\n      <td>S04_1</td>\n      <td>Set table: 3 each large/small plates, bowls, m...</td>\n      <td>1.655242e+09</td>\n      <td>1.655242e+09</td>\n      <td>88254</td>\n      <td>88551</td>\n      <td>Set table: 3 each large/small plates, bowls, m...</td>\n      <td>15</td>\n    </tr>\n    <tr>\n      <th>37</th>\n      <td>224</td>\n      <td>S04</td>\n      <td>S04_1</td>\n      <td>Spread almond butter on a bread slice</td>\n      <td>1.655241e+09</td>\n      <td>1.655241e+09</td>\n      <td>64379</td>\n      <td>64677</td>\n      <td>Spread almond butter on a bread slice</td>\n      <td>6</td>\n    </tr>\n    <tr>\n      <th>39</th>\n      <td>237</td>\n      <td>S04</td>\n      <td>S04_1</td>\n      <td>Open a jar of almond butter</td>\n      <td>1.655241e+09</td>\n      <td>1.655241e+09</td>\n      <td>69431</td>\n      <td>69729</td>\n      <td>Open a jar of almond butter</td>\n      <td>8</td>\n    </tr>\n    <tr>\n      <th>...</th>\n      <td>...</td>\n      <td>...</td>\n      <td>...</td>\n      <td>...</td>\n      <td>...</td>\n      <td>...</td>\n      <td>...</td>\n      <td>...</td>\n      <td>...</td>\n      <td>...</td>\n    </tr>\n    <tr>\n      <th>850</th>\n      <td>268</td>\n      <td>S04</td>\n      <td>S04_1</td>\n      <td>Set table: 3 each large/small plates, bowls, m...</td>\n      <td>1.655242e+09</td>\n      <td>1.655242e+09</td>\n      <td>88506</td>\n      <td>88803</td>\n      <td>Set table: 3 each large/small plates, bowls, m...</td>\n      <td>15</td>\n    </tr>\n    <tr>\n      <th>855</th>\n      <td>248</td>\n      <td>S04</td>\n      <td>S04_1</td>\n      <td>Open a jar of almond butter</td>\n      <td>1.655241e+09</td>\n      <td>1.655241e+09</td>\n      <td>69530</td>\n      <td>69828</td>\n      <td>Open a jar of almond butter</td>\n      <td>8</td>\n    </tr>\n    <tr>\n      <th>880</th>\n      <td>245</td>\n      <td>S04</td>\n      <td>S04_1</td>\n      <td>Open a jar of almond butter</td>\n      <td>1.655241e+09</td>\n      <td>1.655241e+09</td>\n      <td>69503</td>\n      <td>69801</td>\n      <td>Open a jar of almond butter</td>\n      <td>8</td>\n    </tr>\n    <tr>\n      <th>889</th>\n      <td>220</td>\n      <td>S04</td>\n      <td>S04_1</td>\n      <td>Spread almond butter on a bread slice</td>\n      <td>1.655241e+09</td>\n      <td>1.655241e+09</td>\n      <td>64334</td>\n      <td>64632</td>\n      <td>Spread almond butter on a bread slice</td>\n      <td>6</td>\n    </tr>\n    <tr>\n      <th>895</th>\n      <td>214</td>\n      <td>S04</td>\n      <td>S04_1</td>\n      <td>Clear cutting board</td>\n      <td>1.655241e+09</td>\n      <td>1.655241e+09</td>\n      <td>60389</td>\n      <td>60686</td>\n      <td>Clear cutting board</td>\n      <td>18</td>\n    </tr>\n  </tbody>\n</table>\n<p>81 rows × 10 columns</p>\n</div>"
     },
     "execution_count": 100,
     "metadata": {},
     "output_type": "execute_result"
    }
   ],
   "source": [
    "data2 = pd.read_pickle('action_net_annotations_training/S04_test.pkl')\n",
    "\n",
    "data2"
   ],
   "metadata": {
    "collapsed": false,
    "ExecuteTime": {
     "end_time": "2024-04-16T19:32:29.630559Z",
     "start_time": "2024-04-16T19:32:29.623160Z"
    }
   },
   "id": "c978eae77ab19bb9",
   "execution_count": 100
  },
  {
   "cell_type": "code",
   "outputs": [
    {
     "data": {
      "text/plain": "     index       file                                        description  \\\n14      34  S04_1.pkl                        Open a jar of almond butter   \n22      23  S04_1.pkl                                Clear cutting board   \n34      56  S04_1.pkl  Set table: 3 each large/small plates, bowls, m...   \n37      26  S04_1.pkl              Spread almond butter on a bread slice   \n39      34  S04_1.pkl                        Open a jar of almond butter   \n..     ...        ...                                                ...   \n850     56  S04_1.pkl  Set table: 3 each large/small plates, bowls, m...   \n855     34  S04_1.pkl                        Open a jar of almond butter   \n880     34  S04_1.pkl                        Open a jar of almond butter   \n889     26  S04_1.pkl              Spread almond butter on a bread slice   \n895     23  S04_1.pkl                                Clear cutting board   \n\n         labels         start          stop  \\\n14   Open/Close  1.655241e+09  1.655241e+09   \n22        Clear  1.655241e+09  1.655241e+09   \n34          Set  1.655242e+09  1.655242e+09   \n37       Spread  1.655241e+09  1.655241e+09   \n39   Open/Close  1.655241e+09  1.655241e+09   \n..          ...           ...           ...   \n850         Set  1.655242e+09  1.655242e+09   \n855  Open/Close  1.655241e+09  1.655241e+09   \n880  Open/Close  1.655241e+09  1.655241e+09   \n889      Spread  1.655241e+09  1.655241e+09   \n895       Clear  1.655241e+09  1.655241e+09   \n\n                                              emg_data  description_class  uid  \n14   [[-0.5310362499607831, -0.17112101585733755, -...                  8  249  \n22   [[-0.06765700081485183, -0.19264746771383182, ...                 18  204  \n34   [[-0.8781975985563716, -0.8737516029999017, -0...                 15  266  \n37   [[-0.5560823621930757, -0.3788598220978606, -0...                  6  224  \n39   [[-0.6652617227946247, -0.35463073586700183, -...                  8  237  \n..                                                 ...                ...  ...  \n850  [[-0.8913982997448366, -0.8646481789321555, -0...                 15  268  \n855  [[-0.32349131425931404, -0.19182720534648318, ...                  8  248  \n880  [[-0.5547529179641489, -0.3992432882881073, -0...                  8  245  \n889  [[-0.3703662356774267, -0.49132828506191123, -...                  6  220  \n895  [[-0.22392689631850465, -0.2798933999640643, -...                 18  214  \n\n[81 rows x 9 columns]",
      "text/html": "<div>\n<style scoped>\n    .dataframe tbody tr th:only-of-type {\n        vertical-align: middle;\n    }\n\n    .dataframe tbody tr th {\n        vertical-align: top;\n    }\n\n    .dataframe thead th {\n        text-align: right;\n    }\n</style>\n<table border=\"1\" class=\"dataframe\">\n  <thead>\n    <tr style=\"text-align: right;\">\n      <th></th>\n      <th>index</th>\n      <th>file</th>\n      <th>description</th>\n      <th>labels</th>\n      <th>start</th>\n      <th>stop</th>\n      <th>emg_data</th>\n      <th>description_class</th>\n      <th>uid</th>\n    </tr>\n  </thead>\n  <tbody>\n    <tr>\n      <th>14</th>\n      <td>34</td>\n      <td>S04_1.pkl</td>\n      <td>Open a jar of almond butter</td>\n      <td>Open/Close</td>\n      <td>1.655241e+09</td>\n      <td>1.655241e+09</td>\n      <td>[[-0.5310362499607831, -0.17112101585733755, -...</td>\n      <td>8</td>\n      <td>249</td>\n    </tr>\n    <tr>\n      <th>22</th>\n      <td>23</td>\n      <td>S04_1.pkl</td>\n      <td>Clear cutting board</td>\n      <td>Clear</td>\n      <td>1.655241e+09</td>\n      <td>1.655241e+09</td>\n      <td>[[-0.06765700081485183, -0.19264746771383182, ...</td>\n      <td>18</td>\n      <td>204</td>\n    </tr>\n    <tr>\n      <th>34</th>\n      <td>56</td>\n      <td>S04_1.pkl</td>\n      <td>Set table: 3 each large/small plates, bowls, m...</td>\n      <td>Set</td>\n      <td>1.655242e+09</td>\n      <td>1.655242e+09</td>\n      <td>[[-0.8781975985563716, -0.8737516029999017, -0...</td>\n      <td>15</td>\n      <td>266</td>\n    </tr>\n    <tr>\n      <th>37</th>\n      <td>26</td>\n      <td>S04_1.pkl</td>\n      <td>Spread almond butter on a bread slice</td>\n      <td>Spread</td>\n      <td>1.655241e+09</td>\n      <td>1.655241e+09</td>\n      <td>[[-0.5560823621930757, -0.3788598220978606, -0...</td>\n      <td>6</td>\n      <td>224</td>\n    </tr>\n    <tr>\n      <th>39</th>\n      <td>34</td>\n      <td>S04_1.pkl</td>\n      <td>Open a jar of almond butter</td>\n      <td>Open/Close</td>\n      <td>1.655241e+09</td>\n      <td>1.655241e+09</td>\n      <td>[[-0.6652617227946247, -0.35463073586700183, -...</td>\n      <td>8</td>\n      <td>237</td>\n    </tr>\n    <tr>\n      <th>...</th>\n      <td>...</td>\n      <td>...</td>\n      <td>...</td>\n      <td>...</td>\n      <td>...</td>\n      <td>...</td>\n      <td>...</td>\n      <td>...</td>\n      <td>...</td>\n    </tr>\n    <tr>\n      <th>850</th>\n      <td>56</td>\n      <td>S04_1.pkl</td>\n      <td>Set table: 3 each large/small plates, bowls, m...</td>\n      <td>Set</td>\n      <td>1.655242e+09</td>\n      <td>1.655242e+09</td>\n      <td>[[-0.8913982997448366, -0.8646481789321555, -0...</td>\n      <td>15</td>\n      <td>268</td>\n    </tr>\n    <tr>\n      <th>855</th>\n      <td>34</td>\n      <td>S04_1.pkl</td>\n      <td>Open a jar of almond butter</td>\n      <td>Open/Close</td>\n      <td>1.655241e+09</td>\n      <td>1.655241e+09</td>\n      <td>[[-0.32349131425931404, -0.19182720534648318, ...</td>\n      <td>8</td>\n      <td>248</td>\n    </tr>\n    <tr>\n      <th>880</th>\n      <td>34</td>\n      <td>S04_1.pkl</td>\n      <td>Open a jar of almond butter</td>\n      <td>Open/Close</td>\n      <td>1.655241e+09</td>\n      <td>1.655241e+09</td>\n      <td>[[-0.5547529179641489, -0.3992432882881073, -0...</td>\n      <td>8</td>\n      <td>245</td>\n    </tr>\n    <tr>\n      <th>889</th>\n      <td>26</td>\n      <td>S04_1.pkl</td>\n      <td>Spread almond butter on a bread slice</td>\n      <td>Spread</td>\n      <td>1.655241e+09</td>\n      <td>1.655241e+09</td>\n      <td>[[-0.3703662356774267, -0.49132828506191123, -...</td>\n      <td>6</td>\n      <td>220</td>\n    </tr>\n    <tr>\n      <th>895</th>\n      <td>23</td>\n      <td>S04_1.pkl</td>\n      <td>Clear cutting board</td>\n      <td>Clear</td>\n      <td>1.655241e+09</td>\n      <td>1.655241e+09</td>\n      <td>[[-0.22392689631850465, -0.2798933999640643, -...</td>\n      <td>18</td>\n      <td>214</td>\n    </tr>\n  </tbody>\n</table>\n<p>81 rows × 9 columns</p>\n</div>"
     },
     "execution_count": 92,
     "metadata": {},
     "output_type": "execute_result"
    }
   ],
   "source": [
    "data2 = pd.read_pickle('new_emg_data_test.pkl')\n",
    "\n",
    "data2 = data2[data2['file'] == 'S04_1.pkl']\n",
    "data2"
   ],
   "metadata": {
    "collapsed": false,
    "ExecuteTime": {
     "end_time": "2024-04-16T18:50:44.439754Z",
     "start_time": "2024-04-16T18:50:44.320964Z"
    }
   },
   "id": "de92930cc75e6f",
   "execution_count": 92
  },
  {
   "cell_type": "code",
   "outputs": [
    {
     "data": {
      "text/plain": "0     {'uid': 15, 'video_name': 'S04_1', 'features_R...\n1     {'uid': 23, 'video_name': 'S04_1', 'features_R...\n2     {'uid': 35, 'video_name': 'S04_1', 'features_R...\n3     {'uid': 38, 'video_name': 'S04_1', 'features_R...\n4     {'uid': 40, 'video_name': 'S04_1', 'features_R...\n                            ...                        \n76    {'uid': 851, 'video_name': 'S04_1', 'features_...\n77    {'uid': 856, 'video_name': 'S04_1', 'features_...\n78    {'uid': 881, 'video_name': 'S04_1', 'features_...\n79    {'uid': 890, 'video_name': 'S04_1', 'features_...\n80    {'uid': 896, 'video_name': 'S04_1', 'features_...\nName: features, Length: 81, dtype: object"
     },
     "execution_count": 94,
     "metadata": {},
     "output_type": "execute_result"
    }
   ],
   "source": [
    "data2 = pd.read_pickle('saved_features_an_multimodal/features_rgb_25_dense_S04_test.pkl')\n",
    "\n",
    "data2 = pd.DataFrame.from_dict(data2)\n",
    "data2['features']"
   ],
   "metadata": {
    "collapsed": false,
    "ExecuteTime": {
     "end_time": "2024-04-16T19:27:27.019492Z",
     "start_time": "2024-04-16T19:27:27.001155Z"
    }
   },
   "id": "bf118f9250177108",
   "execution_count": 94
  },
  {
   "cell_type": "code",
   "outputs": [],
   "source": [],
   "metadata": {
    "collapsed": false,
    "ExecuteTime": {
     "end_time": "2024-04-16T16:59:23.608004Z",
     "start_time": "2024-04-16T16:59:23.594652Z"
    }
   },
   "id": "be884738068961a0",
   "execution_count": 48
  },
  {
   "cell_type": "code",
   "outputs": [
    {
     "data": {
      "text/plain": "     uid participant_id video_id  \\\n14   249            S04    S04_1   \n22   204            S04    S04_1   \n34   266            S04    S04_1   \n37   224            S04    S04_1   \n39   237            S04    S04_1   \n..   ...            ...      ...   \n850  268            S04    S04_1   \n855  248            S04    S04_1   \n880  245            S04    S04_1   \n889  220            S04    S04_1   \n895  214            S04    S04_1   \n\n                                           description  verb_class  \n14                         Open a jar of almond butter           8  \n22                                 Clear cutting board          18  \n34   Set table: 3 each large/small plates, bowls, m...          15  \n37               Spread almond butter on a bread slice           6  \n39                         Open a jar of almond butter           8  \n..                                                 ...         ...  \n850  Set table: 3 each large/small plates, bowls, m...          15  \n855                        Open a jar of almond butter           8  \n880                        Open a jar of almond butter           8  \n889              Spread almond butter on a bread slice           6  \n895                                Clear cutting board          18  \n\n[81 rows x 5 columns]",
      "text/html": "<div>\n<style scoped>\n    .dataframe tbody tr th:only-of-type {\n        vertical-align: middle;\n    }\n\n    .dataframe tbody tr th {\n        vertical-align: top;\n    }\n\n    .dataframe thead th {\n        text-align: right;\n    }\n</style>\n<table border=\"1\" class=\"dataframe\">\n  <thead>\n    <tr style=\"text-align: right;\">\n      <th></th>\n      <th>uid</th>\n      <th>participant_id</th>\n      <th>video_id</th>\n      <th>description</th>\n      <th>verb_class</th>\n    </tr>\n  </thead>\n  <tbody>\n    <tr>\n      <th>14</th>\n      <td>249</td>\n      <td>S04</td>\n      <td>S04_1</td>\n      <td>Open a jar of almond butter</td>\n      <td>8</td>\n    </tr>\n    <tr>\n      <th>22</th>\n      <td>204</td>\n      <td>S04</td>\n      <td>S04_1</td>\n      <td>Clear cutting board</td>\n      <td>18</td>\n    </tr>\n    <tr>\n      <th>34</th>\n      <td>266</td>\n      <td>S04</td>\n      <td>S04_1</td>\n      <td>Set table: 3 each large/small plates, bowls, m...</td>\n      <td>15</td>\n    </tr>\n    <tr>\n      <th>37</th>\n      <td>224</td>\n      <td>S04</td>\n      <td>S04_1</td>\n      <td>Spread almond butter on a bread slice</td>\n      <td>6</td>\n    </tr>\n    <tr>\n      <th>39</th>\n      <td>237</td>\n      <td>S04</td>\n      <td>S04_1</td>\n      <td>Open a jar of almond butter</td>\n      <td>8</td>\n    </tr>\n    <tr>\n      <th>...</th>\n      <td>...</td>\n      <td>...</td>\n      <td>...</td>\n      <td>...</td>\n      <td>...</td>\n    </tr>\n    <tr>\n      <th>850</th>\n      <td>268</td>\n      <td>S04</td>\n      <td>S04_1</td>\n      <td>Set table: 3 each large/small plates, bowls, m...</td>\n      <td>15</td>\n    </tr>\n    <tr>\n      <th>855</th>\n      <td>248</td>\n      <td>S04</td>\n      <td>S04_1</td>\n      <td>Open a jar of almond butter</td>\n      <td>8</td>\n    </tr>\n    <tr>\n      <th>880</th>\n      <td>245</td>\n      <td>S04</td>\n      <td>S04_1</td>\n      <td>Open a jar of almond butter</td>\n      <td>8</td>\n    </tr>\n    <tr>\n      <th>889</th>\n      <td>220</td>\n      <td>S04</td>\n      <td>S04_1</td>\n      <td>Spread almond butter on a bread slice</td>\n      <td>6</td>\n    </tr>\n    <tr>\n      <th>895</th>\n      <td>214</td>\n      <td>S04</td>\n      <td>S04_1</td>\n      <td>Clear cutting board</td>\n      <td>18</td>\n    </tr>\n  </tbody>\n</table>\n<p>81 rows × 5 columns</p>\n</div>"
     },
     "execution_count": 95,
     "metadata": {},
     "output_type": "execute_result"
    }
   ],
   "source": [
    "data2 = pd.read_pickle('an_multimodal_annotations/S04_test.pkl')\n",
    "\n",
    "data2"
   ],
   "metadata": {
    "collapsed": false,
    "ExecuteTime": {
     "end_time": "2024-04-16T19:28:04.795950Z",
     "start_time": "2024-04-16T19:28:04.789411Z"
    }
   },
   "id": "bd3c502e6012b318",
   "execution_count": 95
  },
  {
   "cell_type": "code",
   "outputs": [
    {
     "data": {
      "text/plain": "       uid participant_id video_id  \\\n28    3344            S04    S04_1   \n31    3486            S04    S04_1   \n34    3127            S04    S04_1   \n56    3417            S04    S04_1   \n63    3014            S04    S04_1   \n...    ...            ...      ...   \n8461  3511            S04    S04_1   \n8472  3148            S04    S04_1   \n8495  3010            S04    S04_1   \n8516  3408            S04    S04_1   \n8521  2885            S04    S04_1   \n\n                                              narration         start  \\\n28                        Spread jelly on a bread slice  1.655241e+09   \n31     Stack on table: 3 each large/small plates, bowls  1.655242e+09   \n34                                       Slice a potato  1.655241e+09   \n56         Get items from refrigerator/cabinets/drawers  1.655242e+09   \n63                                        Peel a potato  1.655241e+09   \n...                                                 ...           ...   \n8461  Load dishwasher: 3 each large/small plates, bo...  1.655242e+09   \n8472                                Clear cutting board  1.655241e+09   \n8495                                      Peel a potato  1.655241e+09   \n8516             Pour water from a pitcher into a glass  1.655242e+09   \n8521                                Clear cutting board  1.655240e+09   \n\n              stop  start_frame  stop_frame  \\\n28    1.655241e+09        67147       67445   \n31    1.655242e+09        91439       91736   \n34    1.655241e+09        54012       54308   \n56    1.655242e+09        76353       76650   \n63    1.655241e+09        47338       47635   \n...            ...          ...         ...   \n8461  1.655242e+09        94874       95171   \n8472  1.655241e+09        54792       55088   \n8495  1.655241e+09        46499       46796   \n8516  1.655242e+09        73459       73707   \n8521  1.655240e+09        34189       34486   \n\n                                                   verb  verb_class  \n28                        Spread jelly on a bread slice           7  \n31     Stack on table: 3 each large/small plates, bowls          16  \n34                                       Slice a potato           4  \n56         Get items from refrigerator/cabinets/drawers           0  \n63                                        Peel a potato           3  \n...                                                 ...         ...  \n8461  Load dishwasher: 3 each large/small plates, bo...          17  \n8472                                Clear cutting board          18  \n8495                                      Peel a potato           3  \n8516             Pour water from a pitcher into a glass           9  \n8521                                Clear cutting board          18  \n\n[735 rows x 10 columns]",
      "text/html": "<div>\n<style scoped>\n    .dataframe tbody tr th:only-of-type {\n        vertical-align: middle;\n    }\n\n    .dataframe tbody tr th {\n        vertical-align: top;\n    }\n\n    .dataframe thead th {\n        text-align: right;\n    }\n</style>\n<table border=\"1\" class=\"dataframe\">\n  <thead>\n    <tr style=\"text-align: right;\">\n      <th></th>\n      <th>uid</th>\n      <th>participant_id</th>\n      <th>video_id</th>\n      <th>narration</th>\n      <th>start</th>\n      <th>stop</th>\n      <th>start_frame</th>\n      <th>stop_frame</th>\n      <th>verb</th>\n      <th>verb_class</th>\n    </tr>\n  </thead>\n  <tbody>\n    <tr>\n      <th>28</th>\n      <td>3344</td>\n      <td>S04</td>\n      <td>S04_1</td>\n      <td>Spread jelly on a bread slice</td>\n      <td>1.655241e+09</td>\n      <td>1.655241e+09</td>\n      <td>67147</td>\n      <td>67445</td>\n      <td>Spread jelly on a bread slice</td>\n      <td>7</td>\n    </tr>\n    <tr>\n      <th>31</th>\n      <td>3486</td>\n      <td>S04</td>\n      <td>S04_1</td>\n      <td>Stack on table: 3 each large/small plates, bowls</td>\n      <td>1.655242e+09</td>\n      <td>1.655242e+09</td>\n      <td>91439</td>\n      <td>91736</td>\n      <td>Stack on table: 3 each large/small plates, bowls</td>\n      <td>16</td>\n    </tr>\n    <tr>\n      <th>34</th>\n      <td>3127</td>\n      <td>S04</td>\n      <td>S04_1</td>\n      <td>Slice a potato</td>\n      <td>1.655241e+09</td>\n      <td>1.655241e+09</td>\n      <td>54012</td>\n      <td>54308</td>\n      <td>Slice a potato</td>\n      <td>4</td>\n    </tr>\n    <tr>\n      <th>56</th>\n      <td>3417</td>\n      <td>S04</td>\n      <td>S04_1</td>\n      <td>Get items from refrigerator/cabinets/drawers</td>\n      <td>1.655242e+09</td>\n      <td>1.655242e+09</td>\n      <td>76353</td>\n      <td>76650</td>\n      <td>Get items from refrigerator/cabinets/drawers</td>\n      <td>0</td>\n    </tr>\n    <tr>\n      <th>63</th>\n      <td>3014</td>\n      <td>S04</td>\n      <td>S04_1</td>\n      <td>Peel a potato</td>\n      <td>1.655241e+09</td>\n      <td>1.655241e+09</td>\n      <td>47338</td>\n      <td>47635</td>\n      <td>Peel a potato</td>\n      <td>3</td>\n    </tr>\n    <tr>\n      <th>...</th>\n      <td>...</td>\n      <td>...</td>\n      <td>...</td>\n      <td>...</td>\n      <td>...</td>\n      <td>...</td>\n      <td>...</td>\n      <td>...</td>\n      <td>...</td>\n      <td>...</td>\n    </tr>\n    <tr>\n      <th>8461</th>\n      <td>3511</td>\n      <td>S04</td>\n      <td>S04_1</td>\n      <td>Load dishwasher: 3 each large/small plates, bo...</td>\n      <td>1.655242e+09</td>\n      <td>1.655242e+09</td>\n      <td>94874</td>\n      <td>95171</td>\n      <td>Load dishwasher: 3 each large/small plates, bo...</td>\n      <td>17</td>\n    </tr>\n    <tr>\n      <th>8472</th>\n      <td>3148</td>\n      <td>S04</td>\n      <td>S04_1</td>\n      <td>Clear cutting board</td>\n      <td>1.655241e+09</td>\n      <td>1.655241e+09</td>\n      <td>54792</td>\n      <td>55088</td>\n      <td>Clear cutting board</td>\n      <td>18</td>\n    </tr>\n    <tr>\n      <th>8495</th>\n      <td>3010</td>\n      <td>S04</td>\n      <td>S04_1</td>\n      <td>Peel a potato</td>\n      <td>1.655241e+09</td>\n      <td>1.655241e+09</td>\n      <td>46499</td>\n      <td>46796</td>\n      <td>Peel a potato</td>\n      <td>3</td>\n    </tr>\n    <tr>\n      <th>8516</th>\n      <td>3408</td>\n      <td>S04</td>\n      <td>S04_1</td>\n      <td>Pour water from a pitcher into a glass</td>\n      <td>1.655242e+09</td>\n      <td>1.655242e+09</td>\n      <td>73459</td>\n      <td>73707</td>\n      <td>Pour water from a pitcher into a glass</td>\n      <td>9</td>\n    </tr>\n    <tr>\n      <th>8521</th>\n      <td>2885</td>\n      <td>S04</td>\n      <td>S04_1</td>\n      <td>Clear cutting board</td>\n      <td>1.655240e+09</td>\n      <td>1.655240e+09</td>\n      <td>34189</td>\n      <td>34486</td>\n      <td>Clear cutting board</td>\n      <td>18</td>\n    </tr>\n  </tbody>\n</table>\n<p>735 rows × 10 columns</p>\n</div>"
     },
     "execution_count": 89,
     "metadata": {},
     "output_type": "execute_result"
    }
   ],
   "source": [
    "data2 = pd.read_pickle('action_net_annotations_training/S04_train.pkl')\n",
    "\n",
    "data2"
   ],
   "metadata": {
    "collapsed": false,
    "ExecuteTime": {
     "end_time": "2024-04-16T18:48:58.051184Z",
     "start_time": "2024-04-16T18:48:58.042866Z"
    }
   },
   "id": "4e8ead40275eea2c",
   "execution_count": 89
  },
  {
   "cell_type": "code",
   "outputs": [],
   "source": [],
   "metadata": {
    "collapsed": false
   },
   "id": "932fda86f0900592"
  }
 ],
 "metadata": {
  "kernelspec": {
   "display_name": "Python 3",
   "language": "python",
   "name": "python3"
  },
  "language_info": {
   "codemirror_mode": {
    "name": "ipython",
    "version": 2
   },
   "file_extension": ".py",
   "mimetype": "text/x-python",
   "name": "python",
   "nbconvert_exporter": "python",
   "pygments_lexer": "ipython2",
   "version": "2.7.6"
  }
 },
 "nbformat": 4,
 "nbformat_minor": 5
}
